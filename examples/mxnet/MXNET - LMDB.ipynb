{
 "cells": [
  {
   "cell_type": "code",
   "execution_count": 1,
   "metadata": {},
   "outputs": [
    {
     "data": {
      "text/html": [
       "<style>.container { width:100% !important; }</style>"
      ],
      "text/plain": [
       "<IPython.core.display.HTML object>"
      ]
     },
     "metadata": {},
     "output_type": "display_data"
    }
   ],
   "source": [
    "from IPython.core.display import display, HTML\n",
    "display(HTML(\"<style>.container { width:100% !important; }</style>\"))"
   ]
  },
  {
   "cell_type": "code",
   "execution_count": 2,
   "metadata": {},
   "outputs": [],
   "source": [
    "from ndll.pipeline import Pipeline\n",
    "import ndll.ops as ops\n",
    "import ndll.types as types\n",
    "import ndll.tfrecord as tfrec\n",
    "import numpy as np\n",
    "from timeit import default_timer as timer\n",
    "import numpy as np\n",
    "import matplotlib.pyplot as plt\n",
    "\n",
    "db_folder = \"/data/imagenet/train-c2lmdb-480\"\n",
    "\n",
    "class HybridPipe(Pipeline):\n",
    "    def __init__(self, batch_size, num_threads, device_id, num_gpus, pipelined = True, async = True):\n",
    "        super(HybridPipe, self).__init__(batch_size, num_threads, device_id, pipelined, async)\n",
    "        self.input = ops.Caffe2Reader(path = db_folder, shard_id = device_id, num_shards = num_gpus)\n",
    "        self.huffman = ops.HuffmanDecoder()\n",
    "        self.idct = ops.DCTQuantInv(device = \"gpu\", output_type = types.RGB)\n",
    "        self.resize = ops.Resize(device = \"gpu\", random_resize = True,\n",
    "                                 resize_a = 256, resize_b = 480,\n",
    "                                 image_type = types.RGB,\n",
    "                                 interp_type = types.INTERP_LINEAR)\n",
    "        self.cmnp = ops.CropMirrorNormalizePermute(device = \"gpu\",\n",
    "                                                   output_type = types.FLOAT,\n",
    "                                                   random_crop = True,\n",
    "                                                   crop_h = 224,\n",
    "                                                   crop_w = 224,\n",
    "                                                   image_type = types.RGB,\n",
    "                                                   mean = [128., 128., 128.],\n",
    "                                                   std = [1., 1., 1.])\n",
    "        self.cast = ops.Cast(dtype = types.FLOAT)\n",
    "        self.iter = 0\n",
    "\n",
    "    def define_graph(self):\n",
    "        inputs, labels = self.input(name=\"Reader\")\n",
    "        dct_coeff, jpeg_meta = self.huffman(inputs)\n",
    "        images = self.idct(dct_coeff.gpu(), jpeg_meta)\n",
    "        images = self.resize(images)\n",
    "        output = self.cmnp(images)\n",
    "        return (output, self.cast(labels))\n",
    "\n",
    "    def iter_setup(self):\n",
    "        pass"
   ]
  },
  {
   "cell_type": "code",
   "execution_count": 3,
   "metadata": {},
   "outputs": [],
   "source": [
    "N = 8\n",
    "pipes = [HybridPipe(batch_size=128, num_threads=1, device_id = i, num_gpus = N, pipelined = True, async = True) for i in range(N)]"
   ]
  },
  {
   "cell_type": "code",
   "execution_count": 4,
   "metadata": {},
   "outputs": [],
   "source": [
    "pipes[0].build()"
   ]
  },
  {
   "cell_type": "code",
   "execution_count": 5,
   "metadata": {},
   "outputs": [],
   "source": [
    "from ndll.plugin.mxnet import NDLLIterator\n",
    "ndll_iter = NDLLIterator(pipes, pipes[0].epoch_size(\"Reader\"))"
   ]
  },
  {
   "cell_type": "code",
   "execution_count": 6,
   "metadata": {
    "scrolled": true
   },
   "outputs": [
    {
     "name": "stderr",
     "output_type": "stream",
     "text": [
      "INFO:root:start with arguments Namespace(batch_size=1024, benchmark=0, data_nthreads=2, data_train='/data/imagenet/train-480-val-256-recordio/train.rec', data_train_idx='', data_val='/data/imagenet/train-480-val-256-recordio/val.rec', data_val_idx='', disp_batches=100, dtype='float16', gc_threshold=0.5, gc_type='none', gpus='0,1,2,3,4,5,6,7', image_shape='3,224,224', kv_store='device', load_epoch=None, lr=0.1, lr_factor=0.1, lr_step_epochs='30,60', max_random_aspect_ratio=0.25, max_random_h=0, max_random_l=0, max_random_rotate_angle=0, max_random_s=0, max_random_scale=1, max_random_shear_ratio=0.0, min_random_scale=0.533, model_prefix=None, mom=0.9, monitor=0, network='resnet-v1', num_classes=1000, num_epochs=1, num_examples=1281167, num_layers=50, optimizer='sgd', pad_size=0, random_crop=1, random_mirror=1, rgb_mean='123.68,116.779,103.939', test_io=0, top_k=0, wd=0.0001)\n",
      "INFO:root:Epoch[0] Batch [100]\tSpeed: 1648.95 samples/sec\taccuracy=0.001499\n",
      "INFO:root:Epoch[0] Batch [200]\tSpeed: 4909.21 samples/sec\taccuracy=0.002490\n",
      "INFO:root:Epoch[0] Batch [300]\tSpeed: 5223.74 samples/sec\taccuracy=0.005020\n",
      "INFO:root:Epoch[0] Batch [400]\tSpeed: 5310.61 samples/sec\taccuracy=0.010166\n",
      "INFO:root:Epoch[0] Batch [500]\tSpeed: 5406.47 samples/sec\taccuracy=0.013564\n",
      "INFO:root:Epoch[0] Batch [600]\tSpeed: 5444.21 samples/sec\taccuracy=0.020801\n",
      "INFO:root:Epoch[0] Batch [700]\tSpeed: 5471.39 samples/sec\taccuracy=0.029600\n",
      "INFO:root:Epoch[0] Batch [800]\tSpeed: 5480.12 samples/sec\taccuracy=0.038555\n",
      "INFO:root:Epoch[0] Batch [900]\tSpeed: 5468.85 samples/sec\taccuracy=0.049287\n",
      "INFO:root:Epoch[0] Batch [1000]\tSpeed: 5499.75 samples/sec\taccuracy=0.056855\n",
      "INFO:root:Epoch[0] Batch [1100]\tSpeed: 5508.05 samples/sec\taccuracy=0.068105\n",
      "INFO:root:Epoch[0] Batch [1200]\tSpeed: 5569.48 samples/sec\taccuracy=0.078320\n",
      "INFO:root:Epoch[0] Train-accuracy=0.086359\n",
      "INFO:root:Epoch[0] Time cost=290.349\n"
     ]
    }
   ],
   "source": [
    "import os\n",
    "import argparse\n",
    "import logging\n",
    "logging.basicConfig(level=logging.DEBUG)\n",
    "from demo.common import find_mxnet, data, fit\n",
    "import mxnet as mx\n",
    "\n",
    "s = ['--gpu', '0,1,2,3,4,5,6,7',\n",
    "     '--batch-size', '1024',\n",
    "     '--num-epochs', '1',\n",
    "     '--data-train', '/data/imagenet/train-480-val-256-recordio/train.rec',\n",
    "     '--data-val', '/data/imagenet/train-480-val-256-recordio/val.rec',\n",
    "     '--disp-batches', '100',\n",
    "     '--network', 'resnet-v1',\n",
    "     '--num-layers', '50',\n",
    "     '--data-nthreads', '2',\n",
    "     '--min-random-scale', '0.533',\n",
    "     '--max-random-shear-ratio', '0',\n",
    "     '--max-random-rotate-angle', '0',\n",
    "     '--max-random-h', '0',\n",
    "     '--max-random-l', '0',\n",
    "     '--max-random-s', '0',\n",
    "     '--dtype', 'float16']\n",
    "\n",
    "# parse args\n",
    "parser = argparse.ArgumentParser(description=\"train imagenet-1k\",\n",
    "                                     formatter_class=argparse.ArgumentDefaultsHelpFormatter)\n",
    "fit.add_fit_args(parser)\n",
    "data.add_data_args(parser)\n",
    "data.add_data_aug_args(parser)\n",
    "# use a large aug level\n",
    "data.set_data_aug_level(parser, 3)\n",
    "parser.set_defaults(\n",
    "        # network\n",
    "        network          = 'resnet',\n",
    "        num_layers       = 50,\n",
    "        # data\n",
    "        num_classes      = 1000,\n",
    "        num_examples     = 1281167,\n",
    "        image_shape      = '3,224,224',\n",
    "        min_random_scale = 1, # if input image has min size k, suggest to use\n",
    "                              # 256.0/x, e.g. 0.533 for 480\n",
    "        # train\n",
    "        num_epochs       = 80,\n",
    "        lr_step_epochs   = '30,60',\n",
    "        dtype            = 'float32'\n",
    "    )\n",
    "args = parser.parse_args(s)\n",
    "\n",
    "\n",
    "# load network\n",
    "from importlib import import_module\n",
    "net = import_module('demo.symbols.'+args.network)\n",
    "sym = net.get_symbol(1000, 50, \"3,224,224\", dtype='float16')\n",
    "\n",
    "def get_ndll_iter(args, kv=None):\n",
    "    return (ndll_iter, None)\n",
    "\n",
    "# train\n",
    "#fit.fit(args, sym, data.get_rec_iter)\n",
    "fit.fit(args, sym, get_ndll_iter)"
   ]
  },
  {
   "cell_type": "code",
   "execution_count": null,
   "metadata": {},
   "outputs": [],
   "source": []
  }
 ],
 "metadata": {
  "kernelspec": {
   "display_name": "Python 2",
   "language": "python",
   "name": "python2"
  },
  "language_info": {
   "codemirror_mode": {
    "name": "ipython",
    "version": 2
   },
   "file_extension": ".py",
   "mimetype": "text/x-python",
   "name": "python",
   "nbconvert_exporter": "python",
   "pygments_lexer": "ipython2",
   "version": "2.7.12"
  }
 },
 "nbformat": 4,
 "nbformat_minor": 2
}

{
 "cells": [
  {
   "cell_type": "code",
   "execution_count": 11,
   "metadata": {},
   "outputs": [
    {
     "data": {
      "text/plain": [
       "['/opt/ndll/examples/recordio/val.idx']"
      ]
     },
     "execution_count": 11,
     "metadata": {},
     "output_type": "execute_result"
    }
   ],
   "source": [
    "import tensorflow as tf\n",
    "\n",
    "from ndll.pipeline import Pipeline\n",
    "import ndll.ops as ops\n",
    "import ndll.types as types\n",
    "import ndll.tfrecord as tfrec\n",
    "import numpy as np\n",
    "from timeit import default_timer as timer\n",
    "import numpy as np\n",
    "\n",
    "#base = \"/data/imagenet/train-val-recordio-256/\"\n",
    "base = '/opt/ndll/examples/recordio/'\n",
    "idx_files = [base + \"val.idx\"]\n",
    "rec_files = [base + \"val.rec\"]\n",
    "idx_files"
   ]
  },
  {
   "cell_type": "code",
   "execution_count": 9,
   "metadata": {},
   "outputs": [],
   "source": [
    "class HybridPipe(Pipeline):\n",
    "    def __init__(self, batch_size, num_threads, device_id, num_gpus, pipelined = True, async = True):\n",
    "        super(HybridPipe, self).__init__(batch_size, num_threads, device_id, pipelined, async)\n",
    "        self.input = ops.MXNetReader(path = rec_files, index_path = idx_files, shard_id = device_id, num_shards = num_gpus)\n",
    "\n",
    "        self.huffman = ops.HuffmanDecoder()\n",
    "        self.idct = ops.DCTQuantInv(device = \"gpu\", output_type = types.RGB)\n",
    "        self.resize = ops.Resize(device = \"gpu\", random_resize = True,\n",
    "                                 resize_a = 256, resize_b = 480,\n",
    "                                 image_type = types.RGB,\n",
    "                                 interp_type = types.INTERP_LINEAR)\n",
    "        self.cmn = ops.CropMirrorNormalize(device = \"gpu\",\n",
    "                                            output_type = types.FLOAT,\n",
    "                                            random_crop = True,\n",
    "                                            crop = (224, 224),\n",
    "                                            image_type = types.RGB,\n",
    "                                            mean = [128., 128., 128.],\n",
    "                                            std = [1., 1., 1.])\n",
    "        self.iter = 0\n",
    "\n",
    "    def define_graph(self):\n",
    "        inputs, labels = self.input(name=\"Reader\")\n",
    "        dct_coeff, jpeg_meta = self.huffman(inputs)\n",
    "        images = self.idct(dct_coeff.gpu(), jpeg_meta)\n",
    "        images = self.resize(images)\n",
    "        output = self.cmn(images)\n",
    "        return (output, labels)\n",
    "\n",
    "    def iter_setup(self):\n",
    "        pass"
   ]
  },
  {
   "cell_type": "code",
   "execution_count": 10,
   "metadata": {},
   "outputs": [],
   "source": [
    "pipe = HybridPipe(batch_size=128, num_threads=2, device_id = 0, num_gpus = 1, pipelined = True, async = True)\n",
    "pipe.build()"
   ]
  },
  {
   "cell_type": "code",
   "execution_count": null,
   "metadata": {},
   "outputs": [],
   "source": []
  }
 ],
 "metadata": {
  "kernelspec": {
   "display_name": "Python 2",
   "language": "python",
   "name": "python2"
  },
  "language_info": {
   "codemirror_mode": {
    "name": "ipython",
    "version": 2
   },
   "file_extension": ".py",
   "mimetype": "text/x-python",
   "name": "python",
   "nbconvert_exporter": "python",
   "pygments_lexer": "ipython2",
   "version": "2.7.12"
  }
 },
 "nbformat": 4,
 "nbformat_minor": 2
}

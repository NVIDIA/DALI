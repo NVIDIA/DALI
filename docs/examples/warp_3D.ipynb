{
 "cells": [
  {
   "cell_type": "markdown",
   "metadata": {},
   "source": [
    "# 3D Transforms\n",
    "\n",
    "In this example we demonstrate 3D WarpAffine and Rotate.\n",
    "\n",
    "## Warp operators\n",
    "All warp operators work by caclulating the output pixels by sampling the source image at transformed coordinates:\n",
    "\n",
    "$${Out}(x, y, z) = {In}(x_{src}, y_{src}, z_{src})$$\n",
    "\n",
    "This way each output pixel is calculated exactly once.\n",
    "\n",
    "If the source coordinates do not point exactly to pixel centers, the values of neighboring pixels will be interpolated or the nearest pixel is taken, depending on the interpolation method specified in the `interp_type` argument.\n",
    "\n",
    "### Affine transform\n",
    "\n",
    "The source sample coordinates $x_{src}, y_{src}, z_{src}$ are calculated according to the formula:\n",
    "\n",
    "$$\n",
    "\\begin{vmatrix}\n",
    "x_{src} \\\\\n",
    "y_{src} \\\\\n",
    "z_{src}\n",
    "\\end{vmatrix}\n",
    "= \\begin{vmatrix}\n",
    "m_{00} & m_{01} & m_{02} & t_x \\\\\n",
    "m_{10} & m_{11} & m_{12} & t_y \\\\\n",
    "m_{20} & m_{21} & m_{22} & t_z\n",
    "\\end{vmatrix}\n",
    "\\begin{vmatrix}\n",
    "{x} \\\\\n",
    "{y} \\\\\n",
    "{z} \\\\\n",
    "1\n",
    "\\end{vmatrix}\n",
    "$$\n",
    "\n",
    "Where $x, y$ are coordinates of the destination pixel and the matrix represents the inverse (destination to source) affine transform. The \n",
    "$\\begin{vmatrix}\n",
    "m_{00} & m_{01} & m_{02} \\\\\n",
    "m_{10} & m_{11} & m_{12} \\\\\n",
    "m_{20} & m_{21} & m_{22}\n",
    "\\end{vmatrix}$ block represents a combined rotate/scale/shear transform and $t_x, t_y, t_z$ is a translation vector.\n",
    "\n",
    "### 3D Rotation\n",
    "\n",
    "Rotate operator is implemented in terms of affine transform, but calculates the transform matrix internally. The output size is automatically adjusted and the size parity is adjusted to reduce blur near the volume centre. The rotation is defined by specifying axis (as a vector) and angle (in degrees).\n",
    "\n",
    "The rotation matrix (source-to-destination) is calculated as:\n",
    "\n",
    "$$\n",
    "\\begin{vmatrix}\n",
    "u^2 + (v^2 + w^2) \\cdot \\cos \\alpha &\n",
    "uv\\cdot(1-\\cos \\alpha) - w\\cdot \\sin \\alpha &\n",
    "uw\\cdot(1-\\cos \\alpha) + v\\cdot \\sin \\alpha \\\\\n",
    "uv\\cdot(1-\\cos \\alpha) - w\\cdot \\sin \\alpha &\n",
    "v^2 + (u^2 + w^2) \\cdot \\cos \\alpha &\n",
    "vw\\cdot(1-\\cos \\alpha) - u\\cdot \\sin \\alpha \\\\\n",
    "uw\\cdot(1-\\cos \\alpha) - v\\cdot \\sin \\alpha &\n",
    "vw\\cdot(1-\\cos \\alpha + u\\cdot \\sin \\alpha &\n",
    "w^2 + (u^2 + w^2) \\cdot \\cos \\alpha\n",
    "\\end{vmatrix}\n",
    "$$\n",
    "\n",
    "where $u, v, w$ is normalized `axis` vector and $\\alpha$ is `angle` converted from degrees to radians.\n",
    "\n",
    "Note that internally, the inverse matrix is used to achieve destination-to-source mapping, which is how the operation is actually implemented."
   ]
  },
  {
   "cell_type": "markdown",
   "metadata": {},
   "source": [
    "## Usage example\n",
    "\n",
    "First, let's import the necessary modules."
   ]
  },
  {
   "cell_type": "code",
   "execution_count": 1,
   "metadata": {},
   "outputs": [],
   "source": [
    "from __future__ import division\n",
    "from nvidia.dali.pipeline import Pipeline\n",
    "import nvidia.dali.ops as ops\n",
    "import nvidia.dali.types as types\n",
    "import numpy as np\n",
    "import matplotlib.pyplot as plt\n",
    "import math\n",
    "import os.path"
   ]
  },
  {
   "cell_type": "markdown",
   "metadata": {},
   "source": [
    "Let's define some volumetric test data. To make the data easy to interpret visually, the volume is mostly empty, with only the voxels lying at a cube's edges set to a color changing along Z axis from green to violet."
   ]
  },
  {
   "cell_type": "code",
   "execution_count": 2,
   "metadata": {},
   "outputs": [],
   "source": [
    "nvidia_green = [0x76,0xb9,0x00]\n",
    "violet = [0xff - 0x76, 0xff - 0xb9, 0xff]\n",
    "\n",
    "def lerp(a, b, w):\n",
    "    return a*(1-w)+b*w\n",
    "\n",
    "def build_cube(output_shape, size, color_front = nvidia_green, color_back = violet):\n",
    "    color_front = np.array(color_front)\n",
    "    color_back = np.array(color_back)\n",
    "    arr = np.zeros(output_shape + [3], np.uint8)\n",
    "    lo = (np.array(output_shape) - np.array(size)) * 0.5\n",
    "    hi = (np.array(output_shape) + np.array(size)) * 0.5\n",
    "    dims = len(output_shape)\n",
    "    for d in range(dims):\n",
    "        for c in range(int(np.rint(lo[d])), int(np.rint(hi[d]))):\n",
    "            d0 = 0\n",
    "            d1 = 1\n",
    "            if d == 0:\n",
    "                d0 = 1\n",
    "                d1 = 2\n",
    "            elif d == 1:\n",
    "                d0 = 0\n",
    "                d1 = 2\n",
    "            p = [int(x) for x in lo]\n",
    "            def color():\n",
    "                return lerp(color_front, color_back, (p[0]-lo[0])/(hi[0]-lo[0]))\n",
    "\n",
    "            p[d] = c\n",
    "            arr[p[0], p[1], p[2], :] = color()\n",
    "            p[d0] = int(np.rint(hi[d0]))\n",
    "            arr[p[0], p[1], p[2], :] = color()\n",
    "            p[d1] = int(np.rint(hi[d1]))\n",
    "            arr[p[0], p[1], p[2], :] = color()\n",
    "            p[d0] = int(np.rint(lo[d0]))\n",
    "            arr[p[0], p[1], p[2], :] = color()\n",
    "    return arr"
   ]
  },
  {
   "cell_type": "markdown",
   "metadata": {},
   "source": [
    "Now, let's define the pipeline. The transform parameters are hard-coded, but axis, angle and matrix arguments can be specified as CPU tensors. The warp matrices can alternatively be passed as a regular input to the WarpAffine operator, in which case they can be passed as a GPU tensor.\n",
    "See Warp example for exact usage."
   ]
  },
  {
   "cell_type": "code",
   "execution_count": 3,
   "metadata": {},
   "outputs": [],
   "source": [
    "class ExamplePipeline(Pipeline):\n",
    "    def __init__(self, batch_size, num_threads, device_id, pipelined = True, exec_async = True):\n",
    "        super(ExamplePipeline, self).__init__(\n",
    "            batch_size, num_threads, device_id,\n",
    "            seed = 12, exec_pipelined=pipelined, exec_async=exec_async)\n",
    "        \n",
    "        self.input = ops.ExternalSource()\n",
    "       \n",
    "        self.rotate_gpu = ops.Rotate(\n",
    "            device = \"gpu\",\n",
    "            axis = (0.5,1,1),\n",
    "            angle = 30,\n",
    "            interp_type = types.INTERP_LINEAR\n",
    "        )\n",
    "        self.rotate_cpu = ops.Rotate(\n",
    "            device = \"cpu\",\n",
    "            axis = (0.5,1,1),\n",
    "            angle = 30,\n",
    "            interp_type = types.INTERP_LINEAR\n",
    "        )\n",
    "        self.warp_gpu = ops.WarpAffine(\n",
    "            device = \"gpu\",\n",
    "            size = (256, 256, 400),\n",
    "            matrix = (\n",
    "                1, 1, 0,   -200,\n",
    "                0, 1, 0.2, -20,\n",
    "                0, 0, 1,   10\n",
    "            ),\n",
    "            interp_type = types.INTERP_LINEAR\n",
    "        )\n",
    "        \n",
    "    # Then, we can tie the operators together to form a graph\n",
    "        \n",
    "    def define_graph(self):\n",
    "        self.data = self.input()\n",
    "        outputs = [self.data.gpu()]\n",
    "        # pass the transform parameters through GPU memory\n",
    "        outputs += [self.rotate_gpu(self.data.gpu()),\n",
    "                    self.rotate_cpu(self.data).gpu(),\n",
    "                    self.warp_gpu(self.data.gpu())]\n",
    "\n",
    "        return outputs\n",
    "    \n",
    "    # Since we're using ExternalSource, we need to feed the externally provided data to the pipeline\n",
    "    \n",
    "    def iter_setup(self):\n",
    "        # Generate the transforms for the batch and feed them to the ExternalSource\n",
    "        self.feed_input(self.data, [build_cube([128,128,128],[80,80,80]), build_cube([160,160,160],[80,120,80])])    "
   ]
  },
  {
   "cell_type": "markdown",
   "metadata": {},
   "source": [
    "The pipeline class is now ready to use - we need to construct and build it before we run it."
   ]
  },
  {
   "cell_type": "code",
   "execution_count": 4,
   "metadata": {
    "scrolled": false
   },
   "outputs": [],
   "source": [
    "batch_size = 2\n",
    "pipe = ExamplePipeline(batch_size=batch_size, num_threads=2, device_id = 0)\n",
    "pipe.build()"
   ]
  },
  {
   "cell_type": "markdown",
   "metadata": {},
   "source": [
    "Finally, we can call `run` on our pipeline to obtain the first batch of preprocessed images."
   ]
  },
  {
   "cell_type": "code",
   "execution_count": 5,
   "metadata": {},
   "outputs": [],
   "source": [
    "pipe_out = pipe.run()"
   ]
  },
  {
   "cell_type": "markdown",
   "metadata": {},
   "source": [
    "## Example output\n",
    "\n",
    "Now that we've processed the first batch of images, let's see the results. The output is projected by taking maximum intensity values along projection direction.\n",
    "\n",
    "We use a perspective projection and the projected volume is displayed in left-handed coordinates, with X axis pointing right, Y axis pointing up and Z axis pointing away from the viewer."
   ]
  },
  {
   "cell_type": "code",
   "execution_count": 6,
   "metadata": {},
   "outputs": [
    {
     "data": {
      "image/png": "[encoded data removed]",
      "text/plain": [
       "<Figure size 1152x1296 with 4 Axes>"
      ]
     },
     "metadata": {
      "needs_background": "light"
     },
     "output_type": "display_data"
    }
   ],
   "source": [
    "n = 1  # change this value to see other images from the batch;\n",
    "       # it must be in 0..batch_size-1 range\n",
    "    \n",
    "import cv2\n",
    "    \n",
    "def centered_scale(in_size, out_size, scale):\n",
    "    tx = (in_size[1]-out_size[1]/scale)/2\n",
    "    ty = (in_size[0]-out_size[0]/scale)/2\n",
    "    return np.array([[1/scale, 0, tx],\n",
    "                     [0, 1/scale, ty]])\n",
    "\n",
    "def project_volume(volume, out_size, eye_z, fovx = 90, zstep = 0.25):\n",
    "    output = np.zeros(out_size + [volume.shape[-1]])\n",
    "    in_size = volume.shape[1:3]\n",
    "    fovx_z = math.tan(math.radians(fovx/2)) * volume.shape[2] / out_size[1]\n",
    "\n",
    "    def project_slice(volume, plane_z):\n",
    "        plane_index = int(plane_z)\n",
    "        volume_slice = volume[plane_index]\n",
    "        scale = volume_slice.shape[1] / fov_w\n",
    "        M = centered_scale(in_size, out_size, scale)\n",
    "        return cv2.warpAffine(volume_slice, M,\n",
    "                              dsize = (out_size[1], out_size[0]),\n",
    "                              flags = cv2.WARP_INVERSE_MAP+cv2.INTER_LINEAR)\n",
    "\n",
    "    for plane_z in np.arange(0, volume.shape[0], zstep):\n",
    "        z = plane_z - eye_z\n",
    "        fov_w = z * fovx_z\n",
    "        z0 = np.clip(math.floor(plane_z), 0, volume.shape[0]-1)\n",
    "        z1 = np.clip(math.ceil(plane_z), 0, volume.shape[0]-1)\n",
    "        projected_slice = project_slice(volume, z0)\n",
    "        # trilinear interpolation\n",
    "        if z1 != z0:\n",
    "            slice1 = project_slice(volume, z1)\n",
    "            q = (plane_z - np.floor(plane_z))\n",
    "            projected_slice = (projected_slice * (1-q) + slice1*q).astype(np.uint8)\n",
    "\n",
    "        np.maximum(output, projected_slice, out = output)\n",
    "\n",
    "    return output\n",
    "\n",
    "\n",
    "import matplotlib.gridspec as gridspec\n",
    "\n",
    "len_outputs = len(pipe_out)\n",
    "\n",
    "captions = [\"original\",\n",
    "            \"rotated (gpu)\", \"rotated (cpu)\", \"warp affine (gpu)\"]\n",
    "\n",
    "fig = plt.figure(figsize = (16,18))\n",
    "plt.suptitle(\"3D transforms\", fontsize=16)\n",
    "columns = 2\n",
    "rows = int(math.ceil(len_outputs / columns))\n",
    "gs = gridspec.GridSpec(rows, columns)\n",
    "\n",
    "for i in range(len_outputs):\n",
    "    plt.subplot(gs[i])\n",
    "    plt.axis(\"off\")\n",
    "    plt.title(captions[i])\n",
    "    pipe_out_cpu = pipe_out[i].as_cpu()\n",
    "    volume = pipe_out_cpu.at(n)\n",
    "    window_size = 300\n",
    "    (h, w) = volume.shape[1:3]\n",
    "    if h > w:\n",
    "        w = window_size * w // h\n",
    "        h = window_size\n",
    "    else:\n",
    "        h = window_size * h // w\n",
    "        w = window_size\n",
    "    img = project_volume(volume, [h,w], -volume.shape[2]) * (1 / 255.0)\n",
    "    \n",
    "    # Display in left-handed coordinates:\n",
    "    # X axis points right\n",
    "    # Y axis points up\n",
    "    # Z axis points away\n",
    "    plt.imshow(img, origin='lower')"
   ]
  }
 ],
 "metadata": {
  "kernelspec": {
   "display_name": "Python 3",
   "language": "python",
   "name": "python3"
  },
  "language_info": {
   "codemirror_mode": {
    "name": "ipython",
    "version": 3
   },
   "file_extension": ".py",
   "mimetype": "text/x-python",
   "name": "python",
   "nbconvert_exporter": "python",
   "pygments_lexer": "ipython3",
   "version": "3.6.9"
  }
 },
 "nbformat": 4,
 "nbformat_minor": 2
}

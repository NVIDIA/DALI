{
 "cells": [
  {
   "cell_type": "markdown",
   "metadata": {},
   "source": [
    "# Using DALI in Catalyst \n"
   ]
  },
  {
   "cell_type": "code",
   "execution_count": 1,
   "id": "backed-cleaners",
   "metadata": {},
   "outputs": [],
   "source": [
    "from nvidia.dali.pipeline import Pipeline\n",
    "from nvidia.dali import pipeline_def\n",
    "import nvidia.dali as dali\n",
    "import nvidia.dali.fn as fn\n",
    "import nvidia.dali.types as types\n",
    "from torch.utils.data import DataLoader\n",
    "from nvidia.dali.plugin.pytorch import DALIGenericIterator, LastBatchPolicy"
   ]
  },
  {
   "cell_type": "code",
   "execution_count": 2,
   "id": "hybrid-southeast",
   "metadata": {},
   "outputs": [
    {
     "data": {
      "text/plain": [
       "'1.7.0'"
      ]
     },
     "execution_count": 2,
     "metadata": {},
     "output_type": "execute_result"
    }
   ],
   "source": [
    "dali.__version__"
   ]
  },
  {
   "cell_type": "markdown",
   "id": "liked-causing",
   "metadata": {},
   "source": [
    "### To get test data you need to use [DALI extra](https://github.com/NVIDIA/DALI_extra)."
   ]
  },
  {
   "cell_type": "code",
   "execution_count": 3,
   "id": "creative-apache",
   "metadata": {},
   "outputs": [],
   "source": [
    "# define pipeline\n",
    "data_paths = {\n",
    "    'train': 'DALI_extra/db/MNIST/training/',\n",
    "    'valid': 'DALI_extra/db/MNIST/testing/',\n",
    "}\n",
    "\n",
    "@pipeline_def\n",
    "def MNISTPipeline(device, shard_id, num_shards):\n",
    "    images, labels = fn.readers.caffe2(path = data_paths[mode], shard_id = shard_id, num_shards = num_shards, random_shuffle = True, name = 'Reader')\n",
    "    images = fn.decoders.image(images,\n",
    "                               device = 'mixed' if device == 'gpu' else 'cpu',\n",
    "                               output_type = types.GRAY)\n",
    "    images = fn.crop_mirror_normalize(images,\n",
    "                                      device=\"gpu\",\n",
    "                                      dtype=types.FLOAT,\n",
    "                                      std=[0.3081 * 255],\n",
    "                                      mean=[0.1307 * 255],\n",
    "                                      output_layout=types.NCHW)\n",
    "\n",
    "    if device == 'gpu':\n",
    "        labels = labels.gpu()\n",
    "    labels = fn.cast(labels, dtype=types.INT64)\n",
    "    return images, labels"
   ]
  },
  {
   "cell_type": "code",
   "execution_count": 4,
   "id": "ranging-lingerie",
   "metadata": {},
   "outputs": [],
   "source": [
    "# Customizing DALI loader for using in catalyst.\n",
    "class DALILoader(DataLoader):\n",
    "    def __init__(\n",
    "            self,\n",
    "            mode = 'train',\n",
    "            batch_size = 32,\n",
    "            num_workers = 4,\n",
    "        ):\n",
    "        super().__init__()\n",
    "    def setup(self, stage = None):\n",
    "        device_id = self.local_rank\n",
    "        shard_id = self.global_rank\n",
    "        num_shards = self.trainer.world_size\n",
    "        self.pipeline = MNISTPipeline(mode = mode,\n",
    "                                 batch_size = 32,\n",
    "                                 device = 'gpu',\n",
    "                                 device_id = device_id,\n",
    "                                 shard_id = shard_id,\n",
    "                                 num_shards = num_shards,\n",
    "                                 num_threads = 4)\n",
    "        self.pipeline.build()\n",
    "        self.loader = DALIGenericIterator(\n",
    "            pipelines=self.pipeline,\n",
    "            output_map=['features', 'targets'],\n",
    "            reader_name = \"Reader\",\n",
    "            auto_reset=True,\n",
    "            last_batch_policy=LastBatchPolicy.PARTIAL,\n",
    "        )\n",
    "        \n",
    "    def __len__(self):\n",
    "        return len(self.loader)\n",
    "    \n",
    "    def __iter__(self):\n",
    "        return ({'features': batch[0][\"features\"], 'targets': batch[0][\"targets\"].squeeze().long()} for batch in self.loader)\n",
    "    \n",
    "    def sampler(self):\n",
    "        return None\n",
    "    \n",
    "    def batch_sampler(self):\n",
    "        return None"
   ]
  },
  {
   "cell_type": "code",
   "execution_count": 5,
   "id": "artificial-layer",
   "metadata": {},
   "outputs": [],
   "source": [
    "import os\n",
    "import torch\n",
    "from torch import nn, optim\n",
    "from torch.utils.data import DataLoader, TensorDataset\n",
    "from catalyst import dl"
   ]
  },
  {
   "cell_type": "code",
   "execution_count": 6,
   "id": "leading-supervisor",
   "metadata": {},
   "outputs": [
    {
     "name": "stderr",
     "output_type": "stream",
     "text": [
      "/home/codespace/.local/lib/python3.8/site-packages/torch/utils/data/dataloader.py:478: UserWarning: This DataLoader will create 8 worker processes in total. Our suggested max number of worker in current system is 4, which is smaller than what this DataLoader is going to create. Please be aware that excessive worker creation might get DataLoader running slow or even freeze, lower the worker number to avoid potential slowness/freeze if necessary.\n",
      "  warnings.warn(_create_warning_msg(\n"
     ]
    }
   ],
   "source": [
    "num_samples, num_features = int(1e4), int(1e1)\n",
    "X, y = torch.rand(num_samples, num_features), torch.rand(num_samples, 1)\n",
    "dataset = TensorDataset(X, y)\n",
    "loader = DataLoader(dataset, batch_size=32, num_workers=8)\n",
    "loaders = {\"train\": loader, \"valid\": loader}\n",
    "\n",
    "model = nn.Sequential(nn.Flatten(), nn.Linear(28 * 28, 10))\n",
    "criterion = nn.CrossEntropyLoss()\n",
    "optimizer = optim.Adam(model.parameters(), lr=0.02)"
   ]
  },
  {
   "cell_type": "code",
   "execution_count": null,
   "id": "boolean-directive",
   "metadata": {
    "scrolled": false
   },
   "outputs": [],
   "source": [
    "runner = dl.SupervisedRunner()\n",
    "\n",
    "runner.train(\n",
    "    model=model,\n",
    "    criterion=criterion,\n",
    "    optimizer=optimizer,\n",
    "    loaders=loaders,\n",
    "    num_epochs=1,\n",
    "    logdir=\"./logs\",\n",
    "    valid_loader=\"valid\",\n",
    "    valid_metric=\"loss\",\n",
    "    minimize_valid_metric=True,\n",
    "    verbose=True,\n",
    "    callbacks=[\n",
    "        dl.AccuracyCallback(input_key=\"logits\", target_key=\"targets\", num_classes=10),\n",
    "    ]\n",
    ")"
   ]
  }
 ],
 "metadata": {
  "interpreter": {
   "hash": "916dbcbb3f70747c44a77c7bcd40155683ae19c65e1c03b4aa3499c5328201f1"
  },
  "kernelspec": {
   "display_name": "Python 3.8.10 64-bit",
   "name": "python3"
  },
  "language_info": {
   "codemirror_mode": {
    "name": "ipython",
    "version": 3
   },
   "file_extension": ".py",
   "mimetype": "text/x-python",
   "name": "python",
   "nbconvert_exporter": "python",
   "pygments_lexer": "ipython3",
   "version": "3.8.10"
  }
 },
 "nbformat": 4,
 "nbformat_minor": 5
}

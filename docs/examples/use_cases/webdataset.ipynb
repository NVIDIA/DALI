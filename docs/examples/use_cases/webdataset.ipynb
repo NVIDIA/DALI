{
 "cells": [
  {
   "cell_type": "markdown",
   "id": "87c07b3c",
   "metadata": {},
   "source": [
    "# WebDataset reader\n",
    "Here is an example of how one may combine the webdataset (source: https://github.com/webdataset/webdataset) with the DALI pipeline"
   ]
  },
  {
   "cell_type": "code",
   "execution_count": 1,
   "id": "8b488055",
   "metadata": {},
   "outputs": [],
   "source": [
    "import nvidia.dali.fn as fn\n",
    "import nvidia.dali as dali\n",
    "import webdataset as wds\n",
    "import numpy as np\n",
    "import matplotlib.pyplot as plt\n",
    "import glob\n",
    "import os\n",
    "import random\n",
    "\n",
    "root_path = os.path.join(os.environ[\"DALI_EXTRA_PATH\"], \"db\", \"webdataset\")\n",
    "tar_dataset_paths = [os.path.join(root_path, data_file) \n",
    "                        for data_file in [\"devel-0.tar\", \"devel-1.tar\", \"devel-2.tar\"]]\n",
    "\n",
    "folder_dataset_files = sorted(glob.glob(os.path.join(root_path, \"devel-[012]\", \"*.jpg\")), \n",
    "                              key = lambda s: (\n",
    "                                  s[:s.rfind('/')],\n",
    "                                  int(s[s.rfind('/') + 1:s.find(\".jpg\")])\n",
    "                              )) # For lexicographical order of files"
   ]
  },
  {
   "cell_type": "markdown",
   "id": "0b704af8",
   "metadata": {},
   "source": [
    "## Defining the reader\n",
    "Below is a generator used for the buffered shuffling of the reader"
   ]
  },
  {
   "cell_type": "code",
   "execution_count": 2,
   "id": "694b063f",
   "metadata": {},
   "outputs": [],
   "source": [
    "def buffered_shuffle(generator, initial_fill, seed):\n",
    "    assert(initial_fill > 0)\n",
    "    buffer = []\n",
    "    \n",
    "    # Holds a separate random lib state to avoid side effects\n",
    "    random_current_state = random.getstate()\n",
    "    random.seed(seed)\n",
    "    random_state = random.getstate()\n",
    "    random.setstate(random_current_state)\n",
    "    \n",
    "    try:\n",
    "        while len(buffer) < initial_fill: # Fills in the random buffer\n",
    "            buffer.append(next(generator))\n",
    "\n",
    "\n",
    "        while True: # Selects a random sample from the buffer and then fills it back in with a new one\n",
    "            \n",
    "            # Holds a separate random lib state to avoid side effects\n",
    "            random_current_state = random.getstate()\n",
    "            random.setstate(random_state)\n",
    "            idx = random.randint(0, initial_fill-1)\n",
    "            random_state = random.getstate()\n",
    "            random.setstate(random_current_state)\n",
    "\n",
    "            yield buffer[idx]\n",
    "            buffer[idx] = next(generator)\n",
    "            \n",
    "    except StopIteration: # When the generator runs out of the samples flushes our the buffer\n",
    "        \n",
    "        # Holds a separate random lib state to avoid side effects\n",
    "        random_current_state = random.getstate()\n",
    "        random.setstate(random_state)\n",
    "        random.shuffle(buffer)\n",
    "        random.setstate(random_current_state)\n",
    "\n",
    "        while buffer:\n",
    "            yield buffer[-1]\n",
    "            buffer.pop()\n",
    "            "
   ]
  },
  {
   "cell_type": "markdown",
   "id": "db398cb7",
   "metadata": {},
   "source": [
    "This is a generator for filling in the last batch with the repetition of the last sample"
   ]
  },
  {
   "cell_type": "code",
   "execution_count": 3,
   "id": "88313637",
   "metadata": {},
   "outputs": [],
   "source": [
    "def last_batch_padding(generator, batch_size):\n",
    "    in_batch_idx = 0\n",
    "    last_item = None\n",
    "    try:\n",
    "        while True: # Keeps track of the last sample and the sample number mod batch_size\n",
    "            last_item = next(generator)\n",
    "            in_batch_idx += 1\n",
    "            if in_batch_idx >= batch_size:\n",
    "                in_batch_idx -= batch_size\n",
    "            yield last_item\n",
    "    except StopIteration: # Repeats the last sample the necessary number of times\n",
    "        while in_batch_idx < batch_size:\n",
    "            yield last_item\n",
    "            in_batch_idx += 1"
   ]
  },
  {
   "cell_type": "markdown",
   "id": "00cf9719",
   "metadata": {},
   "source": [
    "This is a generator for supporting continuous data yielding"
   ]
  },
  {
   "cell_type": "code",
   "execution_count": 4,
   "id": "bbc95e78",
   "metadata": {},
   "outputs": [],
   "source": [
    "def cycle_generator(dataset_generator):\n",
    "    dataset = dataset_generator()\n",
    "    while True:\n",
    "        try:\n",
    "            while True:\n",
    "                yield next(dataset)\n",
    "        except StopIteration:\n",
    "            dataset = dataset_generator()"
   ]
  },
  {
   "cell_type": "markdown",
   "id": "94cfebc0",
   "metadata": {},
   "source": [
    "And finally the reader"
   ]
  },
  {
   "cell_type": "code",
   "execution_count": 5,
   "id": "72b6126a",
   "metadata": {},
   "outputs": [],
   "source": [
    "def read_webdataset(\n",
    "    paths, \n",
    "    extensions=None,\n",
    "    random_shuffle=False, \n",
    "    initial_fill=16, \n",
    "    seed=123,\n",
    "    pad_last_batch=False,\n",
    "    read_ahead=False\n",
    "):\n",
    "    if extensions == None:\n",
    "        extensions = ';'.join([\"jpg\", \"jpeg\", \"img\", \"image\", \"pbm\", \"pgm\", \"png\"]) # All supported image formats\n",
    "    if type(extensions) == str:\n",
    "        extensions = (extensions,)\n",
    "    \n",
    "    dataset_generator = lambda: iter(\n",
    "        wds.WebDataset(paths, shardshuffle=False)\n",
    "        .to_tuple(*extensions)\n",
    "        .map_tuple(*((\n",
    "            lambda data: np.frombuffer(data, dtype=np.uint8),)\n",
    "            *len(extensions)))\n",
    "        )\n",
    "    \n",
    "    dataset = dataset_generator()\n",
    "    \n",
    "    if not read_ahead: # if read_ahead is False the cycling is handled by the external generator\n",
    "        dataset = cycle_generator(dataset_generator)\n",
    "    \n",
    "    if random_shuffle:\n",
    "        dataset = buffered_shuffle(dataset, initial_fill, seed)\n",
    "        \n",
    "    if pad_last_batch:\n",
    "        dataset = last_batch_padding(dataset, dali.pipeline.Pipeline.current().max_batch_size)\n",
    "    \n",
    "    if read_ahead:\n",
    "        dataset=list(dataset)\n",
    "    \n",
    "    return fn.external_source(\n",
    "        source=dataset, \n",
    "        num_outputs=len(extensions),\n",
    "        batch=False,\n",
    "        cycle=read_ahead # if read_ahead is True then the cycling is handled by external source\n",
    "    )"
   ]
  },
  {
   "cell_type": "markdown",
   "id": "aaf7c152",
   "metadata": {},
   "source": [
    "We also define a sample data augmentation function for later usage"
   ]
  },
  {
   "cell_type": "code",
   "execution_count": 6,
   "id": "677153ed",
   "metadata": {},
   "outputs": [],
   "source": [
    "def decode_augment(img, seed=123):\n",
    "    img = fn.decoders.image(img)\n",
    "    img = fn.jitter(img.gpu(), seed=seed)\n",
    "    img = fn.resize(img, size = (224, 224))\n",
    "    return img"
   ]
  },
  {
   "cell_type": "markdown",
   "id": "61a6424b",
   "metadata": {},
   "source": [
    "## Reader features presentation\n",
    "Below we define a sample pipeline with our external source reader"
   ]
  },
  {
   "cell_type": "code",
   "execution_count": 7,
   "id": "e598d5a4",
   "metadata": {},
   "outputs": [],
   "source": [
    "@dali.pipeline_def(batch_size=16, num_threads=4, device_id=0)\n",
    "def webdataset_pipeline(\n",
    "    paths,\n",
    "    random_shuffle=False, \n",
    "    initial_fill=16, \n",
    "    seed=123,\n",
    "    pad_last_batch=False,\n",
    "    read_ahead=False\n",
    "):\n",
    "    img, label = read_webdataset(paths=paths, \n",
    "                                 extensions=(\"jpg\", \"cls\"),\n",
    "                                 random_shuffle=random_shuffle,\n",
    "                                 initial_fill=initial_fill,\n",
    "                                 seed=seed,\n",
    "                                 pad_last_batch=pad_last_batch,\n",
    "                                 read_ahead=read_ahead)\n",
    "    return decode_augment(img, seed=seed), label"
   ]
  },
  {
   "cell_type": "markdown",
   "id": "2471a67e",
   "metadata": {},
   "source": [
    "Which can be then built"
   ]
  },
  {
   "cell_type": "code",
   "execution_count": 8,
   "id": "f25ce3c7",
   "metadata": {},
   "outputs": [],
   "source": [
    "pipeline = webdataset_pipeline(\n",
    "    tar_dataset_paths,   # Paths for the sharded dataset\n",
    "    random_shuffle=True, # Random buffered shuffling on\n",
    "    initial_fill=64,     # The random shuffling buffer\n",
    "    pad_last_batch=True, # Last batch is filled to the full size\n",
    "    read_ahead=True)     # All the data is preloaded into the memory\n",
    "pipeline.build()"
   ]
  },
  {
   "cell_type": "markdown",
   "id": "597a1fad",
   "metadata": {},
   "source": [
    "And executed"
   ]
  },
  {
   "cell_type": "code",
   "execution_count": 9,
   "id": "e1bb6317",
   "metadata": {},
   "outputs": [
    {
     "name": "stdout",
     "output_type": "stream",
     "text": [
      "3\n"
     ]
    },
    {
     "data": {
      "image/png": "[encoded data removed]",
      "text/plain": [
       "<Figure size 432x288 with 1 Axes>"
      ]
     },
     "metadata": {
      "needs_background": "light"
     },
     "output_type": "display_data"
    }
   ],
   "source": [
    "img, c = pipeline.run()\n",
    "img = img.as_cpu()\n",
    "print(int(bytes(c.as_array()[2]))) # Conversion from an array of bytes back to bytes and then to int\n",
    "plt.imshow(img.as_array()[2])\n",
    "plt.show()"
   ]
  },
  {
   "cell_type": "markdown",
   "id": "ff940410",
   "metadata": {},
   "source": [
    "## Checking consistency\n",
    "We can then compare our pipeline with a one that uses a predefined reader\n",
    "\n",
    "First let's define the pipeline to compare against"
   ]
  },
  {
   "cell_type": "code",
   "execution_count": 10,
   "id": "4162dd6b",
   "metadata": {},
   "outputs": [],
   "source": [
    "@dali.pipeline_def(batch_size=16, num_threads=4, device_id=0)\n",
    "def file_pipeline(files):\n",
    "    img, _ = fn.readers.file(files=files)\n",
    "    return decode_augment(img)"
   ]
  },
  {
   "cell_type": "markdown",
   "id": "d57395a5",
   "metadata": {},
   "source": [
    "Then let's instantiate and build both pipelines"
   ]
  },
  {
   "cell_type": "code",
   "execution_count": 11,
   "id": "63c25cee",
   "metadata": {},
   "outputs": [],
   "source": [
    "webdataset_pipeline_instance = webdataset_pipeline(tar_dataset_paths, random_shuffle=True, initial_fill=1)\n",
    "webdataset_pipeline_instance.build()\n",
    "file_pipeline_instance = file_pipeline(folder_dataset_files)\n",
    "file_pipeline_instance.build()"
   ]
  },
  {
   "cell_type": "markdown",
   "id": "40482fae",
   "metadata": {},
   "source": [
    "And run the comparison loop"
   ]
  },
  {
   "cell_type": "code",
   "execution_count": 12,
   "id": "52a77689",
   "metadata": {},
   "outputs": [
    {
     "name": "stdout",
     "output_type": "stream",
     "text": [
      "No difference found!\n"
     ]
    }
   ],
   "source": [
    "for _ in range(1000):\n",
    "    webdataset_pipeline_threw_exception = False\n",
    "    file_pipeline_threw_exception = False\n",
    "    \n",
    "    try:\n",
    "        web_img, _ = webdataset_pipeline_instance.run()\n",
    "    except StopIteration:\n",
    "        webdataset_pipeline_threw_exception = True\n",
    "    \n",
    "    try:\n",
    "        (file_img,) = file_pipeline_instance.run()\n",
    "    except StopIteration:\n",
    "        file_pipeline_threw_exception = True\n",
    "    \n",
    "    # In case of different number of batches\n",
    "    if webdataset_pipeline_threw_exception != file_pipeline_threw_exception:\n",
    "        print(\"Found a difference between the readers!\")\n",
    "        break\n",
    "\n",
    "    web_img = web_img.as_cpu().as_array()\n",
    "    file_img = file_img.as_cpu().as_array()\n",
    "\n",
    "    if (web_img != file_img).any():\n",
    "        print(\"Found a difference between the readers!\")\n",
    "        break\n",
    "else:\n",
    "    print(\"No difference found!\")"
   ]
  }
 ],
 "metadata": {
  "kernelspec": {
   "display_name": "Python 3 (ipykernel)",
   "language": "python",
   "name": "python3"
  },
  "language_info": {
   "codemirror_mode": {
    "name": "ipython",
    "version": 3
   },
   "file_extension": ".py",
   "mimetype": "text/x-python",
   "name": "python",
   "nbconvert_exporter": "python",
   "pygments_lexer": "ipython3",
   "version": "3.8.10"
  }
 },
 "nbformat": 4,
 "nbformat_minor": 5
}

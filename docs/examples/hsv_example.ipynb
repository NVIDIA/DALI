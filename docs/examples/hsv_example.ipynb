{
 "cells": [
  {
   "cell_type": "code",
   "execution_count": 1,
   "metadata": {},
   "outputs": [],
   "source": [
    "from nvidia.dali.pipeline import Pipeline\n",
    "import nvidia.dali.ops as ops            \n",
    "import nvidia.dali.types as types\n",
    "\n",
    "batch_size = 1\n",
    "image_filename = \"images\""
   ]
  },
  {
   "cell_type": "code",
   "execution_count": 2,
   "metadata": {},
   "outputs": [],
   "source": [
    "class HsvPipeline(Pipeline):                   \n",
    "    def __init__(self, device, batch_size, num_threads, device_id):\n",
    "        super(HsvPipeline, self).__init__(batch_size, num_threads, device_id, seed=12)\n",
    "        self.input = ops.FileReader(device=\"cpu\",file_root=image_filename)\n",
    "        self.decode = ops.ImageDecoder(device = \"mixed\", output_type = types.RGB)\n",
    "        self.hsv = ops.Hsv(device = device, hue_delta = 30, saturation_delta = 1, value_delta = .6, output_type = types.RGB)\n",
    "\n",
    "    def define_graph(self):                                                                \n",
    "        read, _ = self.input()\n",
    "        image = self.decode(read)\n",
    "        converted = self.hsv(image.gpu())\n",
    "        return image, converted"
   ]
  },
  {
   "cell_type": "code",
   "execution_count": 3,
   "metadata": {},
   "outputs": [],
   "source": [
    "pipegpu = HsvPipeline(device = \"gpu\", batch_size=batch_size, num_threads=1, device_id = 0)\n",
    "pipegpu.build()                                                        \n"
   ]
  },
  {
   "cell_type": "code",
   "execution_count": null,
   "metadata": {},
   "outputs": [],
   "source": [
    "pipegpu_out = pipegpu.run()"
   ]
  },
  {
   "cell_type": "code",
   "execution_count": null,
   "metadata": {},
   "outputs": [],
   "source": [
    "def display(pipe_out):\n",
    "    import matplotlib.pyplot as plt\n",
    "    img1 = pipe_out[0].at(0)\n",
    "    img2 = pipe_out[1].at(0)\n",
    "    fig, ax = plt.subplots(1,2)\n",
    "    ax[0].imshow(img1);\n",
    "    ax[1].imshow(img2);"
   ]
  },
  {
   "cell_type": "code",
   "execution_count": null,
   "metadata": {},
   "outputs": [],
   "source": [
    "display(pipegpu_out)"
   ]
  },
  {
   "cell_type": "code",
   "execution_count": null,
   "metadata": {},
   "outputs": [],
   "source": []
  }
 ],
 "metadata": {
  "kernelspec": {
   "display_name": "Python 3",
   "language": "python",
   "name": "python3"
  },
  "language_info": {
   "codemirror_mode": {
    "name": "ipython",
    "version": 3
   },
   "file_extension": ".py",
   "mimetype": "text/x-python",
   "name": "python",
   "nbconvert_exporter": "python",
   "pygments_lexer": "ipython3",
   "version": "3.6.7"
  }
 },
 "nbformat": 4,
 "nbformat_minor": 2
}

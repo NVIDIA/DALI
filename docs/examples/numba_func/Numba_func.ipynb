{
 "cells": [
  {
   "cell_type": "markdown",
   "id": "rolled-hello",
   "metadata": {},
   "source": [
    "# Numba func - C Callback function\n",
    "\n",
    "This tutorial presents, how to set up a simple pipeline, that rotate images using numba_func operator.\n",
    "This operator is a way for invoking user defined python code using DALI pipeline for allocating resources.\n",
    "\n",
    "Operator is depending on Numba support https://numba.pydata.org/ which translate python and numpy code into LLVM code\n",
    "which allows to reduce python interpreter overhead or completely eliminate it.\n",
    "\n",
    "## Step-by-Step Guide\n",
    "1. Let's start by importing DALI and a handful of utils."
   ]
  },
  {
   "cell_type": "code",
   "execution_count": 11,
   "id": "billion-lawsuit",
   "metadata": {},
   "outputs": [],
   "source": [
    "from numba import cfunc, types, carray\n",
    "\n",
    "from nvidia.dali import pipeline_def\n",
    "import nvidia.dali as dali\n",
    "import nvidia.dali.fn as fn\n",
    "import nvidia.dali.types as dali_types\n",
    "import nvidia.dali.numba_func as dali_numba\n",
    "\n",
    "image_dir = \"../data/images\"\n",
    "max_batch_size = 8"
   ]
  },
  {
   "cell_type": "markdown",
   "id": "steady-impact",
   "metadata": {},
   "source": [
    "2. Next, we need to implement setup function for our operator. In setup function you are allowed to set output shapes basing on input shapes as well as set output data type."
   ]
  },
  {
   "cell_type": "code",
   "execution_count": 13,
   "id": "confused-muscle",
   "metadata": {},
   "outputs": [],
   "source": [
    "@cfunc(dali_numba.setup_fn_sig(types.int64, types.int64), nopython=True)\n",
    "def rot_image_setup(out_shape_ptr, out1_ndim, out_dtype, in_shape_ptr, in1_ndim, in_dtype, num_samples):\n",
    "    in_arr = carray(in_shape_ptr, num_samples * out1_ndim)\n",
    "    out_arr = carray(out_shape_ptr, num_samples * in1_ndim)\n",
    "    out_type = carray(out_dtype, 1)\n",
    "    out_type[0] = in_dtype\n",
    "    for i in range(0, num_samples * out1_ndim, 3):\n",
    "        out_arr[i] = in_arr[i + 1]\n",
    "        out_arr[i + 1] = in_arr[i]\n",
    "        out_arr[i + 2] = in_arr[i + 2]"
   ]
  },
  {
   "cell_type": "markdown",
   "id": "taken-shield",
   "metadata": {},
   "source": [
    "To learn more about cfunc you should go straight to [numba documentation](https://numba.pydata.org/numba-doc/latest/user/cfunc.html).\n",
    "\n",
    "`setup_fn_sig` will provide a function signature. As an arguments it takes respectively outputs and inputs types."
   ]
  }
 ],
 "metadata": {
  "kernelspec": {
   "display_name": "Python 3",
   "language": "python",
   "name": "python3"
  },
  "language_info": {
   "codemirror_mode": {
    "name": "ipython",
    "version": 3
   },
   "file_extension": ".py",
   "mimetype": "text/x-python",
   "name": "python",
   "nbconvert_exporter": "python",
   "pygments_lexer": "ipython3",
   "version": "3.6.9"
  }
 },
 "nbformat": 4,
 "nbformat_minor": 5
}

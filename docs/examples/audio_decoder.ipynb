{
 "cells": [
  {
   "cell_type": "markdown",
   "metadata": {},
   "source": [
    "# Audio Decoder in DALI\n",
    "\n",
    "This tutorial presents, how to set up a simple pipeline, that loads and decodes audio data using DALI. We will use a simple example from Speech Commands Data Set. While this dataset consists of samples in .wav format, the following procedure can be used for most of the well-known digital audio coding formats as well.\n",
    "\n",
    "## Step-by-step guide\n",
    "1. Let's start by importing DALI and a handful of utils."
   ]
  },
  {
   "cell_type": "code",
   "execution_count": 1,
   "metadata": {},
   "outputs": [],
   "source": [
    "from nvidia.dali.pipeline import Pipeline\n",
    "import nvidia.dali.ops as ops            \n",
    "import nvidia.dali.types as types\n",
    "import matplotlib.pyplot as plt\n",
    "import numpy as np\n",
    "\n",
    "batch_size = 1\n",
    "audio_files = \"audio\""
   ]
  },
  {
   "cell_type": "markdown",
   "metadata": {},
   "source": [
    "used `batch_size` is `1`, to keep things simple.\n",
    "\n",
    "2. Next, let's implement the pipeline. Firstly, we need to load data from disk (or any other source). FileReader is able to load data, as well as it's labels. For more information, refer to FileReader docs. Furthermore, similarly to image data, you can use Reader operators that are specific for a given dataset or a dataset format (see [CaffeReader](https://docs.nvidia.com/deeplearning/sdk/dali-developer-guide/docs/supported_ops.html#nvidia.dali.ops.CaffeReader)). After loading the input data, the pipeline decodes the audio data. As stated above, the AudioDecoder operator is able to decode most of the well-known audio formats.\n",
    "   \n",
    "   Note: Please remember that you shall pass proper data type (argument `dtype`) to the operator. Supported data types can be found in the documentation. If you have 24-bit audio data and you set `dtype=INT16`, it will result in loosing some information from the samples. The default `dtype` for this operator is `INT16`"
   ]
  },
  {
   "cell_type": "code",
   "execution_count": 2,
   "metadata": {},
   "outputs": [],
   "source": [
    "class AudioDecoderExample(Pipeline):                   \n",
    "    def __init__(self, batch_size, num_threads, device_id):\n",
    "        super(AudioDecoderExample, self).__init__(batch_size, num_threads, device_id)\n",
    "        self.input = ops.FileReader(device=\"cpu\", file_root=audio_files)\n",
    "        self.decode = ops.AudioDecoder(device=\"cpu\", dtype=types.FLOAT, sampling_rate=-1)\n",
    "\n",
    "    def define_graph(self):                                                                \n",
    "        read, _ = self.input()\n",
    "        audio, rate = self.decode(read)\n",
    "        return audio, rate"
   ]
  },
  {
   "cell_type": "markdown",
   "metadata": {},
   "source": [
    "3. Now let's just build and run the pipeline."
   ]
  },
  {
   "cell_type": "code",
   "execution_count": 3,
   "metadata": {},
   "outputs": [
    {
     "ename": "RuntimeError",
     "evalue": "[/home/mszolucha/workspace/DALI/dali/pipeline/operator/op_schema.cc:127] Assert on \"HasArgument(name)\" failed: Argument \"sampling_rate\" is not supported by operator \"AudioDecoder\".\nStacktrace (100 entries):\n[frame 0]: /home/mszolucha/workspace/DALI/build/dali/python/nvidia/dali/libdali.so(+0x139673) [0x7f252e881673]\n[frame 1]: /home/mszolucha/workspace/DALI/build/dali/python/nvidia/dali/libdali.so(dali::OpSchema::GetArgumentType(std::__cxx11::basic_string<char, std::char_traits<char>, std::allocator<char> > const&) const+0x1c8) [0x7f252e986400]\n[frame 2]: /home/mszolucha/virtualenv/dali/lib/python3.6/site-packages/nvidia/dali/backend_impl.cpython-36m-x86_64-linux-gnu.so(+0x10b883) [0x7f253c335883]\n[frame 3]: /home/mszolucha/virtualenv/dali/lib/python3.6/site-packages/nvidia/dali/backend_impl.cpython-36m-x86_64-linux-gnu.so(+0x15c29d) [0x7f253c38629d]\n[frame 4]: /home/mszolucha/virtualenv/dali/lib/python3.6/site-packages/nvidia/dali/backend_impl.cpython-36m-x86_64-linux-gnu.so(+0x147612) [0x7f253c371612]\n[frame 5]: /home/mszolucha/virtualenv/dali/lib/python3.6/site-packages/nvidia/dali/backend_impl.cpython-36m-x86_64-linux-gnu.so(+0x12b1f0) [0x7f253c3551f0]\n[frame 6]: /home/mszolucha/virtualenv/dali/lib/python3.6/site-packages/nvidia/dali/backend_impl.cpython-36m-x86_64-linux-gnu.so(+0x12b28b) [0x7f253c35528b]\n[frame 7]: /home/mszolucha/virtualenv/dali/lib/python3.6/site-packages/nvidia/dali/backend_impl.cpython-36m-x86_64-linux-gnu.so(+0xc98c4) [0x7f253c2f38c4]\n[frame 8]: /home/mszolucha/virtualenv/dali/bin/python3(_PyCFunction_FastCallDict+0x35c) [0x565d5c]\n[frame 9]: /home/mszolucha/virtualenv/dali/bin/python3() [0x503073]\n[frame 10]: /home/mszolucha/virtualenv/dali/bin/python3(_PyEval_EvalFrameDefault+0x449) [0x506859]\n[frame 11]: /home/mszolucha/virtualenv/dali/bin/python3() [0x504c28]\n[frame 12]: /home/mszolucha/virtualenv/dali/bin/python3(_PyFunction_FastCallDict+0x2de) [0x501b2e]\n[frame 13]: /home/mszolucha/virtualenv/dali/bin/python3() [0x591461]\n[frame 14]: /home/mszolucha/virtualenv/dali/bin/python3() [0x54b813]\n[frame 15]: /home/mszolucha/virtualenv/dali/bin/python3() [0x555421]\n[frame 16]: /home/mszolucha/virtualenv/dali/bin/python3(_PyObject_FastCallKeywords+0x19c) [0x5a730c]\n[frame 17]: /home/mszolucha/virtualenv/dali/bin/python3() [0x503073]\n[frame 18]: /home/mszolucha/virtualenv/dali/bin/python3(_PyEval_EvalFrameDefault+0x1231) [0x507641]\n[frame 19]: /home/mszolucha/virtualenv/dali/bin/python3() [0x504c28]\n[frame 20]: /home/mszolucha/virtualenv/dali/bin/python3(_PyFunction_FastCallDict+0x2de) [0x501b2e]\n[frame 21]: /home/mszolucha/virtualenv/dali/bin/python3() [0x591461]\n[frame 22]: /home/mszolucha/virtualenv/dali/bin/python3() [0x54b813]\n[frame 23]: /home/mszolucha/virtualenv/dali/bin/python3() [0x555421]\n[frame 24]: /home/mszolucha/virtualenv/dali/bin/python3(_PyObject_FastCallKeywords+0x19c) [0x5a730c]\n[frame 25]: /home/mszolucha/virtualenv/dali/bin/python3() [0x503073]\n[frame 26]: /home/mszolucha/virtualenv/dali/bin/python3(_PyEval_EvalFrameDefault+0x1231) [0x507641]\n[frame 27]: /home/mszolucha/virtualenv/dali/bin/python3() [0x504c28]\n[frame 28]: /home/mszolucha/virtualenv/dali/bin/python3() [0x511eca]\n[frame 29]: /home/mszolucha/virtualenv/dali/bin/python3() [0x502d6f]\n[frame 30]: /home/mszolucha/virtualenv/dali/bin/python3(_PyEval_EvalFrameDefault+0x449) [0x506859]\n[frame 31]: /home/mszolucha/virtualenv/dali/bin/python3() [0x58c63a]\n[frame 32]: /home/mszolucha/virtualenv/dali/bin/python3(_PyEval_EvalFrameDefault+0x19f2) [0x507e02]\n[frame 33]: /home/mszolucha/virtualenv/dali/bin/python3() [0x58c63a]\n[frame 34]: /home/mszolucha/virtualenv/dali/bin/python3(_PyEval_EvalFrameDefault+0x19f2) [0x507e02]\n[frame 35]: /home/mszolucha/virtualenv/dali/bin/python3() [0x58c63a]\n[frame 36]: /home/mszolucha/virtualenv/dali/bin/python3() [0x502e0c]\n[frame 37]: /home/mszolucha/virtualenv/dali/bin/python3(_PyEval_EvalFrameDefault+0x449) [0x506859]\n[frame 38]: /home/mszolucha/virtualenv/dali/bin/python3() [0x502209]\n[frame 39]: /home/mszolucha/virtualenv/dali/bin/python3() [0x502f3d]\n[frame 40]: /home/mszolucha/virtualenv/dali/bin/python3(_PyEval_EvalFrameDefault+0x449) [0x506859]\n[frame 41]: /home/mszolucha/virtualenv/dali/bin/python3() [0x502209]\n[frame 42]: /home/mszolucha/virtualenv/dali/bin/python3() [0x502f3d]\n[frame 43]: /home/mszolucha/virtualenv/dali/bin/python3(_PyEval_EvalFrameDefault+0x449) [0x506859]\n[frame 44]: /home/mszolucha/virtualenv/dali/bin/python3() [0x504c28]\n[frame 45]: /home/mszolucha/virtualenv/dali/bin/python3(_PyFunction_FastCallDict+0x2de) [0x501b2e]\n[frame 46]: /home/mszolucha/virtualenv/dali/bin/python3() [0x591461]\n[frame 47]: /home/mszolucha/virtualenv/dali/bin/python3(PyObject_Call+0x3e) [0x59ebbe]\n[frame 48]: /home/mszolucha/virtualenv/dali/bin/python3(_PyEval_EvalFrameDefault+0x1807) [0x507c17]\n[frame 49]: /home/mszolucha/virtualenv/dali/bin/python3() [0x504c28]\n[frame 50]: /home/mszolucha/virtualenv/dali/bin/python3() [0x502540]\n[frame 51]: /home/mszolucha/virtualenv/dali/bin/python3() [0x502f3d]\n[frame 52]: /home/mszolucha/virtualenv/dali/bin/python3(_PyEval_EvalFrameDefault+0x1231) [0x507641]\n[frame 53]: /home/mszolucha/virtualenv/dali/bin/python3() [0x58c63a]\n[frame 54]: /home/mszolucha/virtualenv/dali/bin/python3() [0x50e3f0]\n[frame 55]: /home/mszolucha/virtualenv/dali/bin/python3() [0x502d6f]\n[frame 56]: /home/mszolucha/virtualenv/dali/bin/python3(_PyEval_EvalFrameDefault+0x449) [0x506859]\n[frame 57]: /home/mszolucha/virtualenv/dali/bin/python3() [0x504c28]\n[frame 58]: /home/mszolucha/virtualenv/dali/bin/python3() [0x502540]\n[frame 59]: /home/mszolucha/virtualenv/dali/bin/python3() [0x502f3d]\n[frame 60]: /home/mszolucha/virtualenv/dali/bin/python3(_PyEval_EvalFrameDefault+0x449) [0x506859]\n[frame 61]: /home/mszolucha/virtualenv/dali/bin/python3() [0x58c63a]\n[frame 62]: /home/mszolucha/virtualenv/dali/bin/python3() [0x50e3f0]\n[frame 63]: /home/mszolucha/virtualenv/dali/bin/python3() [0x502d6f]\n[frame 64]: /home/mszolucha/virtualenv/dali/bin/python3(_PyEval_EvalFrameDefault+0x449) [0x506859]\n[frame 65]: /home/mszolucha/virtualenv/dali/bin/python3() [0x504c28]\n[frame 66]: /home/mszolucha/virtualenv/dali/bin/python3() [0x502540]\n[frame 67]: /home/mszolucha/virtualenv/dali/bin/python3() [0x502f3d]\n[frame 68]: /home/mszolucha/virtualenv/dali/bin/python3(_PyEval_EvalFrameDefault+0x449) [0x506859]\n[frame 69]: /home/mszolucha/virtualenv/dali/bin/python3() [0x58c63a]\n[frame 70]: /home/mszolucha/virtualenv/dali/bin/python3() [0x50e3f0]\n[frame 71]: /home/mszolucha/virtualenv/dali/bin/python3() [0x502d6f]\n[frame 72]: /home/mszolucha/virtualenv/dali/bin/python3(_PyEval_EvalFrameDefault+0x449) [0x506859]\n[frame 73]: /home/mszolucha/virtualenv/dali/bin/python3() [0x504c28]\n[frame 74]: /home/mszolucha/virtualenv/dali/bin/python3(_PyFunction_FastCallDict+0x2de) [0x501b2e]\n[frame 75]: /home/mszolucha/virtualenv/dali/bin/python3() [0x591461]\n[frame 76]: /home/mszolucha/virtualenv/dali/bin/python3(PyObject_Call+0x3e) [0x59ebbe]\n[frame 77]: /home/mszolucha/virtualenv/dali/bin/python3(_PyEval_EvalFrameDefault+0x1807) [0x507c17]\n[frame 78]: /home/mszolucha/virtualenv/dali/bin/python3() [0x58c5d8]\n[frame 79]: /home/mszolucha/virtualenv/dali/bin/python3() [0x502e0c]\n[frame 80]: /home/mszolucha/virtualenv/dali/bin/python3(_PyEval_EvalFrameDefault+0x449) [0x506859]\n[frame 81]: /home/mszolucha/virtualenv/dali/bin/python3() [0x502209]\n[frame 82]: /home/mszolucha/virtualenv/dali/bin/python3() [0x502f3d]\n[frame 83]: /home/mszolucha/virtualenv/dali/bin/python3(_PyEval_EvalFrameDefault+0x449) [0x506859]\n[frame 84]: /home/mszolucha/virtualenv/dali/bin/python3() [0x504c28]\n[frame 85]: /home/mszolucha/virtualenv/dali/bin/python3(_PyFunction_FastCallDict+0x2de) [0x501b2e]\n[frame 86]: /home/mszolucha/virtualenv/dali/bin/python3(_PyObject_FastCallDict+0x4f1) [0x5a36f1]\n[frame 87]: /home/mszolucha/virtualenv/dali/bin/python3() [0x5ef2fc]\n[frame 88]: /home/mszolucha/virtualenv/dali/bin/python3(_PyObject_FastCallKeywords+0x19c) [0x5a730c]\n[frame 89]: /home/mszolucha/virtualenv/dali/bin/python3() [0x503073]\n[frame 90]: /home/mszolucha/virtualenv/dali/bin/python3(_PyEval_EvalFrameDefault+0x449) [0x506859]\n[frame 91]: /home/mszolucha/virtualenv/dali/bin/python3() [0x502209]\n[frame 92]: /home/mszolucha/virtualenv/dali/bin/python3() [0x502f3d]\n[frame 93]: /home/mszolucha/virtualenv/dali/bin/python3(_PyEval_EvalFrameDefault+0x449) [0x506859]\n[frame 94]: /home/mszolucha/virtualenv/dali/bin/python3() [0x504c28]\n[frame 95]: /home/mszolucha/virtualenv/dali/bin/python3() [0x58644b]\n[frame 96]: /home/mszolucha/virtualenv/dali/bin/python3(PyObject_Call+0x3e) [0x59ebbe]\n[frame 97]: /home/mszolucha/virtualenv/dali/bin/python3(_PyEval_EvalFrameDefault+0x1807) [0x507c17]\n[frame 98]: /home/mszolucha/virtualenv/dali/bin/python3() [0x502209]\n[frame 99]: /home/mszolucha/virtualenv/dali/bin/python3() [0x502f3d]\n",
     "output_type": "error",
     "traceback": [
      "\u001b[0;31m---------------------------------------------------------------------------\u001b[0m",
      "\u001b[0;31mRuntimeError\u001b[0m                              Traceback (most recent call last)",
      "\u001b[0;32m<ipython-input-3-6b1cdafbeaed>\u001b[0m in \u001b[0;36m<module>\u001b[0;34m\u001b[0m\n\u001b[0;32m----> 1\u001b[0;31m \u001b[0mpipecpu\u001b[0m \u001b[0;34m=\u001b[0m \u001b[0mAudioDecoderExample\u001b[0m\u001b[0;34m(\u001b[0m\u001b[0mbatch_size\u001b[0m\u001b[0;34m=\u001b[0m\u001b[0mbatch_size\u001b[0m\u001b[0;34m,\u001b[0m \u001b[0mnum_threads\u001b[0m\u001b[0;34m=\u001b[0m\u001b[0;36m1\u001b[0m\u001b[0;34m,\u001b[0m \u001b[0mdevice_id\u001b[0m\u001b[0;34m=\u001b[0m\u001b[0;36m0\u001b[0m\u001b[0;34m)\u001b[0m\u001b[0;34m\u001b[0m\u001b[0;34m\u001b[0m\u001b[0m\n\u001b[0m\u001b[1;32m      2\u001b[0m \u001b[0mpipecpu\u001b[0m\u001b[0;34m.\u001b[0m\u001b[0mbuild\u001b[0m\u001b[0;34m(\u001b[0m\u001b[0;34m)\u001b[0m\u001b[0;34m\u001b[0m\u001b[0;34m\u001b[0m\u001b[0m\n\u001b[1;32m      3\u001b[0m \u001b[0mcpu_output\u001b[0m \u001b[0;34m=\u001b[0m \u001b[0mpipecpu\u001b[0m\u001b[0;34m.\u001b[0m\u001b[0mrun\u001b[0m\u001b[0;34m(\u001b[0m\u001b[0;34m)\u001b[0m\u001b[0;34m\u001b[0m\u001b[0;34m\u001b[0m\u001b[0m\n",
      "\u001b[0;32m<ipython-input-2-a54e251f4084>\u001b[0m in \u001b[0;36m__init__\u001b[0;34m(self, batch_size, num_threads, device_id)\u001b[0m\n\u001b[1;32m      3\u001b[0m         \u001b[0msuper\u001b[0m\u001b[0;34m(\u001b[0m\u001b[0mAudioDecoderExample\u001b[0m\u001b[0;34m,\u001b[0m \u001b[0mself\u001b[0m\u001b[0;34m)\u001b[0m\u001b[0;34m.\u001b[0m\u001b[0m__init__\u001b[0m\u001b[0;34m(\u001b[0m\u001b[0mbatch_size\u001b[0m\u001b[0;34m,\u001b[0m \u001b[0mnum_threads\u001b[0m\u001b[0;34m,\u001b[0m \u001b[0mdevice_id\u001b[0m\u001b[0;34m)\u001b[0m\u001b[0;34m\u001b[0m\u001b[0;34m\u001b[0m\u001b[0m\n\u001b[1;32m      4\u001b[0m         \u001b[0mself\u001b[0m\u001b[0;34m.\u001b[0m\u001b[0minput\u001b[0m \u001b[0;34m=\u001b[0m \u001b[0mops\u001b[0m\u001b[0;34m.\u001b[0m\u001b[0mFileReader\u001b[0m\u001b[0;34m(\u001b[0m\u001b[0mdevice\u001b[0m\u001b[0;34m=\u001b[0m\u001b[0;34m\"cpu\"\u001b[0m\u001b[0;34m,\u001b[0m \u001b[0mfile_root\u001b[0m\u001b[0;34m=\u001b[0m\u001b[0maudio_files\u001b[0m\u001b[0;34m)\u001b[0m\u001b[0;34m\u001b[0m\u001b[0;34m\u001b[0m\u001b[0m\n\u001b[0;32m----> 5\u001b[0;31m         \u001b[0mself\u001b[0m\u001b[0;34m.\u001b[0m\u001b[0mdecode\u001b[0m \u001b[0;34m=\u001b[0m \u001b[0mops\u001b[0m\u001b[0;34m.\u001b[0m\u001b[0mAudioDecoder\u001b[0m\u001b[0;34m(\u001b[0m\u001b[0mdevice\u001b[0m\u001b[0;34m=\u001b[0m\u001b[0;34m\"cpu\"\u001b[0m\u001b[0;34m,\u001b[0m \u001b[0mdtype\u001b[0m\u001b[0;34m=\u001b[0m\u001b[0mtypes\u001b[0m\u001b[0;34m.\u001b[0m\u001b[0mFLOAT\u001b[0m\u001b[0;34m,\u001b[0m \u001b[0msampling_rate\u001b[0m\u001b[0;34m=\u001b[0m\u001b[0;34m-\u001b[0m\u001b[0;36m1\u001b[0m\u001b[0;34m)\u001b[0m\u001b[0;34m\u001b[0m\u001b[0;34m\u001b[0m\u001b[0m\n\u001b[0m\u001b[1;32m      6\u001b[0m \u001b[0;34m\u001b[0m\u001b[0m\n\u001b[1;32m      7\u001b[0m     \u001b[0;32mdef\u001b[0m \u001b[0mdefine_graph\u001b[0m\u001b[0;34m(\u001b[0m\u001b[0mself\u001b[0m\u001b[0;34m)\u001b[0m\u001b[0;34m:\u001b[0m\u001b[0;34m\u001b[0m\u001b[0;34m\u001b[0m\u001b[0m\n",
      "\u001b[0;32m~/virtualenv/dali/lib/python3.6/site-packages/nvidia/dali/ops.py\u001b[0m in \u001b[0;36m__init__\u001b[0;34m(self, **kwargs)\u001b[0m\n\u001b[1;32m    281\u001b[0m                   \u001b[0;32mcontinue\u001b[0m\u001b[0;34m\u001b[0m\u001b[0;34m\u001b[0m\u001b[0m\n\u001b[1;32m    282\u001b[0m \u001b[0;34m\u001b[0m\u001b[0m\n\u001b[0;32m--> 283\u001b[0;31m                 \u001b[0mdtype\u001b[0m \u001b[0;34m=\u001b[0m \u001b[0mself\u001b[0m\u001b[0;34m.\u001b[0m\u001b[0m_schema\u001b[0m\u001b[0;34m.\u001b[0m\u001b[0mGetArgumentType\u001b[0m\u001b[0;34m(\u001b[0m\u001b[0mkey\u001b[0m\u001b[0;34m)\u001b[0m\u001b[0;34m\u001b[0m\u001b[0;34m\u001b[0m\u001b[0m\n\u001b[0m\u001b[1;32m    284\u001b[0m                 \u001b[0;32mif\u001b[0m \u001b[0misinstance\u001b[0m\u001b[0;34m(\u001b[0m\u001b[0mvalue\u001b[0m\u001b[0;34m,\u001b[0m \u001b[0;34m(\u001b[0m\u001b[0mlist\u001b[0m\u001b[0;34m,\u001b[0m \u001b[0mtuple\u001b[0m\u001b[0;34m)\u001b[0m\u001b[0;34m)\u001b[0m\u001b[0;34m:\u001b[0m\u001b[0;34m\u001b[0m\u001b[0;34m\u001b[0m\u001b[0m\n\u001b[1;32m    285\u001b[0m                     \u001b[0;32mif\u001b[0m \u001b[0mlen\u001b[0m\u001b[0;34m(\u001b[0m\u001b[0mvalue\u001b[0m\u001b[0;34m)\u001b[0m \u001b[0;34m==\u001b[0m \u001b[0;36m0\u001b[0m\u001b[0;34m:\u001b[0m\u001b[0;34m\u001b[0m\u001b[0;34m\u001b[0m\u001b[0m\n",
      "\u001b[0;31mRuntimeError\u001b[0m: [/home/mszolucha/workspace/DALI/dali/pipeline/operator/op_schema.cc:127] Assert on \"HasArgument(name)\" failed: Argument \"sampling_rate\" is not supported by operator \"AudioDecoder\".\nStacktrace (100 entries):\n[frame 0]: /home/mszolucha/workspace/DALI/build/dali/python/nvidia/dali/libdali.so(+0x139673) [0x7f252e881673]\n[frame 1]: /home/mszolucha/workspace/DALI/build/dali/python/nvidia/dali/libdali.so(dali::OpSchema::GetArgumentType(std::__cxx11::basic_string<char, std::char_traits<char>, std::allocator<char> > const&) const+0x1c8) [0x7f252e986400]\n[frame 2]: /home/mszolucha/virtualenv/dali/lib/python3.6/site-packages/nvidia/dali/backend_impl.cpython-36m-x86_64-linux-gnu.so(+0x10b883) [0x7f253c335883]\n[frame 3]: /home/mszolucha/virtualenv/dali/lib/python3.6/site-packages/nvidia/dali/backend_impl.cpython-36m-x86_64-linux-gnu.so(+0x15c29d) [0x7f253c38629d]\n[frame 4]: /home/mszolucha/virtualenv/dali/lib/python3.6/site-packages/nvidia/dali/backend_impl.cpython-36m-x86_64-linux-gnu.so(+0x147612) [0x7f253c371612]\n[frame 5]: /home/mszolucha/virtualenv/dali/lib/python3.6/site-packages/nvidia/dali/backend_impl.cpython-36m-x86_64-linux-gnu.so(+0x12b1f0) [0x7f253c3551f0]\n[frame 6]: /home/mszolucha/virtualenv/dali/lib/python3.6/site-packages/nvidia/dali/backend_impl.cpython-36m-x86_64-linux-gnu.so(+0x12b28b) [0x7f253c35528b]\n[frame 7]: /home/mszolucha/virtualenv/dali/lib/python3.6/site-packages/nvidia/dali/backend_impl.cpython-36m-x86_64-linux-gnu.so(+0xc98c4) [0x7f253c2f38c4]\n[frame 8]: /home/mszolucha/virtualenv/dali/bin/python3(_PyCFunction_FastCallDict+0x35c) [0x565d5c]\n[frame 9]: /home/mszolucha/virtualenv/dali/bin/python3() [0x503073]\n[frame 10]: /home/mszolucha/virtualenv/dali/bin/python3(_PyEval_EvalFrameDefault+0x449) [0x506859]\n[frame 11]: /home/mszolucha/virtualenv/dali/bin/python3() [0x504c28]\n[frame 12]: /home/mszolucha/virtualenv/dali/bin/python3(_PyFunction_FastCallDict+0x2de) [0x501b2e]\n[frame 13]: /home/mszolucha/virtualenv/dali/bin/python3() [0x591461]\n[frame 14]: /home/mszolucha/virtualenv/dali/bin/python3() [0x54b813]\n[frame 15]: /home/mszolucha/virtualenv/dali/bin/python3() [0x555421]\n[frame 16]: /home/mszolucha/virtualenv/dali/bin/python3(_PyObject_FastCallKeywords+0x19c) [0x5a730c]\n[frame 17]: /home/mszolucha/virtualenv/dali/bin/python3() [0x503073]\n[frame 18]: /home/mszolucha/virtualenv/dali/bin/python3(_PyEval_EvalFrameDefault+0x1231) [0x507641]\n[frame 19]: /home/mszolucha/virtualenv/dali/bin/python3() [0x504c28]\n[frame 20]: /home/mszolucha/virtualenv/dali/bin/python3(_PyFunction_FastCallDict+0x2de) [0x501b2e]\n[frame 21]: /home/mszolucha/virtualenv/dali/bin/python3() [0x591461]\n[frame 22]: /home/mszolucha/virtualenv/dali/bin/python3() [0x54b813]\n[frame 23]: /home/mszolucha/virtualenv/dali/bin/python3() [0x555421]\n[frame 24]: /home/mszolucha/virtualenv/dali/bin/python3(_PyObject_FastCallKeywords+0x19c) [0x5a730c]\n[frame 25]: /home/mszolucha/virtualenv/dali/bin/python3() [0x503073]\n[frame 26]: /home/mszolucha/virtualenv/dali/bin/python3(_PyEval_EvalFrameDefault+0x1231) [0x507641]\n[frame 27]: /home/mszolucha/virtualenv/dali/bin/python3() [0x504c28]\n[frame 28]: /home/mszolucha/virtualenv/dali/bin/python3() [0x511eca]\n[frame 29]: /home/mszolucha/virtualenv/dali/bin/python3() [0x502d6f]\n[frame 30]: /home/mszolucha/virtualenv/dali/bin/python3(_PyEval_EvalFrameDefault+0x449) [0x506859]\n[frame 31]: /home/mszolucha/virtualenv/dali/bin/python3() [0x58c63a]\n[frame 32]: /home/mszolucha/virtualenv/dali/bin/python3(_PyEval_EvalFrameDefault+0x19f2) [0x507e02]\n[frame 33]: /home/mszolucha/virtualenv/dali/bin/python3() [0x58c63a]\n[frame 34]: /home/mszolucha/virtualenv/dali/bin/python3(_PyEval_EvalFrameDefault+0x19f2) [0x507e02]\n[frame 35]: /home/mszolucha/virtualenv/dali/bin/python3() [0x58c63a]\n[frame 36]: /home/mszolucha/virtualenv/dali/bin/python3() [0x502e0c]\n[frame 37]: /home/mszolucha/virtualenv/dali/bin/python3(_PyEval_EvalFrameDefault+0x449) [0x506859]\n[frame 38]: /home/mszolucha/virtualenv/dali/bin/python3() [0x502209]\n[frame 39]: /home/mszolucha/virtualenv/dali/bin/python3() [0x502f3d]\n[frame 40]: /home/mszolucha/virtualenv/dali/bin/python3(_PyEval_EvalFrameDefault+0x449) [0x506859]\n[frame 41]: /home/mszolucha/virtualenv/dali/bin/python3() [0x502209]\n[frame 42]: /home/mszolucha/virtualenv/dali/bin/python3() [0x502f3d]\n[frame 43]: /home/mszolucha/virtualenv/dali/bin/python3(_PyEval_EvalFrameDefault+0x449) [0x506859]\n[frame 44]: /home/mszolucha/virtualenv/dali/bin/python3() [0x504c28]\n[frame 45]: /home/mszolucha/virtualenv/dali/bin/python3(_PyFunction_FastCallDict+0x2de) [0x501b2e]\n[frame 46]: /home/mszolucha/virtualenv/dali/bin/python3() [0x591461]\n[frame 47]: /home/mszolucha/virtualenv/dali/bin/python3(PyObject_Call+0x3e) [0x59ebbe]\n[frame 48]: /home/mszolucha/virtualenv/dali/bin/python3(_PyEval_EvalFrameDefault+0x1807) [0x507c17]\n[frame 49]: /home/mszolucha/virtualenv/dali/bin/python3() [0x504c28]\n[frame 50]: /home/mszolucha/virtualenv/dali/bin/python3() [0x502540]\n[frame 51]: /home/mszolucha/virtualenv/dali/bin/python3() [0x502f3d]\n[frame 52]: /home/mszolucha/virtualenv/dali/bin/python3(_PyEval_EvalFrameDefault+0x1231) [0x507641]\n[frame 53]: /home/mszolucha/virtualenv/dali/bin/python3() [0x58c63a]\n[frame 54]: /home/mszolucha/virtualenv/dali/bin/python3() [0x50e3f0]\n[frame 55]: /home/mszolucha/virtualenv/dali/bin/python3() [0x502d6f]\n[frame 56]: /home/mszolucha/virtualenv/dali/bin/python3(_PyEval_EvalFrameDefault+0x449) [0x506859]\n[frame 57]: /home/mszolucha/virtualenv/dali/bin/python3() [0x504c28]\n[frame 58]: /home/mszolucha/virtualenv/dali/bin/python3() [0x502540]\n[frame 59]: /home/mszolucha/virtualenv/dali/bin/python3() [0x502f3d]\n[frame 60]: /home/mszolucha/virtualenv/dali/bin/python3(_PyEval_EvalFrameDefault+0x449) [0x506859]\n[frame 61]: /home/mszolucha/virtualenv/dali/bin/python3() [0x58c63a]\n[frame 62]: /home/mszolucha/virtualenv/dali/bin/python3() [0x50e3f0]\n[frame 63]: /home/mszolucha/virtualenv/dali/bin/python3() [0x502d6f]\n[frame 64]: /home/mszolucha/virtualenv/dali/bin/python3(_PyEval_EvalFrameDefault+0x449) [0x506859]\n[frame 65]: /home/mszolucha/virtualenv/dali/bin/python3() [0x504c28]\n[frame 66]: /home/mszolucha/virtualenv/dali/bin/python3() [0x502540]\n[frame 67]: /home/mszolucha/virtualenv/dali/bin/python3() [0x502f3d]\n[frame 68]: /home/mszolucha/virtualenv/dali/bin/python3(_PyEval_EvalFrameDefault+0x449) [0x506859]\n[frame 69]: /home/mszolucha/virtualenv/dali/bin/python3() [0x58c63a]\n[frame 70]: /home/mszolucha/virtualenv/dali/bin/python3() [0x50e3f0]\n[frame 71]: /home/mszolucha/virtualenv/dali/bin/python3() [0x502d6f]\n[frame 72]: /home/mszolucha/virtualenv/dali/bin/python3(_PyEval_EvalFrameDefault+0x449) [0x506859]\n[frame 73]: /home/mszolucha/virtualenv/dali/bin/python3() [0x504c28]\n[frame 74]: /home/mszolucha/virtualenv/dali/bin/python3(_PyFunction_FastCallDict+0x2de) [0x501b2e]\n[frame 75]: /home/mszolucha/virtualenv/dali/bin/python3() [0x591461]\n[frame 76]: /home/mszolucha/virtualenv/dali/bin/python3(PyObject_Call+0x3e) [0x59ebbe]\n[frame 77]: /home/mszolucha/virtualenv/dali/bin/python3(_PyEval_EvalFrameDefault+0x1807) [0x507c17]\n[frame 78]: /home/mszolucha/virtualenv/dali/bin/python3() [0x58c5d8]\n[frame 79]: /home/mszolucha/virtualenv/dali/bin/python3() [0x502e0c]\n[frame 80]: /home/mszolucha/virtualenv/dali/bin/python3(_PyEval_EvalFrameDefault+0x449) [0x506859]\n[frame 81]: /home/mszolucha/virtualenv/dali/bin/python3() [0x502209]\n[frame 82]: /home/mszolucha/virtualenv/dali/bin/python3() [0x502f3d]\n[frame 83]: /home/mszolucha/virtualenv/dali/bin/python3(_PyEval_EvalFrameDefault+0x449) [0x506859]\n[frame 84]: /home/mszolucha/virtualenv/dali/bin/python3() [0x504c28]\n[frame 85]: /home/mszolucha/virtualenv/dali/bin/python3(_PyFunction_FastCallDict+0x2de) [0x501b2e]\n[frame 86]: /home/mszolucha/virtualenv/dali/bin/python3(_PyObject_FastCallDict+0x4f1) [0x5a36f1]\n[frame 87]: /home/mszolucha/virtualenv/dali/bin/python3() [0x5ef2fc]\n[frame 88]: /home/mszolucha/virtualenv/dali/bin/python3(_PyObject_FastCallKeywords+0x19c) [0x5a730c]\n[frame 89]: /home/mszolucha/virtualenv/dali/bin/python3() [0x503073]\n[frame 90]: /home/mszolucha/virtualenv/dali/bin/python3(_PyEval_EvalFrameDefault+0x449) [0x506859]\n[frame 91]: /home/mszolucha/virtualenv/dali/bin/python3() [0x502209]\n[frame 92]: /home/mszolucha/virtualenv/dali/bin/python3() [0x502f3d]\n[frame 93]: /home/mszolucha/virtualenv/dali/bin/python3(_PyEval_EvalFrameDefault+0x449) [0x506859]\n[frame 94]: /home/mszolucha/virtualenv/dali/bin/python3() [0x504c28]\n[frame 95]: /home/mszolucha/virtualenv/dali/bin/python3() [0x58644b]\n[frame 96]: /home/mszolucha/virtualenv/dali/bin/python3(PyObject_Call+0x3e) [0x59ebbe]\n[frame 97]: /home/mszolucha/virtualenv/dali/bin/python3(_PyEval_EvalFrameDefault+0x1807) [0x507c17]\n[frame 98]: /home/mszolucha/virtualenv/dali/bin/python3() [0x502209]\n[frame 99]: /home/mszolucha/virtualenv/dali/bin/python3() [0x502f3d]\n"
     ]
    }
   ],
   "source": [
    "pipecpu = AudioDecoderExample(batch_size=batch_size, num_threads=1, device_id=0)\n",
    "pipecpu.build()          \n",
    "cpu_output = pipecpu.run()"
   ]
  },
  {
   "cell_type": "markdown",
   "metadata": {},
   "source": [
    "Outputs from `AudioDecoder` consist of a tensor with the decoded data, as well as some metadata (e.g. sampling rate). To access them just check another output. On top of that, AudioDecoder returns data in interleaved format, so we need to reshape the output tensor, to properly display it. Here's how to do that:"
   ]
  },
  {
   "cell_type": "code",
   "execution_count": null,
   "metadata": {},
   "outputs": [],
   "source": [
    "audio_data = cpu_output[0].at(0)\n",
    "sampling_rate = cpu_output[1].at(0)[0]\n",
    "print(\"Sampling rate:\", sampling_rate, \"[Hz]\")\n",
    "print(\"Audio data:\", audio_data)\n",
    "audio_data = audio_data.flatten()\n",
    "print(\"Audio data flattened:\", audio_data)\n",
    "plt.plot(audio_data)\n",
    "plt.show()"
   ]
  },
  {
   "cell_type": "markdown",
   "metadata": {},
   "source": [
    "## Verification\n",
    "\n",
    "Let's verify, that the AudioDecoder actually works. The presented method can also come in handy for debugging DALI pipeline, in case something doesn't go as planned. \n",
    "\n",
    "We will use external tool to decode used data and compare the results against data decoded by DALI.\n",
    "\n",
    "### Important!\n",
    "\n",
    "Following snippet installs the external dependency (`simpleaudio`). In case you already have it, or don't want to install it, you might want to stop here and not run this one."
   ]
  },
  {
   "cell_type": "code",
   "execution_count": null,
   "metadata": {},
   "outputs": [],
   "source": [
    "import sys\n",
    "!{sys.executable} -m pip install simpleaudio"
   ]
  },
  {
   "cell_type": "markdown",
   "metadata": {},
   "source": [
    "Below is the side-by-side comparision of decoded data. If you have the `simpleaudio` module installed, you can run the snippet and see it for yourself."
   ]
  },
  {
   "cell_type": "code",
   "execution_count": null,
   "metadata": {},
   "outputs": [],
   "source": [
    "import simpleaudio as sa\n",
    "\n",
    "wav = sa.WaveObject.from_wave_file(\"audio/wav/three.wav\")\n",
    "three_audio = np.frombuffer(wav.audio_data, dtype=np.int16)\n",
    "\n",
    "print(\"src: simpleaudio\")\n",
    "print(\"shape: \", three_audio.shape)\n",
    "print(\"data: \", three_audio)\n",
    "print(\"\\n\")\n",
    "print(\"src: DALI\")\n",
    "print(\"shape: \", audio_data.shape)\n",
    "print(\"data: \", audio_data)\n",
    "print(\"\\nAre the arrays equal?\", \"YES\" if np.all(audio_data == three_audio) else \"NO\")\n",
    "\n",
    "fig, ax = plt.subplots(1,2)\n",
    "ax[0].plot(three_audio)\n",
    "ax[1].plot(audio_data)\n",
    "plt.show()"
   ]
  },
  {
   "cell_type": "code",
   "execution_count": null,
   "metadata": {},
   "outputs": [],
   "source": []
  }
 ],
 "metadata": {
  "kernelspec": {
   "display_name": "Python 3",
   "language": "python",
   "name": "python3"
  },
  "language_info": {
   "codemirror_mode": {
    "name": "ipython",
    "version": 3
   },
   "file_extension": ".py",
   "mimetype": "text/x-python",
   "name": "python",
   "nbconvert_exporter": "python",
   "pygments_lexer": "ipython3",
   "version": "3.6.7"
  }
 },
 "nbformat": 4,
 "nbformat_minor": 2
}

{
 "cells": [
  {
   "cell_type": "markdown",
   "id": "0ea610aa",
   "metadata": {},
   "source": [
    "# Data Loading: Webdataset\n",
    "\n",
    "## Overview\n",
    "\n",
    "This example shows you how to use the data that is stored in the Webdataset format with DALI.\n",
    "\n",
    "## Creating index\n",
    "\n",
    "To use data that is stored in the Webdataset format, we need to use the `readers.webdataset` operator. In addition to the arguments that are common to all readers, such as `random_shuffle`, this operator takes `paths`, `index_paths`, `ext`, `missing_component_behavior` and `dtypes` arguments:\n",
    "\n",
    "* `paths` the path (or list of paths) to the tar archives containing webdataset\n",
    "* `index_paths` the path (or list of paths) to the respective index files containing data about the specifics of the tar files. Each index file only has to be generated once and can be created using the `wds2idx` utility included with DALI. For the specifics of the usage please refer to `wds2idx -h`\n",
    "* `ext`  the extension set (or list of those) of extensions separated by a ';' that specify the outputs of the operator and which sample components will be fed into the specific outputs of the operator\n",
    "* `missing_component_behavior` the behavior of the reader in case it encounters a sample that can't return provide any component to a certain output. There are 3 options:\n",
    "    * `empty` (default) just returns an empty tensor for that output\n",
    "    * `skip` the sample will be skipped and the next valid one will be taken\n",
    "    * `raise` an error will be raised\n",
    "* `dtypes` the dtypes of the outputs of the operator. If the size of the output component is not divisible by the size of the type, an error will be thrown. INT8 if not provided.\n",
    "\n",
    "The `DALI_EXTRA_PATH` environment variable should point to the location where data from [DALI extra repository](https://github.com/NVIDIA/DALI_extra) is downloaded.\n",
    "\n",
    "**Important**: Ensure that you check out the correct release tag that corresponds to the installed version of DALI."
   ]
  },
  {
   "cell_type": "code",
   "execution_count": null,
   "id": "8214ec90",
   "metadata": {},
   "outputs": [],
   "source": [
    "from nvidia.dali.pipeline import Pipeline\n",
    "import nvidia.dali.fn as fn\n",
    "import nvidia.dali.types as types\n",
    "import numpy as np\n",
    "import os.path\n",
    "\n",
    "test_data_root = os.environ['DALI_EXTRA_PATH']\n",
    "base = os.path.join(test_data_root, 'db', 'webdataset', 'MNIST')\n",
    "batch_size = 16\n",
    "\n",
    "idx_files = [base + \"/train.idx\"]\n",
    "rec_files = [base + \"/train.rec\"]"
   ]
  }
 ],
 "metadata": {
  "kernelspec": {
   "display_name": "Python 3 (ipykernel)",
   "language": "python",
   "name": "python3"
  },
  "language_info": {
   "codemirror_mode": {
    "name": "ipython",
    "version": 3
   },
   "file_extension": ".py",
   "mimetype": "text/x-python",
   "name": "python",
   "nbconvert_exporter": "python",
   "pygments_lexer": "ipython3",
   "version": "3.8.10"
  }
 },
 "nbformat": 4,
 "nbformat_minor": 5
}

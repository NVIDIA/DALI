{
 "cells": [
  {
   "cell_type": "markdown",
   "id": "87c07b3c",
   "metadata": {},
   "source": [
    "# WebDataset reader\n",
    "In this notebook is an example of how one may combine the [webdataset](https://github.com/webdataset/webdataset) with the DALI pipeline"
   ]
  },
  {
   "cell_type": "markdown",
   "id": "4aecd155",
   "metadata": {},
   "source": [
    "## Introduction\n",
    "### Data Representation\n",
    "Web Dataset is a dataset representation that heavily optimizes networked accessed storage performance. At its simplest, it stores the whole dataset in one tarball file, where individual samples are kept under the files with the same names but different extensions. This approach improves drive access latency a lot, since the files are kept on the drive directly next to each other, improving drive access caching on the RAM.\n",
    "### Sharding\n",
    "In order to improve distributed storage access and network data transfer, the webdataset employs a strategy called sharding. In this approach, the tarball holding the data is split into several smaller ones, called shards, which allows for fetching from several storage drives at once, and reduces the packet size that has to be transferred via the network."
   ]
  },
  {
   "cell_type": "markdown",
   "id": "9bc13088",
   "metadata": {},
   "source": [
    "## Usage Example\n",
    "First, let's import the necessary modules and define the locations of the datasets that will be needed later.\n",
    "\n",
    "`DALI_EXTRA_PATH` environment variable should point to the place where the data from [DALI extra repository](https://github.com/NVIDIA/DALI_extra) is downloaded. Please make sure that the proper release tag is checked out.\n",
    "\n",
    "The `tar_dataset_paths` holds the paths to the shards that will be loaded while showing and testing the webdataset reader.\n",
    "\n",
    "The `folder_dataset_files` holds the paths to the files unpacked from those shards and will be used to compare the webdataset reader with an already implemented file reader."
   ]
  },
  {
   "cell_type": "code",
   "execution_count": 1,
   "id": "8b488055",
   "metadata": {},
   "outputs": [],
   "source": [
    "import nvidia.dali.fn as fn\n",
    "import nvidia.dali as dali\n",
    "import webdataset as wds\n",
    "import numpy as np\n",
    "import matplotlib.pyplot as plt\n",
    "import glob\n",
    "import os\n",
    "import random\n",
    "\n",
    "root_path = os.path.join(os.environ[\"DALI_EXTRA_PATH\"], \"db\", \"webdataset\")\n",
    "tar_dataset_paths = [os.path.join(root_path, data_file) \n",
    "                        for data_file in [\"devel-0.tar\", \"devel-1.tar\", \"devel-2.tar\"]]\n",
    "\n",
    "folder_dataset_files = glob.glob(os.path.join(root_path, \"devel-[012]\", \"*.jpg\"))\n",
    "\n",
    "folder_dataset_files = sorted( # Sorted in order to match the data from the shards\n",
    "    folder_dataset_files,\n",
    "    key = lambda s: (\n",
    "        s[:s.rfind('/')], # First we sort over the dataset name \n",
    "        int(s[s.rfind('/') + 1:s.find(\".jpg\")]) # Then we sort over the indicies of the samples\n",
    "    )\n",
    ") "
   ]
  },
  {
   "cell_type": "markdown",
   "id": "0b704af8",
   "metadata": {},
   "source": [
    "The function below is used to later randomize the output from the dataset. The samples are first stored in a buffer, and then they're randomly yielded in a generator and replaced by a new sample."
   ]
  },
  {
   "cell_type": "code",
   "execution_count": 2,
   "id": "694b063f",
   "metadata": {},
   "outputs": [],
   "source": [
    "def buffered_shuffle(generator, initial_fill, seed):\n",
    "    # The buffer size must be positive\n",
    "    assert(initial_fill > 0)\n",
    "    \n",
    "    # The buffer that will hold the randomized samples=\n",
    "    buffer = []\n",
    "    \n",
    "    # Holds a separate random lib state to avoid side effects\n",
    "    random_current_state = random.getstate()\n",
    "    random.seed(seed)\n",
    "    random_state = random.getstate()\n",
    "    random.setstate(random_current_state)\n",
    "    \n",
    "    try:\n",
    "        while len(buffer) < initial_fill: # Fills in the random buffer\n",
    "            buffer.append(next(generator))\n",
    "\n",
    "\n",
    "        while True: # Selects a random sample from the buffer and then fills it back in with a new one\n",
    "            \n",
    "            # Holds a separate random lib state to avoid side effects\n",
    "            random_current_state = random.getstate()\n",
    "            random.setstate(random_state)\n",
    "            idx = random.randint(0, initial_fill-1)\n",
    "            random_state = random.getstate()\n",
    "            random.setstate(random_current_state)\n",
    "\n",
    "            yield buffer[idx]\n",
    "            buffer[idx] = next(generator)\n",
    "            \n",
    "    except StopIteration: # When the generator runs out of the samples flushes our the buffer\n",
    "        \n",
    "        # Holds a separate random lib state to avoid side effects\n",
    "        random_current_state = random.getstate()\n",
    "        random.setstate(random_state)\n",
    "        random.shuffle(buffer)\n",
    "        random.setstate(random_current_state)\n",
    "\n",
    "        while buffer:\n",
    "            yield buffer[-1]\n",
    "            buffer.pop()\n",
    "            "
   ]
  },
  {
   "cell_type": "markdown",
   "id": "db398cb7",
   "metadata": {},
   "source": [
    "The next function is used for padding the last batch with the last sample, in order to make it the same size as all the other ones."
   ]
  },
  {
   "cell_type": "code",
   "execution_count": 3,
   "id": "88313637",
   "metadata": {},
   "outputs": [],
   "source": [
    "def last_batch_padding(generator, batch_size):\n",
    "    in_batch_idx = 0\n",
    "    last_item = None\n",
    "    try:\n",
    "        while True: # Keeps track of the last sample and the sample number mod batch_size\n",
    "            if in_batch_idx >= batch_size:\n",
    "                in_batch_idx -= batch_size\n",
    "            last_item = next(generator)\n",
    "            in_batch_idx += 1\n",
    "            yield last_item\n",
    "    except StopIteration: # Repeats the last sample the necessary number of times\n",
    "        while in_batch_idx < batch_size:\n",
    "            yield last_item\n",
    "            in_batch_idx += 1"
   ]
  },
  {
   "cell_type": "markdown",
   "id": "00cf9719",
   "metadata": {},
   "source": [
    "The final auxilary function is used to get an infinite number of samples from a finitie size dataset."
   ]
  },
  {
   "cell_type": "code",
   "execution_count": 4,
   "id": "bbc95e78",
   "metadata": {},
   "outputs": [],
   "source": [
    "def cycle_generator(dataset_generator):\n",
    "    dataset = dataset_generator()\n",
    "    while True:\n",
    "        try:\n",
    "            while True:\n",
    "                yield next(dataset)\n",
    "        except StopIteration: # The dataset has run out of samples, they need to be refilled\n",
    "            dataset = dataset_generator()"
   ]
  },
  {
   "cell_type": "markdown",
   "id": "94cfebc0",
   "metadata": {},
   "source": [
    "And finally the reader.\n",
    "\n",
    "### Keyword Arguments:\n",
    "\n",
    "`paths`: describes the paths to the shard file/files containing the webdataset, and can be formatted as any data accepted by the `WebDataset`\n",
    "\n",
    "`extensions`: describes the extensions containing the data to be output through the dataset. By default this is one extension fetching the data from all image formats supported by the `WebDataset`\n",
    "\n",
    "`random_shuffle`: describes whether to shuffle the data read by the `WebDataset`\n",
    "\n",
    "`initial_fill`: if `random_shuffle` is True describes the buffer size of the data shuffler. Set to the batch size by default.\n",
    "\n",
    "`seed`: describes the seed for shuffling the data. Useful for getting consistent results. Set to 0 by default\n",
    "\n",
    "`pad_last_batch`: describes whether to pad the last batch with the final sample to match the regular batch size\n",
    "\n",
    "`read_ahead`: describes whether to prefetch the data into the memory"
   ]
  },
  {
   "cell_type": "code",
   "execution_count": 5,
   "id": "72b6126a",
   "metadata": {},
   "outputs": [],
   "source": [
    "def read_webdataset(\n",
    "    paths, \n",
    "    extensions=None,\n",
    "    random_shuffle=False, \n",
    "    initial_fill=None, \n",
    "    seed=0,\n",
    "    pad_last_batch=False,\n",
    "    read_ahead=False\n",
    "):\n",
    "    # Parsing the input data\n",
    "    if initial_fill == None:\n",
    "        initial_fill = dali.pipeline.Pipeline.current().max_batch_size\n",
    "    if extensions == None:\n",
    "        extensions = ';'.join([\"jpg\", \"jpeg\", \"img\", \"image\", \"pbm\", \"pgm\", \"png\"]) # All supported image formats\n",
    "    if type(extensions) == str:\n",
    "        extensions = (extensions,)\n",
    "        \n",
    "    # The lambda for generating the samples later inside the cycle_generator\n",
    "    dataset_generator = lambda: iter(\n",
    "        wds.WebDataset(paths, shardshuffle=False)\n",
    "        .to_tuple(*extensions)\n",
    "        .map_tuple(*((\n",
    "            lambda data: np.frombuffer(data, dtype=np.uint8),)\n",
    "            *len(extensions)))\n",
    "        )\n",
    "    \n",
    "    dataset = dataset_generator()\n",
    "    \n",
    "    if not read_ahead: # if read_ahead is False the cycling is handled by the external generator\n",
    "        dataset = cycle_generator(dataset_generator)\n",
    "    \n",
    "    # Adding the buffered shuffling\n",
    "    if random_shuffle:\n",
    "        dataset = buffered_shuffle(dataset, initial_fill, seed)\n",
    "        \n",
    "    # Adding the batch padding\n",
    "    if pad_last_batch:\n",
    "        dataset = last_batch_padding(dataset, dali.pipeline.Pipeline.current().max_batch_size)\n",
    "    \n",
    "    # Prefetching the data\n",
    "    if read_ahead:\n",
    "        dataset=list(dataset)\n",
    "    \n",
    "    return fn.external_source(\n",
    "        source=dataset,\n",
    "        num_outputs=len(extensions),\n",
    "        batch=False,\n",
    "        cycle=read_ahead # if read_ahead is True then the cycling is handled by external source\n",
    "    )"
   ]
  },
  {
   "cell_type": "markdown",
   "id": "aaf7c152",
   "metadata": {},
   "source": [
    "We also define a sample data augmentation function which decodes an image, applies a jitter to it and resizes it to 244x244."
   ]
  },
  {
   "cell_type": "code",
   "execution_count": 6,
   "id": "677153ed",
   "metadata": {},
   "outputs": [],
   "source": [
    "def decode_augment(img, seed=0):\n",
    "    img = fn.decoders.image(img)\n",
    "    img = fn.jitter(img.gpu(), seed=seed)\n",
    "    img = fn.resize(img, size = (224, 224))\n",
    "    return img"
   ]
  },
  {
   "cell_type": "markdown",
   "id": "61a6424b",
   "metadata": {},
   "source": [
    "## Reader features presentation\n",
    "Below we define the sample webdataset pipeline with our `external_source`-based reader, that just chains the previously defined reader and augmentation function together."
   ]
  },
  {
   "cell_type": "code",
   "execution_count": 7,
   "id": "e598d5a4",
   "metadata": {},
   "outputs": [],
   "source": [
    "@dali.pipeline_def(batch_size=16, num_threads=4, device_id=0)\n",
    "def webdataset_pipeline(\n",
    "    paths,\n",
    "    random_shuffle=False, \n",
    "    initial_fill=None, \n",
    "    seed=0,\n",
    "    pad_last_batch=False,\n",
    "    read_ahead=False\n",
    "):\n",
    "    img, label = read_webdataset(paths=paths, \n",
    "                                 extensions=(\"jpg\", \"cls\"),\n",
    "                                 random_shuffle=random_shuffle,\n",
    "                                 initial_fill=initial_fill,\n",
    "                                 seed=seed,\n",
    "                                 pad_last_batch=pad_last_batch,\n",
    "                                 read_ahead=read_ahead)\n",
    "    return decode_augment(img, seed=seed), label"
   ]
  },
  {
   "cell_type": "markdown",
   "id": "2471a67e",
   "metadata": {},
   "source": [
    "The pipeline can then be build with the desired arguments passed through to the reader"
   ]
  },
  {
   "cell_type": "code",
   "execution_count": 8,
   "id": "f25ce3c7",
   "metadata": {},
   "outputs": [],
   "source": [
    "pipeline = webdataset_pipeline(\n",
    "    tar_dataset_paths,   # Paths for the sharded dataset\n",
    "    random_shuffle=True, # Random buffered shuffling on\n",
    "    pad_last_batch=True, # Last batch is filled to the full size\n",
    "    read_ahead=True)     # All the data is preloaded into the memory\n",
    "pipeline.build()"
   ]
  },
  {
   "cell_type": "markdown",
   "id": "597a1fad",
   "metadata": {},
   "source": [
    "And executed, printing the example image using matplotlib"
   ]
  },
  {
   "cell_type": "code",
   "execution_count": 9,
   "id": "e1bb6317",
   "metadata": {},
   "outputs": [
    {
     "name": "stdout",
     "output_type": "stream",
     "text": [
      "1\n"
     ]
    },
    {
     "data": {
      "image/png": "[encoded data removed]",
      "text/plain": [
       "<Figure size 432x288 with 1 Axes>"
      ]
     },
     "metadata": {
      "needs_background": "light"
     },
     "output_type": "display_data"
    }
   ],
   "source": [
    "img, c = pipeline.run()\n",
    "img = img.as_cpu()\n",
    "print(int(bytes(c.as_array()[0]))) # Conversion from an array of bytes back to bytes and then to int\n",
    "plt.imshow(img.as_array()[0])\n",
    "plt.show()"
   ]
  },
  {
   "cell_type": "markdown",
   "id": "ff940410",
   "metadata": {},
   "source": [
    "## Checking consistency\n",
    "Here we will check if the custom pipeline for the webdataset matches another one already implemented.\n",
    "\n",
    "First let's define the pipeline to compare against. This is the same pipeline as the one for the webdataset, but instead uses the `fn.readers.file` reader."
   ]
  },
  {
   "cell_type": "code",
   "execution_count": 10,
   "id": "4162dd6b",
   "metadata": {},
   "outputs": [],
   "source": [
    "@dali.pipeline_def(batch_size=16, num_threads=4, device_id=0)\n",
    "def file_pipeline(files):\n",
    "    img, _ = fn.readers.file(files=files)\n",
    "    return decode_augment(img)"
   ]
  },
  {
   "cell_type": "markdown",
   "id": "d57395a5",
   "metadata": {},
   "source": [
    "Then let's instantiate and build both pipelines"
   ]
  },
  {
   "cell_type": "code",
   "execution_count": 11,
   "id": "63c25cee",
   "metadata": {},
   "outputs": [],
   "source": [
    "webdataset_pipeline_instance = webdataset_pipeline(tar_dataset_paths)\n",
    "webdataset_pipeline_instance.build()\n",
    "file_pipeline_instance = file_pipeline(folder_dataset_files)\n",
    "file_pipeline_instance.build()"
   ]
  },
  {
   "cell_type": "markdown",
   "id": "40482fae",
   "metadata": {},
   "source": [
    "And run the comparison loop."
   ]
  },
  {
   "cell_type": "code",
   "execution_count": 12,
   "id": "52a77689",
   "metadata": {},
   "outputs": [
    {
     "name": "stdout",
     "output_type": "stream",
     "text": [
      "No difference found!\n"
     ]
    }
   ],
   "source": [
    "# The number of batches to sample between the two pipelines\n",
    "num_batches = 1000\n",
    "\n",
    "for _ in range(num_batches):\n",
    "    webdataset_pipeline_threw_exception = False\n",
    "    file_pipeline_threw_exception = False\n",
    "    \n",
    "    # Try running the webdataset pipeline and check if it has run out of the samples\n",
    "    try:\n",
    "        web_img, _ = webdataset_pipeline_instance.run()\n",
    "    except StopIteration:\n",
    "        webdataset_pipeline_threw_exception = True\n",
    "    \n",
    "    # Try running the file pipeline and check if it has run out of the samples\n",
    "    try:\n",
    "        (file_img,) = file_pipeline_instance.run()\n",
    "    except StopIteration:\n",
    "        file_pipeline_threw_exception = True\n",
    "    \n",
    "    # In case of different number of batches\n",
    "    if webdataset_pipeline_threw_exception != file_pipeline_threw_exception:\n",
    "        print(\"Found a difference between the readers!\")\n",
    "        break\n",
    "\n",
    "    web_img = web_img.as_cpu().as_array()\n",
    "    file_img = file_img.as_cpu().as_array()\n",
    "\n",
    "    # In case the pipelines give different outputs\n",
    "    if (web_img != file_img).any():\n",
    "        print(\"Found a difference between the readers!\")\n",
    "        break\n",
    "else:\n",
    "    print(\"No difference found!\")"
   ]
  }
 ],
 "metadata": {
  "kernelspec": {
   "display_name": "Python 3 (ipykernel)",
   "language": "python",
   "name": "python3"
  },
  "language_info": {
   "codemirror_mode": {
    "name": "ipython",
    "version": 3
   },
   "file_extension": ".py",
   "mimetype": "text/x-python",
   "name": "python",
   "nbconvert_exporter": "python",
   "pygments_lexer": "ipython3",
   "version": "3.8.10"
  }
 },
 "nbformat": 4,
 "nbformat_minor": 5
}

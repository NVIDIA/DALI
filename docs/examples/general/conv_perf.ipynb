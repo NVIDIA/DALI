{
 "cells": [
  {
   "cell_type": "code",
   "execution_count": 1,
   "id": "36b5eb5c",
   "metadata": {},
   "outputs": [],
   "source": [
    "from nvidia.dali import pipeline_def\n",
    "import nvidia.dali.fn as fn\n",
    "import nvidia.dali.math as dali_math\n",
    "from nvidia.dali import types\n",
    "import numpy as np"
   ]
  },
  {
   "cell_type": "code",
   "execution_count": 2,
   "id": "f66493a7",
   "metadata": {},
   "outputs": [],
   "source": [
    "import time\n",
    "\n",
    "class AverageMeter(object):\n",
    "    \"\"\"Computes and stores the average and current value\"\"\"\n",
    "\n",
    "    def __init__(self):\n",
    "        self.reset()\n",
    "\n",
    "    def reset(self):\n",
    "        self.val = 0\n",
    "        self.avg = 0\n",
    "        self.sum = 0\n",
    "        self.count = 0\n",
    "        self.avg_last_n = 0\n",
    "        self.max_val = 0\n",
    "\n",
    "    def update(self, val, n=1):\n",
    "        self.val = val\n",
    "        self.max_val = max(self.max_val, val)\n",
    "        self.sum += val * n\n",
    "        self.count += n\n",
    "        self.avg = self.sum / self.count\n",
    "\n",
    "\n",
    "def run_pipeline(pipe, epoch_size, batch_size, num_epochs=3, display_freq=8):\n",
    "    \n",
    "    num_iters = epoch_size // batch_size\n",
    "    displ_period = num_iters // display_freq\n",
    "    num_iters = displ_period * display_freq\n",
    "    \n",
    "    print(epoch_size // batch_size, num_iters)\n",
    "    \n",
    "    last_time = None\n",
    "\n",
    "    for i in range(num_epochs):\n",
    "        if i == 0:\n",
    "            print(\"Warm up\")\n",
    "        else:\n",
    "            print(\"Test run \" + str(i))\n",
    "        data_time = AverageMeter()\n",
    "        end = time.time()\n",
    "        for j in range(num_iters):\n",
    "            stop_iter = False\n",
    "            try:\n",
    "                pipe.run()\n",
    "            except StopIteration:\n",
    "                assert j == num_iters - 1\n",
    "                stop_iter = True\n",
    "            if (j + 1) % displ_period == 0:\n",
    "                data_time.update((time.time() - end) / displ_period)\n",
    "                end = time.time()\n",
    "                print(\"{}/ {}, avg time: {} [s], worst time: {} [s], speed: {} [img/s]\".format(\n",
    "                    j + 1,\n",
    "                    num_iters,\n",
    "                    data_time.avg,\n",
    "                    data_time.max_val,\n",
    "                    batch_size / data_time.avg,\n",
    "                ))\n",
    "        pipe.reset()\n",
    "        last_time = batch_size / data_time.avg\n",
    "\n",
    "    print(\"OK\")\n",
    "    return last_time"
   ]
  },
  {
   "cell_type": "code",
   "execution_count": 3,
   "id": "ae506518",
   "metadata": {},
   "outputs": [],
   "source": [
    "data_path = \"/home/ktokarski/imgnet\""
   ]
  },
  {
   "cell_type": "code",
   "execution_count": 4,
   "id": "1f42278f",
   "metadata": {},
   "outputs": [],
   "source": [
    "@pipeline_def\n",
    "def read_images_pipeline(data_path, device=\"gpu\"):\n",
    "    images, labels = fn.readers.file(\n",
    "        name=\"Reader\",\n",
    "        file_root=data_path,\n",
    "        prefetch_queue_depth=1,\n",
    "        random_shuffle=True,\n",
    "        seed=42)\n",
    "    images = fn.decoders.image(images, device=\"cpu\" if device == \"cpu\" else \"mixed\", output_type=types.RGB)\n",
    "    return images, labels\n",
    "\n",
    "def synth_imgs_data(data_path, batch_size, device=\"gpu\"):\n",
    "    pipe = read_images_pipeline(\n",
    "        data_path=data_path, num_threads=4, batch_size=batch_size, device_id=0, device=device)\n",
    "    pipe.build()\n",
    "    ress = [pipe.run() for _ in range(20)]\n",
    "    def source():\n",
    "        while True:\n",
    "            for imgs, labls in ress:\n",
    "                yield imgs, labls\n",
    "    return source"
   ]
  },
  {
   "cell_type": "code",
   "execution_count": 5,
   "id": "387ac154",
   "metadata": {},
   "outputs": [],
   "source": [
    "@pipeline_def\n",
    "def pipeline_box(cb, device=\"gpu\", window_size=3):\n",
    "    images, labels = fn.external_source(cb, device=device, num_outputs=2)\n",
    "    filters = np.full((window_size, window_size), 1. / (window_size ** 2), dtype=np.float32)\n",
    "    edges = fn.experimental.filter(images, filters)\n",
    "    return edges, labels\n",
    "\n",
    "\n",
    "@pipeline_def\n",
    "def pipeline_sep_box(cb, device=\"gpu\", window_size=3):\n",
    "    images, labels = fn.external_source(cb, device=device, num_outputs=2)\n",
    "    x_filt = np.full((1, window_size), 1. / window_size, dtype=np.float32)\n",
    "    y_filt = np.full((window_size, 1), 1. / window_size, dtype=np.float32)\n",
    "    x_images = fn.experimental.filter(images, x_filt)\n",
    "    y_images = fn.experimental.filter(images, y_filt)\n",
    "    return y_images, labels\n",
    "\n",
    "\n",
    "@pipeline_def\n",
    "def pipeline_gb(cb, device=\"gpu\", window_size=3):\n",
    "    images, labels = fn.external_source(cb, device=device, num_outputs=2)\n",
    "    edges = fn.gaussian_blur(images, window_size=window_size)\n",
    "    return edges, labels"
   ]
  },
  {
   "cell_type": "code",
   "execution_count": 6,
   "id": "4ee262b2",
   "metadata": {},
   "outputs": [],
   "source": [
    "def benchmark(pipeline, batch_size, window_size=3):\n",
    "    device = \"gpu\"\n",
    "    source = synth_imgs_data(data_path, batch_size=batch_size, device=device)\n",
    "    pipe = pipeline(source, num_threads=4, batch_size=batch_size, device_id=0, device=device, window_size=window_size)\n",
    "    pipe.build()\n",
    "    epoch_size = 128 * 400\n",
    "    return run_pipeline(pipe, epoch_size, batch_size, num_epochs=3)"
   ]
  },
  {
   "cell_type": "code",
   "execution_count": 7,
   "id": "17da1ac7",
   "metadata": {},
   "outputs": [],
   "source": [
    "box, box_sep, gb = [], [], []"
   ]
  },
  {
   "cell_type": "code",
   "execution_count": 8,
   "id": "7514e14d",
   "metadata": {},
   "outputs": [
    {
     "name": "stdout",
     "output_type": "stream",
     "text": [
      "400 400\n",
      "Warm up\n",
      "50/ 400, avg time: 0.00466578483581543 [s], worst time: 0.00466578483581543 [s], speed: 27433.755413976283 [img/s]\n",
      "100/ 400, avg time: 0.0031156015396118166 [s], worst time: 0.00466578483581543 [s], speed: 41083.559104912994 [img/s]\n",
      "150/ 400, avg time: 0.0025856939951578776 [s], worst time: 0.00466578483581543 [s], speed: 49503.15089090214 [img/s]\n",
      "200/ 400, avg time: 0.0023211240768432617 [s], worst time: 0.00466578483581543 [s], speed: 55145.69482820605 [img/s]\n",
      "250/ 400, avg time: 0.0021622962951660155 [s], worst time: 0.00466578483581543 [s], speed: 59196.32766617328 [img/s]\n",
      "300/ 400, avg time: 0.002056902249654134 [s], worst time: 0.00466578483581543 [s], speed: 62229.500707446394 [img/s]\n",
      "350/ 400, avg time: 0.001980254990713937 [s], worst time: 0.00466578483581543 [s], speed: 64638.14034062979 [img/s]\n",
      "400/ 400, avg time: 0.0019234931468963623 [s], worst time: 0.00466578483581543 [s], speed: 66545.59711144977 [img/s]\n",
      "Test run 1\n",
      "50/ 400, avg time: 0.0015256643295288087 [s], worst time: 0.0015256643295288087 [s], speed: 83897.87813911331 [img/s]\n",
      "100/ 400, avg time: 0.0015509390830993654 [s], worst time: 0.0015762138366699218 [s], speed: 82530.64314054642 [img/s]\n",
      "150/ 400, avg time: 0.0015616162618001302 [s], worst time: 0.0015829706192016602 [s], speed: 81966.35955394694 [img/s]\n",
      "200/ 400, avg time: 0.0015614557266235352 [s], worst time: 0.0015829706192016602 [s], speed: 81974.78661581074 [img/s]\n",
      "250/ 400, avg time: 0.0015543384552001954 [s], worst time: 0.0015829706192016602 [s], speed: 82350.14682404797 [img/s]\n",
      "300/ 400, avg time: 0.0015495642026265462 [s], worst time: 0.0015829706192016602 [s], speed: 82603.8700319981 [img/s]\n",
      "350/ 400, avg time: 0.0015554468972342353 [s], worst time: 0.0015907430648803712 [s], speed: 82291.46249068278 [img/s]\n",
      "400/ 400, avg time: 0.0015517818927764891 [s], worst time: 0.0015907430648803712 [s], speed: 82485.81878409408 [img/s]\n",
      "Test run 2\n",
      "50/ 400, avg time: 0.001527414321899414 [s], worst time: 0.001527414321899414 [s], speed: 83801.75448454992 [img/s]\n",
      "100/ 400, avg time: 0.001526961326599121 [s], worst time: 0.001527414321899414 [s], speed: 83826.6154946335 [img/s]\n",
      "150/ 400, avg time: 0.0015304183959960937 [s], worst time: 0.001537332534790039 [s], speed: 83637.2591540168 [img/s]\n",
      "200/ 400, avg time: 0.00154060959815979 [s], worst time: 0.001571183204650879 [s], speed: 83083.99490233736 [img/s]\n",
      "250/ 400, avg time: 0.0015402069091796874 [s], worst time: 0.001571183204650879 [s], speed: 83105.71731441762 [img/s]\n",
      "300/ 400, avg time: 0.0015382250150044758 [s], worst time: 0.001571183204650879 [s], speed: 83212.79315538082 [img/s]\n",
      "350/ 400, avg time: 0.0015362071990966796 [s], worst time: 0.001571183204650879 [s], speed: 83322.09357908656 [img/s]\n",
      "400/ 400, avg time: 0.0015343886613845825 [s], worst time: 0.001571183204650879 [s], speed: 83420.8458530298 [img/s]\n",
      "OK\n"
     ]
    }
   ],
   "source": [
    "box.append(benchmark(pipeline_box, 128, window_size=3))"
   ]
  },
  {
   "cell_type": "code",
   "execution_count": 9,
   "id": "0bb8c2cc",
   "metadata": {
    "scrolled": true
   },
   "outputs": [
    {
     "name": "stdout",
     "output_type": "stream",
     "text": [
      "400 400\n",
      "Warm up\n",
      "50/ 400, avg time: 0.0012931108474731445 [s], worst time: 0.0012931108474731445 [s], speed: 98986.10026365766 [img/s]\n",
      "100/ 400, avg time: 0.0012636995315551758 [s], worst time: 0.0012931108474731445 [s], speed: 101289.90064788297 [img/s]\n",
      "150/ 400, avg time: 0.0012600024541219075 [s], worst time: 0.0012931108474731445 [s], speed: 101587.10372449463 [img/s]\n",
      "200/ 400, avg time: 0.001259157657623291 [s], worst time: 0.0012931108474731445 [s], speed: 101655.26074122042 [img/s]\n",
      "250/ 400, avg time: 0.0012502670288085938 [s], worst time: 0.0012931108474731445 [s], speed: 102378.12967200611 [img/s]\n",
      "300/ 400, avg time: 0.001245132287343343 [s], worst time: 0.0012931108474731445 [s], speed: 102800.32194258265 [img/s]\n",
      "350/ 400, avg time: 0.0012551137379237585 [s], worst time: 0.00131500244140625 [s], speed: 101982.78939384481 [img/s]\n",
      "400/ 400, avg time: 0.0012512129545211794 [s], worst time: 0.00131500244140625 [s], speed: 102300.73109256107 [img/s]\n",
      "Test run 1\n",
      "50/ 400, avg time: 0.0012139177322387695 [s], worst time: 0.0012139177322387695 [s], speed: 105443.71879627775 [img/s]\n",
      "100/ 400, avg time: 0.0012131285667419433 [s], worst time: 0.0012139177322387695 [s], speed: 105512.31213997796 [img/s]\n",
      "150/ 400, avg time: 0.0012150494257609048 [s], worst time: 0.001218891143798828 [s], speed: 105345.50882145563 [img/s]\n",
      "200/ 400, avg time: 0.0012156486511230467 [s], worst time: 0.001218891143798828 [s], speed: 105293.58123480037 [img/s]\n",
      "250/ 400, avg time: 0.0012819795608520507 [s], worst time: 0.0015473031997680663 [s], speed: 99845.58561520786 [img/s]\n",
      "300/ 400, avg time: 0.0012715919812520344 [s], worst time: 0.0015473031997680663 [s], speed: 100661.21986234035 [img/s]\n",
      "350/ 400, avg time: 0.0012636164256504601 [s], worst time: 0.0015473031997680663 [s], speed: 101296.56231249972 [img/s]\n",
      "400/ 400, avg time: 0.0012580531835556029 [s], worst time: 0.0015473031997680663 [s], speed: 101744.50625230082 [img/s]\n",
      "Test run 2\n",
      "50/ 400, avg time: 0.0012127256393432617 [s], worst time: 0.0012127256393432617 [s], speed: 105547.36854521935 [img/s]\n",
      "100/ 400, avg time: 0.0012148261070251466 [s], worst time: 0.0012169265747070312 [s], speed: 105364.87424808893 [img/s]\n",
      "150/ 400, avg time: 0.0012165085474650065 [s], worst time: 0.0012198734283447267 [s], speed: 105219.15383720884 [img/s]\n",
      "200/ 400, avg time: 0.0012178623676300049 [s], worst time: 0.001221923828125 [s], speed: 105102.18839349775 [img/s]\n",
      "250/ 400, avg time: 0.0012167644500732423 [s], worst time: 0.001221923828125 [s], speed: 105197.02477525138 [img/s]\n",
      "300/ 400, avg time: 0.0012168200810750327 [s], worst time: 0.001221923828125 [s], speed: 105192.21534124826 [img/s]\n",
      "350/ 400, avg time: 0.0012161350250244143 [s], worst time: 0.001221923828125 [s], speed: 105251.47073815292 [img/s]\n",
      "400/ 400, avg time: 0.0012162917852401734 [s], worst time: 0.001221923828125 [s], speed: 105237.90553656057 [img/s]\n",
      "OK\n"
     ]
    }
   ],
   "source": [
    "box_sep.append(benchmark(pipeline_sep_box, 128, window_size=3))"
   ]
  },
  {
   "cell_type": "code",
   "execution_count": 10,
   "id": "1070018e",
   "metadata": {},
   "outputs": [
    {
     "name": "stdout",
     "output_type": "stream",
     "text": [
      "400 400\n",
      "Warm up\n",
      "50/ 400, avg time: 0.0072091627120971676 [s], worst time: 0.0072091627120971676 [s], speed: 17755.182551950533 [img/s]\n",
      "100/ 400, avg time: 0.007171928882598877 [s], worst time: 0.0072091627120971676 [s], speed: 17847.360465406193 [img/s]\n",
      "150/ 400, avg time: 0.00715968132019043 [s], worst time: 0.0072091627120971676 [s], speed: 17877.890687541876 [img/s]\n",
      "200/ 400, avg time: 0.007150344848632813 [s], worst time: 0.0072091627120971676 [s], speed: 17901.23451521004 [img/s]\n",
      "250/ 400, avg time: 0.007142237663269044 [s], worst time: 0.0072091627120971676 [s], speed: 17921.554285189337 [img/s]\n",
      "300/ 400, avg time: 0.007137851715087891 [s], worst time: 0.0072091627120971676 [s], speed: 17932.56642323283 [img/s]\n",
      "350/ 400, avg time: 0.0071322672707693924 [s], worst time: 0.0072091627120971676 [s], speed: 17946.60731862787 [img/s]\n",
      "400/ 400, avg time: 0.007129687070846559 [s], worst time: 0.0072091627120971676 [s], speed: 17953.102110665517 [img/s]\n",
      "Test run 1\n",
      "50/ 400, avg time: 0.007132792472839355 [s], worst time: 0.007132792472839355 [s], speed: 17945.285873296543 [img/s]\n",
      "100/ 400, avg time: 0.007126805782318115 [s], worst time: 0.007132792472839355 [s], speed: 17960.36035071603 [img/s]\n",
      "150/ 400, avg time: 0.007118431727091471 [s], worst time: 0.007132792472839355 [s], speed: 17981.48874742382 [img/s]\n",
      "200/ 400, avg time: 0.007120178937911987 [s], worst time: 0.007132792472839355 [s], speed: 17977.07629487418 [img/s]\n",
      "250/ 400, avg time: 0.007113478660583495 [s], worst time: 0.007132792472839355 [s], speed: 17994.009134976528 [img/s]\n",
      "300/ 400, avg time: 0.007118989626566569 [s], worst time: 0.007146544456481933 [s], speed: 17980.07957791243 [img/s]\n",
      "350/ 400, avg time: 0.007119498252868652 [s], worst time: 0.007146544456481933 [s], speed: 17978.79505742207 [img/s]\n",
      "400/ 400, avg time: 0.007117136716842652 [s], worst time: 0.007146544456481933 [s], speed: 17984.760598611087 [img/s]\n",
      "Test run 2\n",
      "50/ 400, avg time: 0.007170596122741699 [s], worst time: 0.007170596122741699 [s], speed: 17850.677657614164 [img/s]\n",
      "100/ 400, avg time: 0.007143428325653076 [s], worst time: 0.007170596122741699 [s], speed: 17918.567131181764 [img/s]\n",
      "150/ 400, avg time: 0.007136669158935547 [s], worst time: 0.007170596122741699 [s], speed: 17935.53787479922 [img/s]\n",
      "200/ 400, avg time: 0.007128314971923828 [s], worst time: 0.007170596122741699 [s], speed: 17956.557826660493 [img/s]\n",
      "250/ 400, avg time: 0.007125182151794434 [s], worst time: 0.007170596122741699 [s], speed: 17964.453016511863 [img/s]\n",
      "300/ 400, avg time: 0.00712177832921346 [s], worst time: 0.007170596122741699 [s], speed: 17973.039047697588 [img/s]\n",
      "350/ 400, avg time: 0.007120312282017298 [s], worst time: 0.007170596122741699 [s], speed: 17976.73963307345 [img/s]\n",
      "400/ 400, avg time: 0.007122275233268737 [s], worst time: 0.007170596122741699 [s], speed: 17971.78511188411 [img/s]\n",
      "OK\n"
     ]
    }
   ],
   "source": [
    "gb.append(benchmark(pipeline_gb, 128, window_size=3))"
   ]
  },
  {
   "cell_type": "code",
   "execution_count": null,
   "id": "c58cb045",
   "metadata": {},
   "outputs": [],
   "source": []
  },
  {
   "cell_type": "code",
   "execution_count": 11,
   "id": "f8af7770",
   "metadata": {},
   "outputs": [
    {
     "name": "stdout",
     "output_type": "stream",
     "text": [
      "400 400\n",
      "Warm up\n",
      "50/ 400, avg time: 0.002722811698913574 [s], worst time: 0.002722811698913574 [s], speed: 47010.22845284275 [img/s]\n",
      "100/ 400, avg time: 0.0027392363548278805 [s], worst time: 0.0027556610107421875 [s], speed: 46728.35178110903 [img/s]\n",
      "150/ 400, avg time: 0.002731194496154785 [s], worst time: 0.0027556610107421875 [s], speed: 46865.94095741245 [img/s]\n",
      "200/ 400, avg time: 0.0027238476276397706 [s], worst time: 0.0027556610107421875 [s], speed: 46992.34960911258 [img/s]\n",
      "250/ 400, avg time: 0.002723369598388672 [s], worst time: 0.0027556610107421875 [s], speed: 47000.598110419305 [img/s]\n",
      "300/ 400, avg time: 0.0027218516667683918 [s], worst time: 0.0027556610107421875 [s], speed: 47026.80956599381 [img/s]\n",
      "350/ 400, avg time: 0.0027224670137677874 [s], worst time: 0.0027556610107421875 [s], speed: 47016.180307306284 [img/s]\n",
      "400/ 400, avg time: 0.0027205145359039304 [s], worst time: 0.0027556610107421875 [s], speed: 47049.92320780604 [img/s]\n",
      "Test run 1\n",
      "50/ 400, avg time: 0.0027197265625 [s], worst time: 0.0027197265625 [s], speed: 47063.55475763016 [img/s]\n",
      "100/ 400, avg time: 0.0027164602279663086 [s], worst time: 0.0027197265625 [s], speed: 47120.145063131604 [img/s]\n",
      "150/ 400, avg time: 0.002713330586751302 [s], worst time: 0.0027197265625 [s], speed: 47174.494927009866 [img/s]\n",
      "200/ 400, avg time: 0.0027215778827667236 [s], worst time: 0.002746319770812988 [s], speed: 47031.54034668915 [img/s]\n",
      "250/ 400, avg time: 0.002724614143371582 [s], worst time: 0.002746319770812988 [s], speed: 46979.12925079586 [img/s]\n",
      "300/ 400, avg time: 0.002721099058787028 [s], worst time: 0.002746319770812988 [s], speed: 47039.81635165387 [img/s]\n",
      "350/ 400, avg time: 0.002721318517412458 [s], worst time: 0.002746319770812988 [s], speed: 47036.022862074846 [img/s]\n",
      "400/ 400, avg time: 0.002722094655036926 [s], worst time: 0.002746319770812988 [s], speed: 47022.61170938732 [img/s]\n",
      "Test run 2\n",
      "50/ 400, avg time: 0.0027077054977416993 [s], worst time: 0.0027077054977416993 [s], speed: 47272.49699302805 [img/s]\n",
      "100/ 400, avg time: 0.002705714702606201 [s], worst time: 0.0027077054977416993 [s], speed: 47307.27887781654 [img/s]\n",
      "150/ 400, avg time: 0.00270570437113444 [s], worst time: 0.0027077054977416993 [s], speed: 47307.45951610838 [img/s]\n",
      "200/ 400, avg time: 0.0027090203762054443 [s], worst time: 0.002718968391418457 [s], speed: 47249.55231945913 [img/s]\n",
      "250/ 400, avg time: 0.00270833683013916 [s], worst time: 0.002718968391418457 [s], speed: 47261.47744090719 [img/s]\n",
      "300/ 400, avg time: 0.0027084088325500487 [s], worst time: 0.002718968391418457 [s], speed: 47260.22100566115 [img/s]\n",
      "350/ 400, avg time: 0.0027080774307250977 [s], worst time: 0.002718968391418457 [s], speed: 47266.004490029496 [img/s]\n",
      "400/ 400, avg time: 0.002720145583152771 [s], worst time: 0.0028046226501464845 [s], speed: 47056.30492454828 [img/s]\n",
      "OK\n"
     ]
    }
   ],
   "source": [
    "box.append(benchmark(pipeline_box, 128, window_size=7))"
   ]
  },
  {
   "cell_type": "code",
   "execution_count": 12,
   "id": "b60fc6a4",
   "metadata": {},
   "outputs": [
    {
     "name": "stdout",
     "output_type": "stream",
     "text": [
      "400 400\n",
      "Warm up\n",
      "50/ 400, avg time: 0.0015288448333740233 [s], worst time: 0.0015288448333740233 [s], speed: 83723.34275252478 [img/s]\n",
      "100/ 400, avg time: 0.0014928269386291504 [s], worst time: 0.0015288448333740233 [s], speed: 85743.36159658349 [img/s]\n",
      "150/ 400, avg time: 0.0014798148473103843 [s], worst time: 0.0015288448333740233 [s], speed: 86497.30757374446 [img/s]\n",
      "200/ 400, avg time: 0.0014742445945739747 [s], worst time: 0.0015288448333740233 [s], speed: 86824.12706216452 [img/s]\n",
      "250/ 400, avg time: 0.0014714107513427734 [s], worst time: 0.0015288448333740233 [s], speed: 86991.34479151409 [img/s]\n",
      "300/ 400, avg time: 0.001481948693593343 [s], worst time: 0.0015346384048461914 [s], speed: 86372.76078001935 [img/s]\n",
      "350/ 400, avg time: 0.0014842373984200615 [s], worst time: 0.0015346384048461914 [s], speed: 86239.57335683175 [img/s]\n",
      "400/ 400, avg time: 0.0014807838201522827 [s], worst time: 0.0015346384048461914 [s], speed: 86440.70677841184 [img/s]\n",
      "Test run 1\n",
      "50/ 400, avg time: 0.001457090377807617 [s], worst time: 0.001457090377807617 [s], speed: 87846.30105964513 [img/s]\n",
      "100/ 400, avg time: 0.0014579081535339355 [s], worst time: 0.001458725929260254 [s], speed: 87797.02595786365 [img/s]\n",
      "150/ 400, avg time: 0.0014584922790527345 [s], worst time: 0.001459660530090332 [s], speed: 87761.86328743117 [img/s]\n",
      "200/ 400, avg time: 0.0014577412605285647 [s], worst time: 0.001459660530090332 [s], speed: 87807.07761100779 [img/s]\n",
      "250/ 400, avg time: 0.0014565420150756839 [s], worst time: 0.001459660530090332 [s], speed: 87879.37366389595 [img/s]\n",
      "300/ 400, avg time: 0.0014689938227335612 [s], worst time: 0.0015312528610229492 [s], speed: 87134.47124087464 [img/s]\n",
      "350/ 400, avg time: 0.0014707926341465543 [s], worst time: 0.0015312528610229492 [s], speed: 87027.90388549477 [img/s]\n",
      "400/ 400, avg time: 0.0014706361293792725 [s], worst time: 0.0015312528610229492 [s], speed: 87037.16537552112 [img/s]\n",
      "Test run 2\n",
      "50/ 400, avg time: 0.0015657520294189453 [s], worst time: 0.0015657520294189453 [s], speed: 81749.85412441147 [img/s]\n",
      "100/ 400, avg time: 0.0015427088737487793 [s], worst time: 0.0015657520294189453 [s], speed: 82970.9364988355 [img/s]\n",
      "150/ 400, avg time: 0.0015120426813761394 [s], worst time: 0.0015657520294189453 [s], speed: 84653.69501574169 [img/s]\n",
      "200/ 400, avg time: 0.0014981913566589357 [s], worst time: 0.0015657520294189453 [s], speed: 85436.34925611127 [img/s]\n",
      "250/ 400, avg time: 0.0014897384643554688 [s], worst time: 0.0015657520294189453 [s], speed: 85921.12176910116 [img/s]\n",
      "300/ 400, avg time: 0.0014845673243204752 [s], worst time: 0.0015657520294189453 [s], speed: 86220.40772626389 [img/s]\n",
      "350/ 400, avg time: 0.0014800650732857842 [s], worst time: 0.0015657520294189453 [s], speed: 86482.68397810143 [img/s]\n",
      "400/ 400, avg time: 0.0014768731594085693 [s], worst time: 0.0015657520294189453 [s], speed: 86669.59595315487 [img/s]\n",
      "OK\n"
     ]
    }
   ],
   "source": [
    "box_sep.append(benchmark(pipeline_sep_box, 128, window_size=7))"
   ]
  },
  {
   "cell_type": "code",
   "execution_count": 13,
   "id": "a16fe85a",
   "metadata": {},
   "outputs": [
    {
     "name": "stdout",
     "output_type": "stream",
     "text": [
      "400 400\n",
      "Warm up\n",
      "50/ 400, avg time: 0.007464814186096192 [s], worst time: 0.007464814186096192 [s], speed: 17147.111342491306 [img/s]\n",
      "100/ 400, avg time: 0.0074618816375732425 [s], worst time: 0.007464814186096192 [s], speed: 17153.850223980266 [img/s]\n",
      "150/ 400, avg time: 0.007454150517781575 [s], worst time: 0.007464814186096192 [s], speed: 17171.641449238403 [img/s]\n",
      "200/ 400, avg time: 0.007442375421524048 [s], worst time: 0.007464814186096192 [s], speed: 17198.80988935495 [img/s]\n",
      "250/ 400, avg time: 0.007434441566467285 [s], worst time: 0.007464814186096192 [s], speed: 17217.164040583524 [img/s]\n",
      "300/ 400, avg time: 0.007431557973225911 [s], worst time: 0.007464814186096192 [s], speed: 17223.844644844692 [img/s]\n",
      "350/ 400, avg time: 0.007430314336504255 [s], worst time: 0.007464814186096192 [s], speed: 17226.727457700024 [img/s]\n",
      "400/ 400, avg time: 0.007429706454277039 [s], worst time: 0.007464814186096192 [s], speed: 17228.136910619745 [img/s]\n",
      "Test run 1\n",
      "50/ 400, avg time: 0.00741483211517334 [s], worst time: 0.00741483211517334 [s], speed: 17262.69698515051 [img/s]\n",
      "100/ 400, avg time: 0.007420604228973389 [s], worst time: 0.007426376342773437 [s], speed: 17249.269203743574 [img/s]\n",
      "150/ 400, avg time: 0.0074189138412475595 [s], worst time: 0.007426376342773437 [s], speed: 17253.19942231269 [img/s]\n",
      "200/ 400, avg time: 0.007432346343994142 [s], worst time: 0.007472643852233887 [s], speed: 17222.017661143174 [img/s]\n",
      "250/ 400, avg time: 0.007422781944274903 [s], worst time: 0.007472643852233887 [s], speed: 17244.208567749287 [img/s]\n",
      "300/ 400, avg time: 0.007424003283182781 [s], worst time: 0.007472643852233887 [s], speed: 17241.371685536822 [img/s]\n",
      "350/ 400, avg time: 0.007423097746712822 [s], worst time: 0.007472643852233887 [s], speed: 17243.474943689427 [img/s]\n",
      "400/ 400, avg time: 0.007417226433753968 [s], worst time: 0.007472643852233887 [s], speed: 17257.124498384404 [img/s]\n",
      "Test run 2\n",
      "50/ 400, avg time: 0.007445216178894043 [s], worst time: 0.007445216178894043 [s], speed: 17192.247602273637 [img/s]\n",
      "100/ 400, avg time: 0.007437853813171387 [s], worst time: 0.007445216178894043 [s], speed: 17209.265362721984 [img/s]\n",
      "150/ 400, avg time: 0.007429264386494955 [s], worst time: 0.007445216178894043 [s], speed: 17229.16204633673 [img/s]\n",
      "200/ 400, avg time: 0.007430894374847412 [s], worst time: 0.007445216178894043 [s], speed: 17225.38277939503 [img/s]\n",
      "250/ 400, avg time: 0.007428678512573242 [s], worst time: 0.007445216178894043 [s], speed: 17230.52085015612 [img/s]\n",
      "300/ 400, avg time: 0.007424911657969157 [s], worst time: 0.007445216178894043 [s], speed: 17239.262350363133 [img/s]\n",
      "350/ 400, avg time: 0.007423930168151855 [s], worst time: 0.007445216178894043 [s], speed: 17241.541488241783 [img/s]\n",
      "400/ 400, avg time: 0.0074245363473892205 [s], worst time: 0.007445216178894043 [s], speed: 17240.133795696238 [img/s]\n",
      "OK\n"
     ]
    }
   ],
   "source": [
    "gb.append(benchmark(pipeline_gb, 128, window_size=7))"
   ]
  },
  {
   "cell_type": "code",
   "execution_count": null,
   "id": "d6c88f1f",
   "metadata": {},
   "outputs": [],
   "source": []
  },
  {
   "cell_type": "code",
   "execution_count": 14,
   "id": "a902ddbe",
   "metadata": {},
   "outputs": [
    {
     "name": "stdout",
     "output_type": "stream",
     "text": [
      "400 400\n",
      "Warm up\n",
      "50/ 400, avg time: 0.004792208671569824 [s], worst time: 0.004792208671569824 [s], speed: 26710.022199027066 [img/s]\n",
      "100/ 400, avg time: 0.004758415222167968 [s], worst time: 0.004792208671569824 [s], speed: 26899.712199071666 [img/s]\n",
      "150/ 400, avg time: 0.004749444325764973 [s], worst time: 0.004792208671569824 [s], speed: 26950.521202158438 [img/s]\n",
      "200/ 400, avg time: 0.004742186069488525 [s], worst time: 0.004792208671569824 [s], speed: 26991.770909952003 [img/s]\n",
      "250/ 400, avg time: 0.00474055290222168 [s], worst time: 0.004792208671569824 [s], speed: 27001.06984145505 [img/s]\n",
      "300/ 400, avg time: 0.004742821852366129 [s], worst time: 0.004792208671569824 [s], speed: 26988.152619762124 [img/s]\n",
      "350/ 400, avg time: 0.004739415986197335 [s], worst time: 0.004792208671569824 [s], speed: 27007.54700004729 [img/s]\n",
      "400/ 400, avg time: 0.0047417312860488885 [s], worst time: 0.004792208671569824 [s], speed: 26994.35971342394 [img/s]\n",
      "Test run 1\n",
      "50/ 400, avg time: 0.004729375839233398 [s], worst time: 0.004729375839233398 [s], speed: 27064.88220668628 [img/s]\n",
      "100/ 400, avg time: 0.004731490612030029 [s], worst time: 0.00473360538482666 [s], speed: 27052.78536843214 [img/s]\n",
      "150/ 400, avg time: 0.0047576252619425455 [s], worst time: 0.004809894561767578 [s], speed: 26904.178650618946 [img/s]\n",
      "200/ 400, avg time: 0.004752404689788818 [s], worst time: 0.004809894561767578 [s], speed: 26933.733205639084 [img/s]\n",
      "250/ 400, avg time: 0.004750138282775878 [s], worst time: 0.004809894561767578 [s], speed: 26946.583947699215 [img/s]\n",
      "300/ 400, avg time: 0.004745207627614339 [s], worst time: 0.004809894561767578 [s], speed: 26974.583631517973 [img/s]\n",
      "350/ 400, avg time: 0.004743655068533761 [s], worst time: 0.004809894561767578 [s], speed: 26983.412189698716 [img/s]\n",
      "400/ 400, avg time: 0.004740323424339295 [s], worst time: 0.004809894561767578 [s], speed: 27002.376956555578 [img/s]\n",
      "Test run 2\n",
      "50/ 400, avg time: 0.0047502899169921875 [s], worst time: 0.0047502899169921875 [s], speed: 26945.72378459117 [img/s]\n",
      "100/ 400, avg time: 0.004737932682037354 [s], worst time: 0.0047502899169921875 [s], speed: 27016.002250365204 [img/s]\n",
      "150/ 400, avg time: 0.004739500681559245 [s], worst time: 0.0047502899169921875 [s], speed: 27007.064372420216 [img/s]\n",
      "200/ 400, avg time: 0.004741343259811402 [s], worst time: 0.0047502899169921875 [s], speed: 26996.56890167693 [img/s]\n",
      "250/ 400, avg time: 0.004736675262451173 [s], worst time: 0.0047502899169921875 [s], speed: 27023.17404249527 [img/s]\n",
      "300/ 400, avg time: 0.004737892945607503 [s], worst time: 0.0047502899169921875 [s], speed: 27016.22883198927 [img/s]\n",
      "350/ 400, avg time: 0.00473334380558559 [s], worst time: 0.0047502899169921875 [s], speed: 27042.19369168861 [img/s]\n",
      "400/ 400, avg time: 0.004735440611839295 [s], worst time: 0.0047502899169921875 [s], speed: 27030.219675858938 [img/s]\n",
      "OK\n"
     ]
    }
   ],
   "source": [
    "box.append(benchmark(pipeline_box, 128, window_size=11))"
   ]
  },
  {
   "cell_type": "code",
   "execution_count": 15,
   "id": "9548926c",
   "metadata": {},
   "outputs": [
    {
     "name": "stdout",
     "output_type": "stream",
     "text": [
      "400 400\n",
      "Warm up\n",
      "50/ 400, avg time: 0.0018292713165283204 [s], worst time: 0.0018292713165283204 [s], speed: 69973.21766512176 [img/s]\n",
      "100/ 400, avg time: 0.0017691779136657715 [s], worst time: 0.0018292713165283204 [s], speed: 72349.98753448231 [img/s]\n",
      "150/ 400, avg time: 0.0017391602198282877 [s], worst time: 0.0018292713165283204 [s], speed: 73598.73951845437 [img/s]\n",
      "200/ 400, avg time: 0.001726773977279663 [s], worst time: 0.0018292713165283204 [s], speed: 74126.66723276055 [img/s]\n",
      "250/ 400, avg time: 0.001716416358947754 [s], worst time: 0.0018292713165283204 [s], speed: 74573.98045219644 [img/s]\n",
      "300/ 400, avg time: 0.0017105491956075035 [s], worst time: 0.0018292713165283204 [s], speed: 74829.76831574882 [img/s]\n",
      "350/ 400, avg time: 0.0017148630959647043 [s], worst time: 0.0018292713165283204 [s], speed: 74641.52695407618 [img/s]\n",
      "400/ 400, avg time: 0.001709515452384949 [s], worst time: 0.0018292713165283204 [s], speed: 74875.01784287876 [img/s]\n",
      "Test run 1\n",
      "50/ 400, avg time: 0.0016760921478271484 [s], worst time: 0.0016760921478271484 [s], speed: 76368.11625538404 [img/s]\n",
      "100/ 400, avg time: 0.0016789436340332031 [s], worst time: 0.0016817951202392578 [s], speed: 76238.41408690713 [img/s]\n",
      "150/ 400, avg time: 0.0016778294245402019 [s], worst time: 0.0016817951202392578 [s], speed: 76289.04233520494 [img/s]\n",
      "200/ 400, avg time: 0.001676734685897827 [s], worst time: 0.0016817951202392578 [s], speed: 76338.85138569845 [img/s]\n",
      "250/ 400, avg time: 0.0016765327453613283 [s], worst time: 0.0016817951202392578 [s], speed: 76348.0464990341 [img/s]\n",
      "300/ 400, avg time: 0.001676022211710612 [s], worst time: 0.0016817951202392578 [s], speed: 76371.30290138478 [img/s]\n",
      "350/ 400, avg time: 0.0016761636734008792 [s], worst time: 0.0016817951202392578 [s], speed: 76364.85746066335 [img/s]\n",
      "400/ 400, avg time: 0.0016756856441497805 [s], worst time: 0.0016817951202392578 [s], speed: 76386.64235555076 [img/s]\n",
      "Test run 2\n",
      "50/ 400, avg time: 0.0016755342483520507 [s], worst time: 0.0016755342483520507 [s], speed: 76393.54440286296 [img/s]\n",
      "100/ 400, avg time: 0.0016769123077392577 [s], worst time: 0.001678290367126465 [s], speed: 76330.76542479683 [img/s]\n",
      "150/ 400, avg time: 0.0016749111811319986 [s], worst time: 0.001678290367126465 [s], speed: 76421.96281327016 [img/s]\n",
      "200/ 400, avg time: 0.0016759300231933593 [s], worst time: 0.0016789865493774415 [s], speed: 76375.50388655582 [img/s]\n",
      "250/ 400, avg time: 0.0016748991012573242 [s], worst time: 0.0016789865493774415 [s], speed: 76422.51399138737 [img/s]\n",
      "300/ 400, avg time: 0.0016745948791503905 [s], worst time: 0.0016789865493774415 [s], speed: 76436.39759900681 [img/s]\n",
      "350/ 400, avg time: 0.0016744477408272879 [s], worst time: 0.0016789865493774415 [s], speed: 76443.11427525325 [img/s]\n",
      "400/ 400, avg time: 0.0016746199131011962 [s], worst time: 0.0016789865493774415 [s], speed: 76435.25494866431 [img/s]\n",
      "OK\n"
     ]
    }
   ],
   "source": [
    "box_sep.append(benchmark(pipeline_sep_box, 128, window_size=11))"
   ]
  },
  {
   "cell_type": "code",
   "execution_count": 16,
   "id": "676f651b",
   "metadata": {},
   "outputs": [
    {
     "name": "stdout",
     "output_type": "stream",
     "text": [
      "400 400\n",
      "Warm up\n",
      "50/ 400, avg time: 0.0077442598342895505 [s], worst time: 0.0077442598342895505 [s], speed: 16528.37104370512 [img/s]\n",
      "100/ 400, avg time: 0.0077078151702880855 [s], worst time: 0.0077442598342895505 [s], speed: 16606.52171492274 [img/s]\n",
      "150/ 400, avg time: 0.00770417054494222 [s], worst time: 0.0077442598342895505 [s], speed: 16614.377791004623 [img/s]\n",
      "200/ 400, avg time: 0.007693749666213989 [s], worst time: 0.0077442598342895505 [s], speed: 16636.88130666557 [img/s]\n",
      "250/ 400, avg time: 0.007692437171936036 [s], worst time: 0.0077442598342895505 [s], speed: 16639.71991438247 [img/s]\n",
      "300/ 400, avg time: 0.007689634164174398 [s], worst time: 0.0077442598342895505 [s], speed: 16645.785386819218 [img/s]\n",
      "350/ 400, avg time: 0.0076908820016043525 [s], worst time: 0.0077442598342895505 [s], speed: 16643.084625833373 [img/s]\n",
      "400/ 400, avg time: 0.007686583399772644 [s], worst time: 0.0077442598342895505 [s], speed: 16652.39201122647 [img/s]\n",
      "Test run 1\n",
      "50/ 400, avg time: 0.007663664817810059 [s], worst time: 0.007663664817810059 [s], speed: 16702.191842019627 [img/s]\n",
      "100/ 400, avg time: 0.007690691947937011 [s], worst time: 0.007717719078063965 [s], speed: 16643.495912527786 [img/s]\n",
      "150/ 400, avg time: 0.007701373100280761 [s], worst time: 0.007722735404968262 [s], speed: 16620.41279305552 [img/s]\n",
      "200/ 400, avg time: 0.007691953182220459 [s], worst time: 0.007722735404968262 [s], speed: 16640.766911564828 [img/s]\n",
      "250/ 400, avg time: 0.007691902160644531 [s], worst time: 0.007722735404968262 [s], speed: 16640.877292343826 [img/s]\n",
      "300/ 400, avg time: 0.007685936292012533 [s], worst time: 0.007722735404968262 [s], speed: 16653.79403847279 [img/s]\n",
      "350/ 400, avg time: 0.007685085024152484 [s], worst time: 0.007722735404968262 [s], speed: 16655.63875971768 [img/s]\n",
      "400/ 400, avg time: 0.007686551809310913 [s], worst time: 0.007722735404968262 [s], speed: 16652.46044981449 [img/s]\n",
      "Test run 2\n",
      "50/ 400, avg time: 0.007664332389831543 [s], worst time: 0.007664332389831543 [s], speed: 16700.737062215714 [img/s]\n",
      "100/ 400, avg time: 0.007662124633789062 [s], worst time: 0.007664332389831543 [s], speed: 16705.549193957922 [img/s]\n",
      "150/ 400, avg time: 0.0076704057057698566 [s], worst time: 0.007686967849731445 [s], speed: 16687.513660941746 [img/s]\n",
      "200/ 400, avg time: 0.007671250104904175 [s], worst time: 0.007686967849731445 [s], speed: 16685.6768127232 [img/s]\n",
      "250/ 400, avg time: 0.007669993400573731 [s], worst time: 0.007686967849731445 [s], speed: 16688.410708466236 [img/s]\n",
      "300/ 400, avg time: 0.007673366864522298 [s], worst time: 0.007690234184265137 [s], speed: 16681.073935328983 [img/s]\n",
      "350/ 400, avg time: 0.00767115524836949 [s], worst time: 0.007690234184265137 [s], speed: 16685.883136989894 [img/s]\n",
      "400/ 400, avg time: 0.007667840123176575 [s], worst time: 0.007690234184265137 [s], speed: 16693.097136064585 [img/s]\n",
      "OK\n"
     ]
    }
   ],
   "source": [
    "gb.append(benchmark(pipeline_gb, 128, window_size=11))"
   ]
  },
  {
   "cell_type": "code",
   "execution_count": null,
   "id": "22fce188",
   "metadata": {},
   "outputs": [],
   "source": []
  },
  {
   "cell_type": "code",
   "execution_count": 17,
   "id": "2748aaf8",
   "metadata": {},
   "outputs": [
    {
     "name": "stdout",
     "output_type": "stream",
     "text": [
      "400 400\n",
      "Warm up\n",
      "50/ 400, avg time: 0.007770228385925293 [s], worst time: 0.007770228385925293 [s], speed: 16473.132273930907 [img/s]\n",
      "100/ 400, avg time: 0.007774658203125 [s], worst time: 0.007779088020324707 [s], speed: 16463.746271000156 [img/s]\n",
      "150/ 400, avg time: 0.0077605660756429025 [s], worst time: 0.007779088020324707 [s], speed: 16493.6421843939 [img/s]\n",
      "200/ 400, avg time: 0.007760577201843261 [s], worst time: 0.007779088020324707 [s], speed: 16493.618537754894 [img/s]\n",
      "250/ 400, avg time: 0.0077544527053833 [s], worst time: 0.007779088020324707 [s], speed: 16506.6452608757 [img/s]\n",
      "300/ 400, avg time: 0.007750887076059976 [s], worst time: 0.007779088020324707 [s], speed: 16514.23878891892 [img/s]\n",
      "350/ 400, avg time: 0.007748874936785015 [s], worst time: 0.007779088020324707 [s], speed: 16518.527017692042 [img/s]\n",
      "400/ 400, avg time: 0.007748839259147643 [s], worst time: 0.007779088020324707 [s], speed: 16518.603073214315 [img/s]\n",
      "Test run 1\n",
      "50/ 400, avg time: 0.007739553451538086 [s], worst time: 0.007739553451538086 [s], speed: 16538.42186134944 [img/s]\n",
      "100/ 400, avg time: 0.007740447521209717 [s], worst time: 0.007741341590881348 [s], speed: 16536.511571102998 [img/s]\n",
      "150/ 400, avg time: 0.0077420155207316085 [s], worst time: 0.007745151519775391 [s], speed: 16533.162411937945 [img/s]\n",
      "200/ 400, avg time: 0.007746183872222901 [s], worst time: 0.007758688926696777 [s], speed: 16524.265639884456 [img/s]\n",
      "250/ 400, avg time: 0.007749820709228516 [s], worst time: 0.007764368057250976 [s], speed: 16516.511130067447 [img/s]\n",
      "300/ 400, avg time: 0.007749572594960531 [s], worst time: 0.007764368057250976 [s], speed: 16517.03993111015 [img/s]\n",
      "350/ 400, avg time: 0.007748701231820243 [s], worst time: 0.007764368057250976 [s], speed: 16518.897318477666 [img/s]\n",
      "400/ 400, avg time: 0.0077476888895034795 [s], worst time: 0.007764368057250976 [s], speed: 16521.05574004315 [img/s]\n",
      "Test run 2\n",
      "50/ 400, avg time: 0.007791543006896972 [s], worst time: 0.007791543006896972 [s], speed: 16428.068212765567 [img/s]\n",
      "100/ 400, avg time: 0.007767293453216553 [s], worst time: 0.007791543006896972 [s], speed: 16479.3567760715 [img/s]\n",
      "150/ 400, avg time: 0.007768268585205078 [s], worst time: 0.007791543006896972 [s], speed: 16477.28816222706 [img/s]\n",
      "200/ 400, avg time: 0.007763079404830933 [s], worst time: 0.007791543006896972 [s], speed: 16488.302299258477 [img/s]\n",
      "250/ 400, avg time: 0.007761688232421874 [s], worst time: 0.007791543006896972 [s], speed: 16491.25759333163 [img/s]\n",
      "300/ 400, avg time: 0.00776280641555786 [s], worst time: 0.007791543006896972 [s], speed: 16488.8821320429 [img/s]\n",
      "350/ 400, avg time: 0.007764304024832589 [s], worst time: 0.007791543006896972 [s], speed: 16485.701692079205 [img/s]\n",
      "400/ 400, avg time: 0.007763842940330505 [s], worst time: 0.007791543006896972 [s], speed: 16486.68075639241 [img/s]\n",
      "OK\n"
     ]
    }
   ],
   "source": [
    "box.append(benchmark(pipeline_box, 128, window_size=15))"
   ]
  },
  {
   "cell_type": "code",
   "execution_count": 18,
   "id": "cd956d56",
   "metadata": {},
   "outputs": [
    {
     "name": "stdout",
     "output_type": "stream",
     "text": [
      "400 400\n",
      "Warm up\n",
      "50/ 400, avg time: 0.00197993278503418 [s], worst time: 0.00197993278503418 [s], speed: 64648.65927142588 [img/s]\n",
      "100/ 400, avg time: 0.001934952735900879 [s], worst time: 0.00197993278503418 [s], speed: 66151.48661003624 [img/s]\n",
      "150/ 400, avg time: 0.0019194014867146812 [s], worst time: 0.00197993278503418 [s], speed: 66687.45485817538 [img/s]\n",
      "200/ 400, avg time: 0.001917177438735962 [s], worst time: 0.00197993278503418 [s], speed: 66764.8165546916 [img/s]\n",
      "250/ 400, avg time: 0.0019233570098876954 [s], worst time: 0.00197993278503418 [s], speed: 66550.30727107388 [img/s]\n",
      "300/ 400, avg time: 0.0019188300768534343 [s], worst time: 0.00197993278503418 [s], speed: 66707.31376584369 [img/s]\n",
      "350/ 400, avg time: 0.001913766860961914 [s], worst time: 0.00197993278503418 [s], speed: 66883.8000129564 [img/s]\n",
      "400/ 400, avg time: 0.0019104254245758058 [s], worst time: 0.00197993278503418 [s], speed: 67000.78336134023 [img/s]\n",
      "Test run 1\n",
      "50/ 400, avg time: 0.00189023494720459 [s], worst time: 0.00189023494720459 [s], speed: 67716.44984624544 [img/s]\n",
      "100/ 400, avg time: 0.0018909549713134765 [s], worst time: 0.0018916749954223633 [s], speed: 67690.66526797827 [img/s]\n",
      "150/ 400, avg time: 0.0018903859456380206 [s], worst time: 0.0018916749954223633 [s], speed: 67711.04085668546 [img/s]\n",
      "200/ 400, avg time: 0.0018905162811279296 [s], worst time: 0.0018916749954223633 [s], speed: 67706.37273942544 [img/s]\n",
      "250/ 400, avg time: 0.0018899269104003906 [s], worst time: 0.0018916749954223633 [s], speed: 67727.48686502514 [img/s]\n",
      "300/ 400, avg time: 0.0018900108337402343 [s], worst time: 0.0018916749954223633 [s], speed: 67724.47951882613 [img/s]\n",
      "350/ 400, avg time: 0.0018890203748430524 [s], worst time: 0.0018916749954223633 [s], speed: 67759.98909521279 [img/s]\n",
      "400/ 400, avg time: 0.0018887490034103392 [s], worst time: 0.0018916749954223633 [s], speed: 67769.72470607913 [img/s]\n",
      "Test run 2\n",
      "50/ 400, avg time: 0.0019098281860351562 [s], worst time: 0.0019098281860351562 [s], speed: 67021.73574353341 [img/s]\n",
      "100/ 400, avg time: 0.0019005823135375976 [s], worst time: 0.0019098281860351562 [s], speed: 67347.78025043843 [img/s]\n",
      "150/ 400, avg time: 0.0018976275126139322 [s], worst time: 0.0019098281860351562 [s], speed: 67452.64766091178 [img/s]\n",
      "200/ 400, avg time: 0.001903531551361084 [s], worst time: 0.001921243667602539 [s], speed: 67243.43492414194 [img/s]\n",
      "250/ 400, avg time: 0.0019113292694091794 [s], worst time: 0.0019425201416015626 [s], speed: 66969.0994893657 [img/s]\n",
      "300/ 400, avg time: 0.0019160087903340656 [s], worst time: 0.0019425201416015626 [s], speed: 66805.53901722057 [img/s]\n",
      "350/ 400, avg time: 0.0019209146499633788 [s], worst time: 0.0019503498077392577 [s], speed: 66634.9231093845 [img/s]\n",
      "400/ 400, avg time: 0.0019233524799346922 [s], worst time: 0.0019503498077392577 [s], speed: 66550.46401289184 [img/s]\n",
      "OK\n"
     ]
    }
   ],
   "source": [
    "box_sep.append(benchmark(pipeline_sep_box, 128, window_size=15))"
   ]
  },
  {
   "cell_type": "code",
   "execution_count": 19,
   "id": "0f4b4da4",
   "metadata": {},
   "outputs": [
    {
     "name": "stdout",
     "output_type": "stream",
     "text": [
      "400 400\n",
      "Warm up\n",
      "50/ 400, avg time: 0.008180880546569824 [s], worst time: 0.008180880546569824 [s], speed: 15646.237501129306 [img/s]\n",
      "100/ 400, avg time: 0.00811619997024536 [s], worst time: 0.008180880546569824 [s], speed: 15770.927339057473 [img/s]\n",
      "150/ 400, avg time: 0.008098691304524739 [s], worst time: 0.008180880546569824 [s], speed: 15805.022711322063 [img/s]\n",
      "200/ 400, avg time: 0.008088511228561402 [s], worst time: 0.008180880546569824 [s], speed: 15824.91467008394 [img/s]\n",
      "250/ 400, avg time: 0.008078928947448731 [s], worst time: 0.008180880546569824 [s], speed: 15843.684333976164 [img/s]\n",
      "300/ 400, avg time: 0.008071266015370686 [s], worst time: 0.008180880546569824 [s], speed: 15858.726469458508 [img/s]\n",
      "350/ 400, avg time: 0.008069622176034111 [s], worst time: 0.008180880546569824 [s], speed: 15861.95700464712 [img/s]\n",
      "400/ 400, avg time: 0.008069338202476501 [s], worst time: 0.008180880546569824 [s], speed: 15862.515213542105 [img/s]\n",
      "Test run 1\n",
      "50/ 400, avg time: 0.008062028884887695 [s], worst time: 0.008062028884887695 [s], speed: 15876.896725083248 [img/s]\n",
      "100/ 400, avg time: 0.008057818412780762 [s], worst time: 0.008062028884887695 [s], speed: 15885.192919832387 [img/s]\n",
      "150/ 400, avg time: 0.008065069516499837 [s], worst time: 0.008079571723937988 [s], speed: 15870.910937361738 [img/s]\n",
      "200/ 400, avg time: 0.008066216707229614 [s], worst time: 0.008079571723937988 [s], speed: 15868.653750062995 [img/s]\n",
      "250/ 400, avg time: 0.008066165924072267 [s], worst time: 0.008079571723937988 [s], speed: 15868.753656306912 [img/s]\n",
      "300/ 400, avg time: 0.008066632747650147 [s], worst time: 0.008079571723937988 [s], speed: 15867.835316698542 [img/s]\n",
      "350/ 400, avg time: 0.008066445759364537 [s], worst time: 0.008079571723937988 [s], speed: 15868.20314900173 [img/s]\n",
      "400/ 400, avg time: 0.008071412444114686 [s], worst time: 0.008106179237365722 [s], speed: 15858.438765984743 [img/s]\n",
      "Test run 2\n",
      "50/ 400, avg time: 0.008050756454467773 [s], worst time: 0.008050756454467773 [s], speed: 15899.127085004082 [img/s]\n",
      "100/ 400, avg time: 0.008073735237121581 [s], worst time: 0.008096714019775391 [s], speed: 15853.876333655213 [img/s]\n",
      "150/ 400, avg time: 0.008071943918863933 [s], worst time: 0.008096714019775391 [s], speed: 15857.394611088312 [img/s]\n",
      "200/ 400, avg time: 0.00806879997253418 [s], worst time: 0.008096714019775391 [s], speed: 15863.573323877907 [img/s]\n",
      "250/ 400, avg time: 0.00806672191619873 [s], worst time: 0.008096714019775391 [s], speed: 15867.65991560513 [img/s]\n",
      "300/ 400, avg time: 0.008066429297129312 [s], worst time: 0.008096714019775391 [s], speed: 15868.23553335461 [img/s]\n",
      "350/ 400, avg time: 0.008063752991812568 [s], worst time: 0.008096714019775391 [s], speed: 15873.502093871577 [img/s]\n",
      "400/ 400, avg time: 0.008064759969711304 [s], worst time: 0.008096714019775391 [s], speed: 15871.520104842259 [img/s]\n",
      "OK\n"
     ]
    }
   ],
   "source": [
    "gb.append(benchmark(pipeline_gb, 128, window_size=15))"
   ]
  },
  {
   "cell_type": "code",
   "execution_count": null,
   "id": "357b91b7",
   "metadata": {},
   "outputs": [],
   "source": []
  },
  {
   "cell_type": "code",
   "execution_count": 20,
   "id": "799bc303",
   "metadata": {},
   "outputs": [
    {
     "name": "stdout",
     "output_type": "stream",
     "text": [
      "400 400\n",
      "Warm up\n",
      "50/ 400, avg time: 0.07787115097045899 [s], worst time: 0.07787115097045899 [s], speed: 1643.7409541892835 [img/s]\n",
      "100/ 400, avg time: 0.07786834478378296 [s], worst time: 0.07787115097045899 [s], speed: 1643.8001906348159 [img/s]\n",
      "150/ 400, avg time: 0.07786058266957602 [s], worst time: 0.07787115097045899 [s], speed: 1643.9640651445566 [img/s]\n",
      "200/ 400, avg time: 0.0778609561920166 [s], worst time: 0.07787115097045899 [s], speed: 1643.956178554154 [img/s]\n",
      "250/ 400, avg time: 0.07786192512512208 [s], worst time: 0.07787115097045899 [s], speed: 1643.9357207557782 [img/s]\n",
      "300/ 400, avg time: 0.07786439895629883 [s], worst time: 0.07787676811218262 [s], speed: 1643.883491245333 [img/s]\n",
      "350/ 400, avg time: 0.07786755425589427 [s], worst time: 0.07788648605346679 [s], speed: 1643.8168788422026 [img/s]\n",
      "400/ 400, avg time: 0.07789573550224305 [s], worst time: 0.07809300422668457 [s], speed: 1643.222176088371 [img/s]\n",
      "Test run 1\n",
      "50/ 400, avg time: 0.08045495510101318 [s], worst time: 0.08045495510101318 [s], speed: 1590.9523514032524 [img/s]\n",
      "100/ 400, avg time: 0.08142559051513672 [s], worst time: 0.08239622592926026 [s], speed: 1571.987371417408 [img/s]\n",
      "150/ 400, avg time: 0.08234082698822022 [s], worst time: 0.08417129993438721 [s], speed: 1554.514384684427 [img/s]\n",
      "200/ 400, avg time: 0.08283653855323792 [s], worst time: 0.08432367324829101 [s], speed: 1545.211838103739 [img/s]\n",
      "250/ 400, avg time: 0.08312078475952148 [s], worst time: 0.08432367324829101 [s], speed: 1539.9277132707487 [img/s]\n",
      "300/ 400, avg time: 0.08332261641820271 [s], worst time: 0.08433177471160888 [s], speed: 1536.1975595864394 [img/s]\n",
      "350/ 400, avg time: 0.08347032615116665 [s], worst time: 0.08435658454895019 [s], speed: 1533.4790925362997 [img/s]\n",
      "400/ 400, avg time: 0.08358226776123047 [s], worst time: 0.08436585903167725 [s], speed: 1531.425306210376 [img/s]\n",
      "Test run 2\n",
      "50/ 400, avg time: 0.08544441699981689 [s], worst time: 0.08544441699981689 [s], speed: 1498.0498959958297 [img/s]\n",
      "100/ 400, avg time: 0.08543488025665283 [s], worst time: 0.08544441699981689 [s], speed: 1498.2171171245086 [img/s]\n",
      "150/ 400, avg time: 0.08542170206705729 [s], worst time: 0.08544441699981689 [s], speed: 1498.44825029965 [img/s]\n",
      "200/ 400, avg time: 0.08542563319206238 [s], worst time: 0.08544441699981689 [s], speed: 1498.3792945639361 [img/s]\n",
      "250/ 400, avg time: 0.08543330383300782 [s], worst time: 0.08546398639678955 [s], speed: 1498.2447623727062 [img/s]\n",
      "300/ 400, avg time: 0.08543327808380126 [s], worst time: 0.08546398639678955 [s], speed: 1498.2452139369527 [img/s]\n",
      "350/ 400, avg time: 0.08543355260576521 [s], worst time: 0.08546398639678955 [s], speed: 1498.2403996549046 [img/s]\n",
      "400/ 400, avg time: 0.08543421030044555 [s], worst time: 0.08546398639678955 [s], speed: 1498.228865812229 [img/s]\n",
      "OK\n"
     ]
    }
   ],
   "source": [
    "box.append(benchmark(pipeline_box, 128, window_size=51))"
   ]
  },
  {
   "cell_type": "code",
   "execution_count": 21,
   "id": "569a9634",
   "metadata": {},
   "outputs": [
    {
     "name": "stdout",
     "output_type": "stream",
     "text": [
      "400 400\n",
      "Warm up\n",
      "50/ 400, avg time: 0.0037949514389038087 [s], worst time: 0.0037949514389038087 [s], speed: 33729.021849347686 [img/s]\n",
      "100/ 400, avg time: 0.0037889742851257326 [s], worst time: 0.0037949514389038087 [s], speed: 33782.22979830872 [img/s]\n",
      "150/ 400, avg time: 0.003774669965108236 [s], worst time: 0.0037949514389038087 [s], speed: 33910.24942132383 [img/s]\n",
      "200/ 400, avg time: 0.0037944388389587404 [s], worst time: 0.003853745460510254 [s], speed: 33733.5783847093 [img/s]\n",
      "250/ 400, avg time: 0.003785783767700195 [s], worst time: 0.003853745460510254 [s], speed: 33810.700202182445 [img/s]\n",
      "300/ 400, avg time: 0.0037961570421854653 [s], worst time: 0.003853745460510254 [s], speed: 33718.310011302856 [img/s]\n",
      "350/ 400, avg time: 0.0037932048525129046 [s], worst time: 0.003853745460510254 [s], speed: 33744.55242384369 [img/s]\n",
      "400/ 400, avg time: 0.003789963722229004 [s], worst time: 0.003853745460510254 [s], speed: 33773.41034935261 [img/s]\n",
      "Test run 1\n",
      "50/ 400, avg time: 0.003763713836669922 [s], worst time: 0.003763713836669922 [s], speed: 34008.96177411099 [img/s]\n",
      "100/ 400, avg time: 0.0037872838973999024 [s], worst time: 0.0038108539581298826 [s], speed: 33797.30790392458 [img/s]\n",
      "150/ 400, avg time: 0.0037752707799275716 [s], worst time: 0.0038108539581298826 [s], speed: 33904.85278050855 [img/s]\n",
      "200/ 400, avg time: 0.0037851762771606446 [s], worst time: 0.003814892768859863 [s], speed: 33816.126549333654 [img/s]\n",
      "250/ 400, avg time: 0.0037764053344726566 [s], worst time: 0.003814892768859863 [s], speed: 33894.66666397296 [img/s]\n",
      "300/ 400, avg time: 0.0037756776809692387 [s], worst time: 0.003814892768859863 [s], speed: 33901.19888812692 [img/s]\n",
      "350/ 400, avg time: 0.0037711954116821295 [s], worst time: 0.003814892768859863 [s], speed: 33941.49229273325 [img/s]\n",
      "400/ 400, avg time: 0.0037760436534881596 [s], worst time: 0.003814892768859863 [s], speed: 33897.91319858251 [img/s]\n",
      "Test run 2\n",
      "50/ 400, avg time: 0.00375394344329834 [s], worst time: 0.00375394344329834 [s], speed: 34097.476942149915 [img/s]\n",
      "100/ 400, avg time: 0.003763699531555176 [s], worst time: 0.003773455619812012 [s], speed: 34009.091035784644 [img/s]\n",
      "150/ 400, avg time: 0.0037571191787719727 [s], worst time: 0.003773455619812012 [s], speed: 34068.65577307485 [img/s]\n",
      "200/ 400, avg time: 0.003765949010848999 [s], worst time: 0.003792438507080078 [s], speed: 33988.77670177047 [img/s]\n",
      "250/ 400, avg time: 0.0037665357589721678 [s], worst time: 0.003792438507080078 [s], speed: 33983.48195555943 [img/s]\n",
      "300/ 400, avg time: 0.0037702123324076333 [s], worst time: 0.003792438507080078 [s], speed: 33950.34250451884 [img/s]\n",
      "350/ 400, avg time: 0.0037673970631190708 [s], worst time: 0.003792438507080078 [s], speed: 33975.71263540439 [img/s]\n",
      "400/ 400, avg time: 0.0037686121463775635 [s], worst time: 0.003792438507080078 [s], speed: 33964.75812005095 [img/s]\n",
      "OK\n"
     ]
    }
   ],
   "source": [
    "box_sep.append(benchmark(pipeline_sep_box, 128, window_size=51))"
   ]
  },
  {
   "cell_type": "code",
   "execution_count": 22,
   "id": "4ab97201",
   "metadata": {},
   "outputs": [
    {
     "name": "stdout",
     "output_type": "stream",
     "text": [
      "400 400\n",
      "Warm up\n",
      "50/ 400, avg time: 0.01124063014984131 [s], worst time: 0.01124063014984131 [s], speed: 11387.261950061318 [img/s]\n",
      "100/ 400, avg time: 0.011223690509796143 [s], worst time: 0.01124063014984131 [s], speed: 11404.448464458317 [img/s]\n",
      "150/ 400, avg time: 0.01119943618774414 [s], worst time: 0.01124063014984131 [s], speed: 11429.146776163074 [img/s]\n",
      "200/ 400, avg time: 0.011194268465042113 [s], worst time: 0.01124063014984131 [s], speed: 11434.4229281014 [img/s]\n",
      "250/ 400, avg time: 0.011190069198608397 [s], worst time: 0.01124063014984131 [s], speed: 11438.713892485861 [img/s]\n",
      "300/ 400, avg time: 0.01119010289510091 [s], worst time: 0.01124063014984131 [s], speed: 11438.679447356924 [img/s]\n",
      "350/ 400, avg time: 0.011185908317565916 [s], worst time: 0.01124063014984131 [s], speed: 11442.968810945265 [img/s]\n",
      "400/ 400, avg time: 0.011186806559562681 [s], worst time: 0.01124063014984131 [s], speed: 11442.050000460884 [img/s]\n",
      "Test run 1\n",
      "50/ 400, avg time: 0.011171650886535645 [s], worst time: 0.011171650886535645 [s], speed: 11457.572502043438 [img/s]\n",
      "100/ 400, avg time: 0.01116952419281006 [s], worst time: 0.011171650886535645 [s], speed: 11459.754040587955 [img/s]\n",
      "150/ 400, avg time: 0.011169454256693523 [s], worst time: 0.011171650886535645 [s], speed: 11459.825794379649 [img/s]\n",
      "200/ 400, avg time: 0.011168200969696045 [s], worst time: 0.011171650886535645 [s], speed: 11461.111807292598 [img/s]\n",
      "250/ 400, avg time: 0.01116901206970215 [s], worst time: 0.011172256469726562 [s], speed: 11460.279494837492 [img/s]\n",
      "300/ 400, avg time: 0.011167775789896648 [s], worst time: 0.011172256469726562 [s], speed: 11461.548154987142 [img/s]\n",
      "350/ 400, avg time: 0.011168781008039202 [s], worst time: 0.01117481231689453 [s], speed: 11460.516587071283 [img/s]\n",
      "400/ 400, avg time: 0.011169807314872743 [s], worst time: 0.011176991462707519 [s], speed: 11459.463569220781 [img/s]\n",
      "Test run 2\n",
      "50/ 400, avg time: 0.011193771362304688 [s], worst time: 0.011193771362304688 [s], speed: 11434.93071790293 [img/s]\n",
      "100/ 400, avg time: 0.01118403673171997 [s], worst time: 0.011193771362304688 [s], speed: 11444.883727623017 [img/s]\n",
      "150/ 400, avg time: 0.011181807518005371 [s], worst time: 0.011193771362304688 [s], speed: 11447.165388412343 [img/s]\n",
      "200/ 400, avg time: 0.011179487705230714 [s], worst time: 0.011193771362304688 [s], speed: 11449.540745960187 [img/s]\n",
      "250/ 400, avg time: 0.011178522109985354 [s], worst time: 0.011193771362304688 [s], speed: 11450.52975166211 [img/s]\n",
      "300/ 400, avg time: 0.01117703119913737 [s], worst time: 0.011193771362304688 [s], speed: 11452.057144644894 [img/s]\n",
      "350/ 400, avg time: 0.011175054822649275 [s], worst time: 0.011193771362304688 [s], speed: 11454.082510680246 [img/s]\n",
      "400/ 400, avg time: 0.011174281239509583 [s], worst time: 0.011193771362304688 [s], speed: 11454.875464152687 [img/s]\n",
      "OK\n"
     ]
    }
   ],
   "source": [
    "gb.append(benchmark(pipeline_gb, 128, window_size=51))"
   ]
  },
  {
   "cell_type": "code",
   "execution_count": null,
   "id": "5838974f",
   "metadata": {},
   "outputs": [],
   "source": []
  },
  {
   "cell_type": "code",
   "execution_count": 23,
   "id": "5de571e8",
   "metadata": {},
   "outputs": [
    {
     "data": {
      "image/png": "[encoded data removed]",
      "text/plain": [
       "<Figure size 432x288 with 1 Axes>"
      ]
     },
     "metadata": {
      "needs_background": "light"
     },
     "output_type": "display_data"
    }
   ],
   "source": [
    "import matplotlib.pyplot as plt\n",
    "# plot the data\n",
    "fig = plt.figure()\n",
    "ax = fig.add_subplot(1, 1, 1)\n",
    "xs = [3, 7, 11, 15, 51]\n",
    "ax.plot(xs, box, color='tab:blue')\n",
    "ax.plot(xs, gb, color='tab:orange')\n",
    "ax.plot(xs, box_sep, color='tab:green')\n",
    "plt.show()\n",
    "\n"
   ]
  }
 ],
 "metadata": {
  "kernelspec": {
   "display_name": "Python 3 (ipykernel)",
   "language": "python",
   "name": "python3"
  },
  "language_info": {
   "codemirror_mode": {
    "name": "ipython",
    "version": 3
   },
   "file_extension": ".py",
   "mimetype": "text/x-python",
   "name": "python",
   "nbconvert_exporter": "python",
   "pygments_lexer": "ipython3",
   "version": "3.8.10"
  }
 },
 "nbformat": 4,
 "nbformat_minor": 5
}

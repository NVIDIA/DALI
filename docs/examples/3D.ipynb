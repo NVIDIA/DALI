{
 "cells": [
  {
   "cell_type": "markdown",
   "metadata": {},
   "source": [
    "# 3D Transforms\n",
    "\n",
    "In this we demonstrate 3D WarpAffine and Rotate.\n",
    "\n",
    "### Warp operators\n",
    "All warp operators work by caclulating the output pixels by sampling the source image at transformed coordinates:\n",
    "\n",
    "$${Out}(x, y, z) = {In}(x_{src}, y_{src}, z_{src})$$\n",
    "\n",
    "This way each output pixel is calculated exactly once.\n",
    "\n",
    "If the source coordinates do not point exactly to pixel centers, the values of neighboring pixels will be interpolated or the nearst pixel is taken, depending on the interpolation method specified in the `interp_type` argument.\n",
    "\n",
    "### Affine transform\n",
    "\n",
    "The source sample coordinates $x_{src}, y_{src}$ are calculated according to the formula:\n",
    "\n",
    "$$\n",
    "\\begin{vmatrix}\n",
    "x_{src} \\\\\n",
    "y_{src}\n",
    "\\end{vmatrix}\n",
    "= \\begin{vmatrix}\n",
    "m_{00} & m_{01} & m_{02} & t_x \\\\\n",
    "m_{10} & m_{11} & m_{12} & t_y \\\\\n",
    "m_{20} & m_{21} & m_{22} & t_z\n",
    "\\end{vmatrix}\n",
    "\\begin{vmatrix}\n",
    "{x} \\\\\n",
    "{y} \\\\\n",
    "{z} \\\\\n",
    "1\n",
    "\\end{vmatrix}\n",
    "$$\n",
    "\n",
    "Where $x, y$ are coordinates of the destination pixel and the matrix represents the inverse (destination to source) affine transform. The \n",
    "$\\begin{vmatrix}\n",
    "m_{00} & m_{01} & m_{02} \\\\\n",
    "m_{10} & m_{11} & m_{12} \\\\\n",
    "m_{20} & m_{21} & m_{22}\n",
    "\\end{vmatrix}$ block represents a combined rotate/scale/shear transform and $t_x, t_y, t_z$ is a translation vector.\n",
    "\n",
    "### Rotation\n",
    "\n",
    "Rotate is implemented in terms of affine transform, but calculates the transform matrix internally. The output size is automatically adjusted and the size parity is adjusted to reduce blur near the volume centre. The rotation matrix is inversed so that the transform appears to work \"forward\" (source to destination). The rotation is defined by specifying axis (as a vector) and angle (in degrees).\n",
    "\n",
    "This (forward) transform is calculated as:\n",
    "\n",
    "$$\n",
    "\\begin{vmatrix}\n",
    "u^2 + (v^2 + w^2) \\cdot \\cos \\alpha &\n",
    "uv\\cdot(1-\\cos \\alpha) - w\\cdot \\sin \\alpha &\n",
    "uw\\cdot(1-\\cos \\alpha) + v\\cdot \\sin \\alpha \\\\\n",
    "uv\\cdot(1-\\cos \\alpha) - w\\cdot \\sin \\alpha &\n",
    "v^2 + (u^2 + w^2) \\cdot \\cos \\alpha &\n",
    "vw\\cdot(1-\\cos \\alpha) - u\\cdot \\sin \\alpha \\\\\n",
    "uw\\cdot(1-\\cos \\alpha) - v\\cdot \\sin \\alpha &\n",
    "vw\\cdot(1-\\cos \\alpha + u\\cdot \\sin \\alpha &\n",
    "w^2 + (u^2 + w^2) \\cdot \\cos \\alpha\n",
    "\\end{vmatrix}\n",
    "$$\n",
    "where $u, v, w$ is normalized `axis` vector and $\\alpha$ is `angle` converted from degrees to radians.\n"
   ]
  },
  {
   "cell_type": "code",
   "execution_count": 1,
   "metadata": {},
   "outputs": [
    {
     "ename": "ImportError",
     "evalue": "/home/michalz/Projects/DALI_build/release/dali/python/nvidia/dali/libdali_operators.so: version `DALI_OPERATORS_0.16.0dev' not found (required by /home/michalz/.local/lib/python3.6/site-packages/nvidia/dali/backend_impl.cpython-36m-x86_64-linux-gnu.so)",
     "output_type": "error",
     "traceback": [
      "\u001b[0;31m---------------------------------------------------------------------------\u001b[0m",
      "\u001b[0;31mImportError\u001b[0m                               Traceback (most recent call last)",
      "\u001b[0;32m<ipython-input-1-5ce008a16a59>\u001b[0m in \u001b[0;36m<module>\u001b[0;34m\u001b[0m\n\u001b[1;32m      1\u001b[0m \u001b[0;32mfrom\u001b[0m \u001b[0m__future__\u001b[0m \u001b[0;32mimport\u001b[0m \u001b[0mdivision\u001b[0m\u001b[0;34m\u001b[0m\u001b[0;34m\u001b[0m\u001b[0m\n\u001b[0;32m----> 2\u001b[0;31m \u001b[0;32mfrom\u001b[0m \u001b[0mnvidia\u001b[0m\u001b[0;34m.\u001b[0m\u001b[0mdali\u001b[0m\u001b[0;34m.\u001b[0m\u001b[0mpipeline\u001b[0m \u001b[0;32mimport\u001b[0m \u001b[0mPipeline\u001b[0m\u001b[0;34m\u001b[0m\u001b[0;34m\u001b[0m\u001b[0m\n\u001b[0m\u001b[1;32m      3\u001b[0m \u001b[0;32mimport\u001b[0m \u001b[0mnvidia\u001b[0m\u001b[0;34m.\u001b[0m\u001b[0mdali\u001b[0m\u001b[0;34m.\u001b[0m\u001b[0mops\u001b[0m \u001b[0;32mas\u001b[0m \u001b[0mops\u001b[0m\u001b[0;34m\u001b[0m\u001b[0;34m\u001b[0m\u001b[0m\n\u001b[1;32m      4\u001b[0m \u001b[0;32mimport\u001b[0m \u001b[0mnvidia\u001b[0m\u001b[0;34m.\u001b[0m\u001b[0mdali\u001b[0m\u001b[0;34m.\u001b[0m\u001b[0mtypes\u001b[0m \u001b[0;32mas\u001b[0m \u001b[0mtypes\u001b[0m\u001b[0;34m\u001b[0m\u001b[0;34m\u001b[0m\u001b[0m\n\u001b[1;32m      5\u001b[0m \u001b[0;32mimport\u001b[0m \u001b[0mnumpy\u001b[0m \u001b[0;32mas\u001b[0m \u001b[0mnp\u001b[0m\u001b[0;34m\u001b[0m\u001b[0;34m\u001b[0m\u001b[0m\n",
      "\u001b[0;32m~/.local/lib/python3.6/site-packages/nvidia/dali/__init__.py\u001b[0m in \u001b[0;36m<module>\u001b[0;34m\u001b[0m\n\u001b[1;32m     15\u001b[0m \u001b[0;32mfrom\u001b[0m \u001b[0m__future__\u001b[0m \u001b[0;32mimport\u001b[0m \u001b[0mabsolute_import\u001b[0m\u001b[0;34m\u001b[0m\u001b[0;34m\u001b[0m\u001b[0m\n\u001b[1;32m     16\u001b[0m \u001b[0;34m\u001b[0m\u001b[0m\n\u001b[0;32m---> 17\u001b[0;31m \u001b[0;32mfrom\u001b[0m \u001b[0;34m.\u001b[0m \u001b[0;32mimport\u001b[0m \u001b[0mops\u001b[0m\u001b[0;34m\u001b[0m\u001b[0;34m\u001b[0m\u001b[0m\n\u001b[0m\u001b[1;32m     18\u001b[0m \u001b[0;32mfrom\u001b[0m \u001b[0;34m.\u001b[0m \u001b[0;32mimport\u001b[0m \u001b[0mpipeline\u001b[0m\u001b[0;34m\u001b[0m\u001b[0;34m\u001b[0m\u001b[0m\n\u001b[1;32m     19\u001b[0m \u001b[0;32mfrom\u001b[0m \u001b[0;34m.\u001b[0m \u001b[0;32mimport\u001b[0m \u001b[0mtensors\u001b[0m\u001b[0;34m\u001b[0m\u001b[0;34m\u001b[0m\u001b[0m\n",
      "\u001b[0;32m~/.local/lib/python3.6/site-packages/nvidia/dali/ops.py\u001b[0m in \u001b[0;36m<module>\u001b[0;34m\u001b[0m\n\u001b[1;32m     19\u001b[0m \u001b[0;32mfrom\u001b[0m \u001b[0mitertools\u001b[0m \u001b[0;32mimport\u001b[0m \u001b[0mcount\u001b[0m\u001b[0;34m\u001b[0m\u001b[0;34m\u001b[0m\u001b[0m\n\u001b[1;32m     20\u001b[0m \u001b[0;32mimport\u001b[0m \u001b[0mthreading\u001b[0m\u001b[0;34m\u001b[0m\u001b[0;34m\u001b[0m\u001b[0m\n\u001b[0;32m---> 21\u001b[0;31m \u001b[0;32mfrom\u001b[0m \u001b[0mnvidia\u001b[0m\u001b[0;34m.\u001b[0m\u001b[0mdali\u001b[0m \u001b[0;32mimport\u001b[0m \u001b[0mbackend\u001b[0m \u001b[0;32mas\u001b[0m \u001b[0mb\u001b[0m\u001b[0;34m\u001b[0m\u001b[0;34m\u001b[0m\u001b[0m\n\u001b[0m\u001b[1;32m     22\u001b[0m \u001b[0;32mfrom\u001b[0m \u001b[0mnvidia\u001b[0m\u001b[0;34m.\u001b[0m\u001b[0mdali\u001b[0m\u001b[0;34m.\u001b[0m\u001b[0mtypes\u001b[0m \u001b[0;32mimport\u001b[0m \u001b[0m_type_name_convert_to_string\u001b[0m\u001b[0;34m,\u001b[0m \u001b[0m_type_convert_value\u001b[0m\u001b[0;34m,\u001b[0m\u001b[0;31m \u001b[0m\u001b[0;31m\\\u001b[0m\u001b[0;34m\u001b[0m\u001b[0;34m\u001b[0m\u001b[0m\n\u001b[1;32m     23\u001b[0m         \u001b[0m_vector_element_type\u001b[0m\u001b[0;34m,\u001b[0m \u001b[0m_int_types\u001b[0m\u001b[0;34m,\u001b[0m \u001b[0m_float_types\u001b[0m\u001b[0;34m,\u001b[0m \u001b[0mDALIDataType\u001b[0m\u001b[0;34m,\u001b[0m \u001b[0mCUDAStream\u001b[0m\u001b[0;34m,\u001b[0m \u001b[0mConstant\u001b[0m\u001b[0;34m\u001b[0m\u001b[0;34m\u001b[0m\u001b[0m\n",
      "\u001b[0;32m~/.local/lib/python3.6/site-packages/nvidia/dali/backend.py\u001b[0m in \u001b[0;36m<module>\u001b[0;34m\u001b[0m\n\u001b[1;32m     13\u001b[0m \u001b[0;31m# limitations under the License.\u001b[0m\u001b[0;34m\u001b[0m\u001b[0;34m\u001b[0m\u001b[0;34m\u001b[0m\u001b[0m\n\u001b[1;32m     14\u001b[0m \u001b[0;34m\u001b[0m\u001b[0m\n\u001b[0;32m---> 15\u001b[0;31m \u001b[0;32mfrom\u001b[0m \u001b[0mnvidia\u001b[0m\u001b[0;34m.\u001b[0m\u001b[0mdali\u001b[0m\u001b[0;34m.\u001b[0m\u001b[0mbackend_impl\u001b[0m \u001b[0;32mimport\u001b[0m \u001b[0;34m*\u001b[0m\u001b[0;34m\u001b[0m\u001b[0;34m\u001b[0m\u001b[0m\n\u001b[0m\u001b[1;32m     16\u001b[0m \u001b[0;32mimport\u001b[0m \u001b[0mwarnings\u001b[0m\u001b[0;34m\u001b[0m\u001b[0;34m\u001b[0m\u001b[0m\n\u001b[1;32m     17\u001b[0m \u001b[0;32mimport\u001b[0m \u001b[0mos\u001b[0m\u001b[0;34m\u001b[0m\u001b[0;34m\u001b[0m\u001b[0m\n",
      "\u001b[0;31mImportError\u001b[0m: /home/michalz/Projects/DALI_build/release/dali/python/nvidia/dali/libdali_operators.so: version `DALI_OPERATORS_0.16.0dev' not found (required by /home/michalz/.local/lib/python3.6/site-packages/nvidia/dali/backend_impl.cpython-36m-x86_64-linux-gnu.so)"
     ]
    }
   ],
   "source": [
    "from __future__ import division\n",
    "from nvidia.dali.pipeline import Pipeline\n",
    "import nvidia.dali.ops as ops\n",
    "import nvidia.dali.types as types\n",
    "import numpy as np\n",
    "import matplotlib.pyplot as plt\n",
    "import math\n",
    "import os.path"
   ]
  },
  {
   "cell_type": "markdown",
   "metadata": {},
   "source": [
    "Let's define some test data - in this case, it consists of edges of a cube"
   ]
  },
  {
   "cell_type": "code",
   "execution_count": null,
   "metadata": {},
   "outputs": [],
   "source": [
    "nvidia_green = [0x76,0xb9,00]\n",
    "violet = [0xff - 0x76, 0xff - 0xb9, 0xff]\n",
    "\n",
    "def lerp(a, b, w):\n",
    "    return a*(1-w)+b*w\n",
    "\n",
    "def build_cube(output_shape, size, color_front = nvidia_green, color_back = violet):\n",
    "    color_front = np.array(color_front)\n",
    "    color_back = np.array(color_back)\n",
    "    arr = np.zeros(output_shape + [3], np.uint8)\n",
    "    lo = (np.array(output_shape) - np.array(size)) * 0.5\n",
    "    hi = (np.array(output_shape) + np.array(size)) * 0.5\n",
    "    dims = len(output_shape)\n",
    "    for d in range(dims):\n",
    "        for c in range(int(np.rint(lo[d])), int(np.rint(hi[d]))):\n",
    "            d0 = 0\n",
    "            d1 = 1\n",
    "            if d == 0:\n",
    "                d0 = 1\n",
    "                d1 = 2\n",
    "            elif d == 1:\n",
    "                d0 = 0\n",
    "                d1 = 2\n",
    "            p = [int(x) for x in lo]\n",
    "            def color():\n",
    "                return lerp(color_front, color_back, (p[0]-lo[0])/(hi[0]-lo[0]))\n",
    "\n",
    "            p[d] = c\n",
    "            arr[p[0], p[1], p[2], :] = color()\n",
    "            p[d0] = int(np.rint(hi[d0]))\n",
    "            arr[p[0], p[1], p[2], :] = color()\n",
    "            p[d1] = int(np.rint(hi[d1]))\n",
    "            arr[p[0], p[1], p[2], :] = color()\n",
    "            p[d0] = int(np.rint(lo[d0]))\n",
    "            arr[p[0], p[1], p[2], :] = color()\n",
    "    return arr"
   ]
  },
  {
   "cell_type": "markdown",
   "metadata": {},
   "source": [
    "Now, let's define the pipeline."
   ]
  },
  {
   "cell_type": "code",
   "execution_count": null,
   "metadata": {},
   "outputs": [],
   "source": [
    "class ExamplePipeline(Pipeline):\n",
    "    def __init__(self, batch_size, num_threads, device_id, pipelined = True, exec_async = True):\n",
    "        super(ExamplePipeline, self).__init__(\n",
    "            batch_size, num_threads, device_id,\n",
    "            seed = 12, exec_pipelined=pipelined, exec_async=exec_async)\n",
    "        \n",
    "        self.input = ops.ExternalSource()\n",
    "       \n",
    "        self.rotate_gpu = ops.Rotate(\n",
    "            device = \"gpu\",\n",
    "            axis = (0.5,1,1),\n",
    "            angle = 30,\n",
    "            interp_type = types.INTERP_LINEAR # use linear interpolation\n",
    "        )\n",
    "        self.rotate_cpu = ops.Rotate(\n",
    "            device = \"cpu\",\n",
    "            axis = (0.5,1,1),\n",
    "            angle = 30,\n",
    "            interp_type = types.INTERP_LINEAR # use linear interpolation\n",
    "        )\n",
    "        \n",
    "    # Then, we can tie the operators together to form a graph\n",
    "        \n",
    "    def define_graph(self):\n",
    "        self.data = self.input()\n",
    "        outputs = [self.data.gpu()]\n",
    "        # pass the transform parameters through GPU memory\n",
    "        outputs += [self.rotate_gpu(self.data.gpu()), self.rotate_cpu(self.data).gpu()]\n",
    "\n",
    "        return outputs\n",
    "    \n",
    "    # Since we're using ExternalSource, we need to feed the externally provided data to the pipeline\n",
    "    \n",
    "    def iter_setup(self):\n",
    "        # Generate the transforms for the batch and feed them to the ExternalSource\n",
    "        self.feed_input(self.data, [build_cube([128,128,128],[80,80,80]), build_cube([160,160,160],[80,120,80])])    "
   ]
  },
  {
   "cell_type": "markdown",
   "metadata": {},
   "source": [
    "The pipeline class is now ready to use - we need to construct and build it before we run it."
   ]
  },
  {
   "cell_type": "code",
   "execution_count": null,
   "metadata": {
    "scrolled": false
   },
   "outputs": [],
   "source": [
    "batch_size = 2\n",
    "pipe = ExamplePipeline(batch_size=batch_size, num_threads=2, device_id = 0)\n",
    "pipe.build()"
   ]
  },
  {
   "cell_type": "markdown",
   "metadata": {},
   "source": [
    "Finally, we can call `run` on our pipeline to obtain the first batch of preprocessed images."
   ]
  },
  {
   "cell_type": "code",
   "execution_count": null,
   "metadata": {},
   "outputs": [],
   "source": [
    "pipe_out = pipe.run()"
   ]
  },
  {
   "cell_type": "markdown",
   "metadata": {},
   "source": [
    "## Example output\n",
    "\n",
    "Now that we've processed the first batch of images, let's see the results. The output is projected by taking maximum intensity values along Z axis."
   ]
  },
  {
   "cell_type": "code",
   "execution_count": null,
   "metadata": {},
   "outputs": [],
   "source": [
    "n = 1  # change this value to see other images from the batch;\n",
    "       # it must be in 0..batch_size-1 range\n",
    "\n",
    "def project_volume(volume):\n",
    "    return np.amax(volume, axis = 0)    \n",
    "\n",
    "from synsets import imagenet_synsets\n",
    "import matplotlib.gridspec as gridspec\n",
    "\n",
    "len_outputs = len(pipe_out)\n",
    "\n",
    "captions = [\"original\",\n",
    "            \"rotated (gpu)\", \"rotated (cpu)\"]\n",
    "\n",
    "fig = plt.figure(figsize = (16,12))\n",
    "plt.suptitle(\"3D rotate\", fontsize=16)\n",
    "columns = 2\n",
    "rows = int(math.ceil(len_outputs / columns))\n",
    "gs = gridspec.GridSpec(rows, columns)\n",
    "\n",
    "for i in range(len_outputs):\n",
    "    plt.subplot(gs[i])\n",
    "    plt.axis(\"off\")\n",
    "    plt.title(captions[i])\n",
    "    pipe_out_cpu = pipe_out[i].as_cpu()\n",
    "    img = project_volume(pipe_out_cpu.at(n)) * (1 / 255.0)\n",
    "    plt.imshow(img)"
   ]
  },
  {
   "cell_type": "code",
   "execution_count": null,
   "metadata": {},
   "outputs": [],
   "source": []
  }
 ],
 "metadata": {
  "kernelspec": {
   "display_name": "Python 3",
   "language": "python",
   "name": "python3"
  },
  "language_info": {
   "codemirror_mode": {
    "name": "ipython",
    "version": 3
   },
   "file_extension": ".py",
   "mimetype": "text/x-python",
   "name": "python",
   "nbconvert_exporter": "python",
   "pygments_lexer": "ipython3",
   "version": "3.6.9"
  }
 },
 "nbformat": 4,
 "nbformat_minor": 2
}

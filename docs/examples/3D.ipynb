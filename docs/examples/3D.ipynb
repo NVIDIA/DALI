{
 "cells": [
  {
   "cell_type": "markdown",
   "metadata": {},
   "source": [
    "# 3D Transforms\n",
    "\n",
    "In this we demonstrate 3D WarpAffine and Rotate"
   ]
  },
  {
   "cell_type": "code",
   "execution_count": 1,
   "metadata": {},
   "outputs": [],
   "source": [
    "from __future__ import division\n",
    "from nvidia.dali.pipeline import Pipeline\n",
    "import nvidia.dali.ops as ops\n",
    "import nvidia.dali.types as types\n",
    "import numpy as np\n",
    "import matplotlib.pyplot as plt\n",
    "import math\n",
    "import os.path"
   ]
  },
  {
   "cell_type": "markdown",
   "metadata": {},
   "source": [
    "Let's define some test data - in this case, it consists of edges of a cube"
   ]
  },
  {
   "cell_type": "code",
   "execution_count": 2,
   "metadata": {},
   "outputs": [],
   "source": [
    "nvidia_green = [0x76,0xb9,0.0]\n",
    "\n",
    "def build_cube(output_shape, size, color = nvidia_green):\n",
    "    color = np.array(color)\n",
    "    arr = np.zeros(output_shape + [3], np.uint8)\n",
    "    lo = (np.array(output_shape) - np.array(size)) * 0.5\n",
    "    hi = (np.array(output_shape) + np.array(size)) * 0.5\n",
    "    dims = len(output_shape)\n",
    "    for d in range(dims):\n",
    "        for c in range(int(np.rint(lo[d])), int(np.rint(hi[d]))):\n",
    "            d0 = 0\n",
    "            d1 = 1\n",
    "            if d == 0:\n",
    "                d0 = 1\n",
    "                d1 = 2\n",
    "            elif d == 1:\n",
    "                d0 = 0\n",
    "                d1 = 2\n",
    "            p = [int(x) for x in lo]\n",
    "            p[d] = c\n",
    "            arr[p[0], p[1], p[2], :] = color\n",
    "            p[d0] = int(np.rint(hi[d0]))\n",
    "            arr[p[0], p[1], p[2], :] = color\n",
    "            p[d1] = int(np.rint(hi[d1]))\n",
    "            arr[p[0], p[1], p[2], :] = color\n",
    "            p[d0] = int(np.rint(lo[d0]))\n",
    "            arr[p[0], p[1], p[2], :] = color\n",
    "    return arr"
   ]
  },
  {
   "cell_type": "markdown",
   "metadata": {},
   "source": [
    "Now, let's define the pipeline."
   ]
  },
  {
   "cell_type": "code",
   "execution_count": 3,
   "metadata": {},
   "outputs": [],
   "source": [
    "class ExamplePipeline(Pipeline):\n",
    "    def __init__(self, batch_size, num_threads, device_id, pipelined = True, exec_async = True):\n",
    "        super(ExamplePipeline, self).__init__(\n",
    "            batch_size, num_threads, device_id,\n",
    "            seed = 12, exec_pipelined=pipelined, exec_async=exec_async)\n",
    "        \n",
    "        self.input = ops.ExternalSource()\n",
    "       \n",
    "        self.rotate_gpu = ops.Rotate(\n",
    "            device = \"gpu\",\n",
    "            axis = (0.5,1,1),\n",
    "            angle = 30,\n",
    "            interp_type = types.INTERP_LINEAR # use linear interpolation\n",
    "        )\n",
    "        self.rotate_cpu = ops.Rotate(\n",
    "            device = \"cpu\",\n",
    "            axis = (0.5,1,1),\n",
    "            angle = 30,\n",
    "            interp_type = types.INTERP_LINEAR # use linear interpolation\n",
    "        )\n",
    "        \n",
    "    # Then, we can tie the operators together to form a graph\n",
    "        \n",
    "    def define_graph(self):\n",
    "        self.data = self.input()\n",
    "        outputs = [self.data.gpu()]\n",
    "        # pass the transform parameters through GPU memory\n",
    "        outputs += [self.rotate_gpu(self.data.gpu()), self.rotate_cpu(self.data).gpu()]\n",
    "\n",
    "        return outputs\n",
    "    \n",
    "    # Since we're using ExternalSource, we need to feed the externally provided data to the pipeline\n",
    "    \n",
    "    def iter_setup(self):\n",
    "        # Generate the transforms for the batch and feed them to the ExternalSource\n",
    "        self.feed_input(self.data, [build_cube([128,128,128],[80,80,80],nvidia_green)])    "
   ]
  },
  {
   "cell_type": "markdown",
   "metadata": {},
   "source": [
    "The pipeline class is now ready to use - we need to construct and build it before we run it."
   ]
  },
  {
   "cell_type": "code",
   "execution_count": 4,
   "metadata": {
    "scrolled": false
   },
   "outputs": [],
   "source": [
    "batch_size = 1\n",
    "pipe = ExamplePipeline(batch_size=batch_size, num_threads=2, device_id = 0)\n",
    "pipe.build()"
   ]
  },
  {
   "cell_type": "markdown",
   "metadata": {},
   "source": [
    "Finally, we can call `run` on our pipeline to obtain the first batch of preprocessed images."
   ]
  },
  {
   "cell_type": "code",
   "execution_count": 5,
   "metadata": {},
   "outputs": [],
   "source": [
    "pipe_out = pipe.run()"
   ]
  },
  {
   "cell_type": "markdown",
   "metadata": {},
   "source": [
    "## Example output\n",
    "\n",
    "Now that we've processed the first batch of images, let's see the results. The output is projected by taking maximum intensity values along Z axis."
   ]
  },
  {
   "cell_type": "code",
   "execution_count": 6,
   "metadata": {},
   "outputs": [
    {
     "name": "stdout",
     "output_type": "stream",
     "text": [
      "(128, 128, 128, 3)\n",
      "(188, 180, 200, 3)\n",
      "(188, 180, 200, 3)\n"
     ]
    },
    {
     "data": {
      "image/png": "[encoded data removed]",
      "text/plain": [
       "<Figure size 1152x864 with 3 Axes>"
      ]
     },
     "metadata": {
      "needs_background": "light"
     },
     "output_type": "display_data"
    }
   ],
   "source": [
    "n = 0  # change this value to see other images from the batch;\n",
    "       # it must be in 0..batch_size-1 range\n",
    "\n",
    "def project_volume(volume):\n",
    "    return np.amax(volume, axis = 0)    \n",
    "\n",
    "from synsets import imagenet_synsets\n",
    "import matplotlib.gridspec as gridspec\n",
    "\n",
    "len_outputs = len(pipe_out)\n",
    "\n",
    "captions = [\"original\",\n",
    "            \"rotated (gpu)\", \"rotated (cpu)\"]\n",
    "\n",
    "fig = plt.figure(figsize = (16,12))\n",
    "plt.suptitle(\"3D rotate\", fontsize=16)\n",
    "columns = 2\n",
    "rows = int(math.ceil(len_outputs / columns))\n",
    "gs = gridspec.GridSpec(rows, columns)\n",
    "\n",
    "for i in range(len_outputs):\n",
    "    plt.subplot(gs[i])\n",
    "    plt.axis(\"off\")\n",
    "    plt.title(captions[i])\n",
    "    pipe_out_cpu = pipe_out[i].as_cpu()\n",
    "    img = project_volume(pipe_out_cpu.at(n)) * (1 / 255.0)\n",
    "    print(pipe_out_cpu.at(n).shape)\n",
    "    plt.imshow(img)"
   ]
  },
  {
   "cell_type": "code",
   "execution_count": null,
   "metadata": {},
   "outputs": [],
   "source": []
  }
 ],
 "metadata": {
  "kernelspec": {
   "display_name": "Python 3",
   "language": "python",
   "name": "python3"
  },
  "language_info": {
   "codemirror_mode": {
    "name": "ipython",
    "version": 3
   },
   "file_extension": ".py",
   "mimetype": "text/x-python",
   "name": "python",
   "nbconvert_exporter": "python",
   "pygments_lexer": "ipython3",
   "version": "3.6.9"
  }
 },
 "nbformat": 4,
 "nbformat_minor": 2
}
